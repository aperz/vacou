{
 "cells": [
  {
   "cell_type": "markdown",
   "metadata": {},
   "source": [
    "# TODO\n",
    "\n",
    "- NEED MORE DATA POINTS\n",
    "- dendrogram: which groups are closest"
   ]
  },
  {
   "cell_type": "code",
   "execution_count": 3,
   "metadata": {
    "collapsed": false
   },
   "outputs": [
    {
     "name": "stdout",
     "output_type": "stream",
     "text": [
      "The autoreload extension is already loaded. To reload it, use:\n",
      "  %reload_ext autoreload\n"
     ]
    }
   ],
   "source": [
    "%load_ext autoreload\n",
    "%autoreload 2\n",
    "\n",
    "import pandas as pd\n",
    "import numpy as np\n",
    "from vacou import *\n",
    "from plots import *\n",
    "\n",
    "import seaborn as sns\n",
    "import matplotlib.pyplot as plt\n",
    "%matplotlib inline\n",
    "sns.set(color_codes=True)\n",
    "sns.set(style=\"white\")\n",
    "#sns.set(font=\"monospace\")"
   ]
  },
  {
   "cell_type": "code",
   "execution_count": 6,
   "metadata": {
    "collapsed": true
   },
   "outputs": [],
   "source": [
    "data_fp = '/P/vacou/data_ss31.tsv'\n",
    "#d_orig = pd.read_csv(data_fp, sep='\\t')"
   ]
  },
  {
   "cell_type": "code",
   "execution_count": 7,
   "metadata": {
    "collapsed": false
   },
   "outputs": [],
   "source": [
    "d, md, full_df = preprocess_vc(data_fp)"
   ]
  },
  {
   "cell_type": "markdown",
   "metadata": {},
   "source": [
    "# Exploratory"
   ]
  },
  {
   "cell_type": "code",
   "execution_count": 9,
   "metadata": {
    "collapsed": false
   },
   "outputs": [
    {
     "data": {
      "text/plain": [
       "['vc',\n",
       " 'Group',\n",
       " 'Animal',\n",
       " 'Trial',\n",
       " 'Run_Duration_(s)_Mean',\n",
       " 'Run_Average_Speed_(cm/s)_Mean',\n",
       " 'Run_Maximum_Variation_(%)_Mean',\n",
       " 'RF_Stand_(s)_Mean',\n",
       " 'RF_StandIndex_Mean',\n",
       " 'RF_MaxContactAt_(%)_Mean',\n",
       " 'RF_MaxContactArea_(cm²)_Mean',\n",
       " 'RF_MaxContactMaxIntensity_Mean',\n",
       " 'RF_MaxContactMeanIntensity_Mean',\n",
       " 'RF_PrintLength_(cm)_Mean',\n",
       " 'RF_PrintWidth_(cm)_Mean',\n",
       " 'RF_PrintArea_(cm²)_Mean',\n",
       " 'RF_MaxIntensityAt_(%)_Mean',\n",
       " 'RF_MaxIntensity_Mean',\n",
       " 'RF_MinIntensity_Mean',\n",
       " 'RF_MeanIntensity_Mean',\n",
       " 'RF_MeanIntensityOfThe15MostIntensePixels_Mean',\n",
       " 'RF_Swing_(s)_Mean',\n",
       " 'RF_SwingSpeed_(cm/s)_Mean',\n",
       " 'RF_StrideLength_(cm)_Mean',\n",
       " 'RF_StepCycle_(s)_Mean',\n",
       " 'RF_DutyCycle_(%)_Mean',\n",
       " 'RF_SingleStance_(s)_Mean',\n",
       " 'RF_InitialDualStance_(s)_Mean',\n",
       " 'RF_TerminalDualStance_(s)_Mean',\n",
       " 'RF_BodySpeed_(cm/s)_Mean',\n",
       " 'RF_BodySpeedVariation_(%)_Mean',\n",
       " 'RH_Stand_(s)_Mean',\n",
       " 'RH_StandIndex_Mean',\n",
       " 'RH_MaxContactAt_(%)_Mean',\n",
       " 'RH_MaxContactArea_(cm²)_Mean',\n",
       " 'RH_MaxContactMaxIntensity_Mean',\n",
       " 'RH_MaxContactMeanIntensity_Mean',\n",
       " 'RH_PrintLength_(cm)_Mean',\n",
       " 'RH_PrintWidth_(cm)_Mean',\n",
       " 'RH_PrintArea_(cm²)_Mean',\n",
       " 'RH_MaxIntensityAt_(%)_Mean',\n",
       " 'RH_MaxIntensity_Mean',\n",
       " 'RH_MinIntensity_Mean',\n",
       " 'RH_MeanIntensity_Mean',\n",
       " 'RH_MeanIntensityOfThe15MostIntensePixels_Mean',\n",
       " 'RH_Swing_(s)_Mean',\n",
       " 'RH_SwingSpeed_(cm/s)_Mean',\n",
       " 'RH_StrideLength_(cm)_Mean',\n",
       " 'RH_StepCycle_(s)_Mean',\n",
       " 'RH_DutyCycle_(%)_Mean',\n",
       " 'RH_SingleStance_(s)_Mean',\n",
       " 'RH_InitialDualStance_(s)_Mean',\n",
       " 'RH_TerminalDualStance_(s)_Mean',\n",
       " 'RH_BodySpeed_(cm/s)_Mean',\n",
       " 'RH_BodySpeedVariation_(%)_Mean',\n",
       " 'LF_Stand_(s)_Mean',\n",
       " 'LF_StandIndex_Mean',\n",
       " 'LF_MaxContactAt_(%)_Mean',\n",
       " 'LF_MaxContactArea_(cm²)_Mean',\n",
       " 'LF_MaxContactMaxIntensity_Mean',\n",
       " 'LF_MaxContactMeanIntensity_Mean',\n",
       " 'LF_PrintLength_(cm)_Mean',\n",
       " 'LF_PrintWidth_(cm)_Mean',\n",
       " 'LF_PrintArea_(cm²)_Mean',\n",
       " 'LF_MaxIntensityAt_(%)_Mean',\n",
       " 'LF_MaxIntensity_Mean',\n",
       " 'LF_MinIntensity_Mean',\n",
       " 'LF_MeanIntensity_Mean',\n",
       " 'LF_MeanIntensityOfThe15MostIntensePixels_Mean',\n",
       " 'LF_Swing_(s)_Mean',\n",
       " 'LF_SwingSpeed_(cm/s)_Mean',\n",
       " 'LF_StrideLength_(cm)_Mean',\n",
       " 'LF_StepCycle_(s)_Mean',\n",
       " 'LF_DutyCycle_(%)_Mean',\n",
       " 'LF_SingleStance_(s)_Mean',\n",
       " 'LF_InitialDualStance_(s)_Mean',\n",
       " 'LF_TerminalDualStance_(s)_Mean',\n",
       " 'LF_BodySpeed_(cm/s)_Mean',\n",
       " 'LF_BodySpeedVariation_(%)_Mean',\n",
       " 'LH_Stand_(s)_Mean',\n",
       " 'LH_StandIndex_Mean',\n",
       " 'LH_MaxContactAt_(%)_Mean',\n",
       " 'LH_MaxContactArea_(cm²)_Mean',\n",
       " 'LH_MaxContactMaxIntensity_Mean',\n",
       " 'LH_MaxContactMeanIntensity_Mean',\n",
       " 'LH_PrintLength_(cm)_Mean',\n",
       " 'LH_PrintWidth_(cm)_Mean',\n",
       " 'LH_PrintArea_(cm²)_Mean',\n",
       " 'LH_MaxIntensityAt_(%)_Mean',\n",
       " 'LH_MaxIntensity_Mean',\n",
       " 'LH_MinIntensity_Mean',\n",
       " 'LH_MeanIntensity_Mean',\n",
       " 'LH_MeanIntensityOfThe15MostIntensePixels_Mean',\n",
       " 'LH_Swing_(s)_Mean',\n",
       " 'LH_SwingSpeed_(cm/s)_Mean',\n",
       " 'LH_StrideLength_(cm)_Mean',\n",
       " 'LH_StepCycle_(s)_Mean',\n",
       " 'LH_DutyCycle_(%)_Mean',\n",
       " 'LH_SingleStance_(s)_Mean',\n",
       " 'LH_InitialDualStance_(s)_Mean',\n",
       " 'LH_TerminalDualStance_(s)_Mean',\n",
       " 'LH_BodySpeed_(cm/s)_Mean',\n",
       " 'LH_BodySpeedVariation_(%)_Mean',\n",
       " 'FP_Stand_(s)_Mean',\n",
       " 'FP_StandIndex_Mean',\n",
       " 'FP_MaxContactAt_(%)_Mean',\n",
       " 'FP_MaxContactArea_(cm²)_Mean',\n",
       " 'FP_MaxContactMaxIntensity_Mean',\n",
       " 'FP_MaxContactMeanIntensity_Mean',\n",
       " 'FP_PrintLength_(cm)_Mean',\n",
       " 'FP_PrintWidth_(cm)_Mean',\n",
       " 'FP_PrintArea_(cm²)_Mean',\n",
       " 'FP_MaxIntensityAt_(%)_Mean',\n",
       " 'FP_MaxIntensity_Mean',\n",
       " 'FP_MinIntensity_Mean',\n",
       " 'FP_MeanIntensity_Mean',\n",
       " 'FP_MeanIntensityOfThe15MostIntensePixels_Mean',\n",
       " 'FP_Swing_(s)_Mean',\n",
       " 'FP_SwingSpeed_(cm/s)_Mean',\n",
       " 'FP_StrideLength_(cm)_Mean',\n",
       " 'FP_StepCycle_(s)_Mean',\n",
       " 'FP_DutyCycle_(%)_Mean',\n",
       " 'FP_SingleStance_(s)_Mean',\n",
       " 'FP_InitialDualStance_(s)_Mean',\n",
       " 'FP_TerminalDualStance_(s)_Mean',\n",
       " 'FP_BodySpeed_(cm/s)_Mean',\n",
       " 'FP_BodySpeedVariation_(%)_Mean',\n",
       " 'HP_Stand_(s)_Mean',\n",
       " 'HP_StandIndex_Mean',\n",
       " 'HP_MaxContactAt_(%)_Mean',\n",
       " 'HP_MaxContactArea_(cm²)_Mean',\n",
       " 'HP_MaxContactMaxIntensity_Mean',\n",
       " 'HP_MaxContactMeanIntensity_Mean',\n",
       " 'HP_PrintLength_(cm)_Mean',\n",
       " 'HP_PrintWidth_(cm)_Mean',\n",
       " 'HP_PrintArea_(cm²)_Mean',\n",
       " 'HP_MaxIntensityAt_(%)_Mean',\n",
       " 'HP_MaxIntensity_Mean',\n",
       " 'HP_MinIntensity_Mean',\n",
       " 'HP_MeanIntensity_Mean',\n",
       " 'HP_MeanIntensityOfThe15MostIntensePixels_Mean',\n",
       " 'HP_Swing_(s)_Mean',\n",
       " 'HP_SwingSpeed_(cm/s)_Mean',\n",
       " 'HP_StrideLength_(cm)_Mean',\n",
       " 'HP_StepCycle_(s)_Mean',\n",
       " 'HP_DutyCycle_(%)_Mean',\n",
       " 'HP_SingleStance_(s)_Mean',\n",
       " 'HP_InitialDualStance_(s)_Mean',\n",
       " 'HP_TerminalDualStance_(s)_Mean',\n",
       " 'HP_BodySpeed_(cm/s)_Mean',\n",
       " 'HP_BodySpeedVariation_(%)_Mean',\n",
       " 'StepSequence_NumberOfPatterns',\n",
       " 'StepSequence_CA_(%)',\n",
       " 'StepSequence_CB_(%)',\n",
       " 'StepSequence_AA_(%)',\n",
       " 'StepSequence_AB_(%)',\n",
       " 'StepSequence_RA_(%)',\n",
       " 'StepSequence_RB_(%)',\n",
       " 'StepSequence_RegularityIndex_(%)',\n",
       " 'BOS_FrontPaws_Mean_(cm)',\n",
       " 'BOS_HindPaws_Mean_(cm)',\n",
       " 'OtherStatistics_Duration_Mean',\n",
       " 'OtherStatistics_Average_Speed_Mean',\n",
       " 'OtherStatistics_Maximum_Variation_(%)_Mean',\n",
       " 'OtherStatistics_NumberOfSteps',\n",
       " 'OtherStatistics_Cadence',\n",
       " 'PrintPositions_RightPaws_Mean_(cm)',\n",
       " 'PrintPositions_LeftPaws_Mean_(cm)',\n",
       " 'PhaseDispersions_RF->LH_Mean',\n",
       " 'PhaseDispersions_RF->LH_CStat_Mean',\n",
       " 'PhaseDispersions_RF->LH_CStat_R',\n",
       " 'PhaseDispersions_LF->RH_Mean',\n",
       " 'PhaseDispersions_LF->RH_CStat_Mean',\n",
       " 'PhaseDispersions_LF->RH_CStat_R',\n",
       " 'PhaseDispersions_LH->RH_Mean',\n",
       " 'PhaseDispersions_LH->RH_CStat_Mean',\n",
       " 'PhaseDispersions_LH->RH_CStat_R',\n",
       " 'PhaseDispersions_LF->RF_Mean',\n",
       " 'PhaseDispersions_LF->RF_CStat_Mean',\n",
       " 'PhaseDispersions_LF->RF_CStat_R',\n",
       " 'PhaseDispersions_RF->RH_Mean',\n",
       " 'PhaseDispersions_RF->RH_CStat_Mean',\n",
       " 'PhaseDispersions_RF->RH_CStat_R',\n",
       " 'PhaseDispersions_LF->LH_Mean',\n",
       " 'PhaseDispersions_LF->LH_CStat_Mean',\n",
       " 'PhaseDispersions_LF->LH_CStat_R',\n",
       " 'Couplings_RF->LH_Mean',\n",
       " 'Couplings_RF->LH_CStat_Mean',\n",
       " 'Couplings_RF->LH_CStat_R',\n",
       " 'Couplings_LF->RH_Mean',\n",
       " 'Couplings_LF->RH_CStat_Mean',\n",
       " 'Couplings_LF->RH_CStat_R',\n",
       " 'Couplings_LH->RF_Mean',\n",
       " 'Couplings_LH->RF_CStat_Mean',\n",
       " 'Couplings_LH->RF_CStat_R',\n",
       " 'Couplings_RH->LF_Mean',\n",
       " 'Couplings_RH->LF_CStat_Mean',\n",
       " 'Couplings_RH->LF_CStat_R',\n",
       " 'Couplings_LH->RH_Mean',\n",
       " 'Couplings_LH->RH_CStat_Mean',\n",
       " 'Couplings_LH->RH_CStat_R',\n",
       " 'Couplings_LF->RF_Mean',\n",
       " 'Couplings_LF->RF_CStat_Mean',\n",
       " 'Couplings_LF->RF_CStat_R',\n",
       " 'Couplings_RH->LH_Mean',\n",
       " 'Couplings_RH->LH_CStat_Mean',\n",
       " 'Couplings_RH->LH_CStat_R',\n",
       " 'Couplings_RF->LF_Mean',\n",
       " 'Couplings_RF->LF_CStat_Mean',\n",
       " 'Couplings_RF->LF_CStat_R',\n",
       " 'Couplings_RF->RH_Mean',\n",
       " 'Couplings_RF->RH_CStat_Mean',\n",
       " 'Couplings_RF->RH_CStat_R',\n",
       " 'Couplings_LF->LH_Mean',\n",
       " 'Couplings_LF->LH_CStat_Mean',\n",
       " 'Couplings_LF->LH_CStat_R',\n",
       " 'Couplings_RH->RF_Mean',\n",
       " 'Couplings_RH->RF_CStat_Mean',\n",
       " 'Couplings_RH->RF_CStat_R',\n",
       " 'Couplings_LH->LF_Mean',\n",
       " 'Couplings_LH->LF_CStat_Mean',\n",
       " 'Couplings_LH->LF_CStat_R',\n",
       " 'Support_Zero_(%)',\n",
       " 'Support_Single_(%)',\n",
       " 'Support_Diagonal_(%)',\n",
       " 'Support_Girdle_(%)',\n",
       " 'Support_Lateral_(%)',\n",
       " 'Support_Three_(%)',\n",
       " 'Support_Four_(%)']"
      ]
     },
     "execution_count": 9,
     "metadata": {},
     "output_type": "execute_result"
    }
   ],
   "source": [
    "full_df.columns.tolist()"
   ]
  },
  {
   "cell_type": "code",
   "execution_count": 10,
   "metadata": {
    "collapsed": false
   },
   "outputs": [
    {
     "data": {
      "text/html": [
       "<div>\n",
       "<table border=\"1\" class=\"dataframe\">\n",
       "  <thead>\n",
       "    <tr style=\"text-align: right;\">\n",
       "      <th></th>\n",
       "      <th>Run_Duration_(s)_Mean</th>\n",
       "      <th>Run_Average_Speed_(cm/s)_Mean</th>\n",
       "      <th>Run_Maximum_Variation_(%)_Mean</th>\n",
       "      <th>RF_Stand_(s)_Mean</th>\n",
       "      <th>RF_StandIndex_Mean</th>\n",
       "      <th>RF_MaxContactAt_(%)_Mean</th>\n",
       "      <th>RF_MaxContactArea_(cm²)_Mean</th>\n",
       "      <th>RF_MaxContactMaxIntensity_Mean</th>\n",
       "      <th>RF_MaxContactMeanIntensity_Mean</th>\n",
       "      <th>RF_PrintLength_(cm)_Mean</th>\n",
       "      <th>...</th>\n",
       "      <th>Couplings_LH-&gt;LF_Mean</th>\n",
       "      <th>Couplings_LH-&gt;LF_CStat_Mean</th>\n",
       "      <th>Couplings_LH-&gt;LF_CStat_R</th>\n",
       "      <th>Support_Zero_(%)</th>\n",
       "      <th>Support_Single_(%)</th>\n",
       "      <th>Support_Diagonal_(%)</th>\n",
       "      <th>Support_Girdle_(%)</th>\n",
       "      <th>Support_Lateral_(%)</th>\n",
       "      <th>Support_Three_(%)</th>\n",
       "      <th>Support_Four_(%)</th>\n",
       "    </tr>\n",
       "  </thead>\n",
       "  <tbody>\n",
       "    <tr>\n",
       "      <th>count</th>\n",
       "      <td>45.000000</td>\n",
       "      <td>45.000000</td>\n",
       "      <td>45.000000</td>\n",
       "      <td>45.000000</td>\n",
       "      <td>45.000000</td>\n",
       "      <td>45.000000</td>\n",
       "      <td>45.000000</td>\n",
       "      <td>45.000000</td>\n",
       "      <td>45.000000</td>\n",
       "      <td>45.000000</td>\n",
       "      <td>...</td>\n",
       "      <td>45.000000</td>\n",
       "      <td>45.000000</td>\n",
       "      <td>45.000000</td>\n",
       "      <td>45.000000</td>\n",
       "      <td>45.000000</td>\n",
       "      <td>45.000000</td>\n",
       "      <td>45.000000</td>\n",
       "      <td>45.000000</td>\n",
       "      <td>45.000000</td>\n",
       "      <td>45.000000</td>\n",
       "    </tr>\n",
       "    <tr>\n",
       "      <th>mean</th>\n",
       "      <td>4.631186</td>\n",
       "      <td>15.492489</td>\n",
       "      <td>51.529949</td>\n",
       "      <td>0.230433</td>\n",
       "      <td>-3.023624</td>\n",
       "      <td>39.615562</td>\n",
       "      <td>0.428536</td>\n",
       "      <td>142.793486</td>\n",
       "      <td>73.484871</td>\n",
       "      <td>0.986736</td>\n",
       "      <td>...</td>\n",
       "      <td>48.672825</td>\n",
       "      <td>48.354819</td>\n",
       "      <td>0.813539</td>\n",
       "      <td>0.018159</td>\n",
       "      <td>1.230350</td>\n",
       "      <td>56.223378</td>\n",
       "      <td>2.212682</td>\n",
       "      <td>0.706064</td>\n",
       "      <td>30.573390</td>\n",
       "      <td>9.035976</td>\n",
       "    </tr>\n",
       "    <tr>\n",
       "      <th>std</th>\n",
       "      <td>0.826640</td>\n",
       "      <td>4.447181</td>\n",
       "      <td>16.465925</td>\n",
       "      <td>0.034025</td>\n",
       "      <td>0.774734</td>\n",
       "      <td>5.762326</td>\n",
       "      <td>0.108228</td>\n",
       "      <td>16.103326</td>\n",
       "      <td>8.310848</td>\n",
       "      <td>0.137407</td>\n",
       "      <td>...</td>\n",
       "      <td>2.735637</td>\n",
       "      <td>2.793255</td>\n",
       "      <td>0.079611</td>\n",
       "      <td>0.087132</td>\n",
       "      <td>0.819881</td>\n",
       "      <td>8.201361</td>\n",
       "      <td>3.292262</td>\n",
       "      <td>0.599458</td>\n",
       "      <td>5.838240</td>\n",
       "      <td>4.262897</td>\n",
       "    </tr>\n",
       "    <tr>\n",
       "      <th>min</th>\n",
       "      <td>2.743659</td>\n",
       "      <td>8.233310</td>\n",
       "      <td>23.000000</td>\n",
       "      <td>0.164427</td>\n",
       "      <td>-5.539478</td>\n",
       "      <td>25.672339</td>\n",
       "      <td>0.214033</td>\n",
       "      <td>106.707317</td>\n",
       "      <td>58.552967</td>\n",
       "      <td>0.751865</td>\n",
       "      <td>...</td>\n",
       "      <td>42.860225</td>\n",
       "      <td>40.925879</td>\n",
       "      <td>0.600035</td>\n",
       "      <td>0.000000</td>\n",
       "      <td>0.000000</td>\n",
       "      <td>41.612903</td>\n",
       "      <td>0.182983</td>\n",
       "      <td>0.000000</td>\n",
       "      <td>14.995788</td>\n",
       "      <td>2.623360</td>\n",
       "    </tr>\n",
       "    <tr>\n",
       "      <th>25%</th>\n",
       "      <td>3.985813</td>\n",
       "      <td>13.795579</td>\n",
       "      <td>42.000000</td>\n",
       "      <td>0.201762</td>\n",
       "      <td>-3.471036</td>\n",
       "      <td>34.480518</td>\n",
       "      <td>0.358367</td>\n",
       "      <td>135.054054</td>\n",
       "      <td>66.615342</td>\n",
       "      <td>0.883123</td>\n",
       "      <td>...</td>\n",
       "      <td>46.883446</td>\n",
       "      <td>46.631101</td>\n",
       "      <td>0.770077</td>\n",
       "      <td>0.000000</td>\n",
       "      <td>0.618812</td>\n",
       "      <td>48.133199</td>\n",
       "      <td>0.448430</td>\n",
       "      <td>0.178333</td>\n",
       "      <td>26.779463</td>\n",
       "      <td>5.412794</td>\n",
       "    </tr>\n",
       "    <tr>\n",
       "      <th>50%</th>\n",
       "      <td>4.605380</td>\n",
       "      <td>14.787200</td>\n",
       "      <td>50.200000</td>\n",
       "      <td>0.235737</td>\n",
       "      <td>-2.845816</td>\n",
       "      <td>40.175398</td>\n",
       "      <td>0.438507</td>\n",
       "      <td>142.527778</td>\n",
       "      <td>70.556728</td>\n",
       "      <td>1.014476</td>\n",
       "      <td>...</td>\n",
       "      <td>48.719175</td>\n",
       "      <td>48.491783</td>\n",
       "      <td>0.826017</td>\n",
       "      <td>0.000000</td>\n",
       "      <td>1.191121</td>\n",
       "      <td>57.310268</td>\n",
       "      <td>0.911641</td>\n",
       "      <td>0.631136</td>\n",
       "      <td>30.180426</td>\n",
       "      <td>8.791209</td>\n",
       "    </tr>\n",
       "    <tr>\n",
       "      <th>75%</th>\n",
       "      <td>5.361413</td>\n",
       "      <td>16.656712</td>\n",
       "      <td>59.400000</td>\n",
       "      <td>0.259026</td>\n",
       "      <td>-2.522384</td>\n",
       "      <td>42.746750</td>\n",
       "      <td>0.513800</td>\n",
       "      <td>152.180556</td>\n",
       "      <td>81.102032</td>\n",
       "      <td>1.105587</td>\n",
       "      <td>...</td>\n",
       "      <td>50.538607</td>\n",
       "      <td>50.184982</td>\n",
       "      <td>0.856933</td>\n",
       "      <td>0.000000</td>\n",
       "      <td>1.693480</td>\n",
       "      <td>62.602515</td>\n",
       "      <td>2.274642</td>\n",
       "      <td>0.950570</td>\n",
       "      <td>34.510595</td>\n",
       "      <td>11.486963</td>\n",
       "    </tr>\n",
       "    <tr>\n",
       "      <th>max</th>\n",
       "      <td>6.077211</td>\n",
       "      <td>36.367256</td>\n",
       "      <td>99.100000</td>\n",
       "      <td>0.288616</td>\n",
       "      <td>-1.907316</td>\n",
       "      <td>52.107865</td>\n",
       "      <td>0.646166</td>\n",
       "      <td>174.225000</td>\n",
       "      <td>88.569989</td>\n",
       "      <td>1.205004</td>\n",
       "      <td>...</td>\n",
       "      <td>54.737913</td>\n",
       "      <td>54.550278</td>\n",
       "      <td>0.949842</td>\n",
       "      <td>0.578035</td>\n",
       "      <td>3.660886</td>\n",
       "      <td>68.508706</td>\n",
       "      <td>13.068845</td>\n",
       "      <td>2.204262</td>\n",
       "      <td>41.624365</td>\n",
       "      <td>19.700461</td>\n",
       "    </tr>\n",
       "  </tbody>\n",
       "</table>\n",
       "<p>8 rows × 225 columns</p>\n",
       "</div>"
      ],
      "text/plain": [
       "       Run_Duration_(s)_Mean  Run_Average_Speed_(cm/s)_Mean  \\\n",
       "count              45.000000                      45.000000   \n",
       "mean                4.631186                      15.492489   \n",
       "std                 0.826640                       4.447181   \n",
       "min                 2.743659                       8.233310   \n",
       "25%                 3.985813                      13.795579   \n",
       "50%                 4.605380                      14.787200   \n",
       "75%                 5.361413                      16.656712   \n",
       "max                 6.077211                      36.367256   \n",
       "\n",
       "       Run_Maximum_Variation_(%)_Mean  RF_Stand_(s)_Mean  RF_StandIndex_Mean  \\\n",
       "count                       45.000000          45.000000           45.000000   \n",
       "mean                        51.529949           0.230433           -3.023624   \n",
       "std                         16.465925           0.034025            0.774734   \n",
       "min                         23.000000           0.164427           -5.539478   \n",
       "25%                         42.000000           0.201762           -3.471036   \n",
       "50%                         50.200000           0.235737           -2.845816   \n",
       "75%                         59.400000           0.259026           -2.522384   \n",
       "max                         99.100000           0.288616           -1.907316   \n",
       "\n",
       "       RF_MaxContactAt_(%)_Mean  RF_MaxContactArea_(cm²)_Mean  \\\n",
       "count                 45.000000                     45.000000   \n",
       "mean                  39.615562                      0.428536   \n",
       "std                    5.762326                      0.108228   \n",
       "min                   25.672339                      0.214033   \n",
       "25%                   34.480518                      0.358367   \n",
       "50%                   40.175398                      0.438507   \n",
       "75%                   42.746750                      0.513800   \n",
       "max                   52.107865                      0.646166   \n",
       "\n",
       "       RF_MaxContactMaxIntensity_Mean  RF_MaxContactMeanIntensity_Mean  \\\n",
       "count                       45.000000                        45.000000   \n",
       "mean                       142.793486                        73.484871   \n",
       "std                         16.103326                         8.310848   \n",
       "min                        106.707317                        58.552967   \n",
       "25%                        135.054054                        66.615342   \n",
       "50%                        142.527778                        70.556728   \n",
       "75%                        152.180556                        81.102032   \n",
       "max                        174.225000                        88.569989   \n",
       "\n",
       "       RF_PrintLength_(cm)_Mean        ...         Couplings_LH->LF_Mean  \\\n",
       "count                 45.000000        ...                     45.000000   \n",
       "mean                   0.986736        ...                     48.672825   \n",
       "std                    0.137407        ...                      2.735637   \n",
       "min                    0.751865        ...                     42.860225   \n",
       "25%                    0.883123        ...                     46.883446   \n",
       "50%                    1.014476        ...                     48.719175   \n",
       "75%                    1.105587        ...                     50.538607   \n",
       "max                    1.205004        ...                     54.737913   \n",
       "\n",
       "       Couplings_LH->LF_CStat_Mean  Couplings_LH->LF_CStat_R  \\\n",
       "count                    45.000000                 45.000000   \n",
       "mean                     48.354819                  0.813539   \n",
       "std                       2.793255                  0.079611   \n",
       "min                      40.925879                  0.600035   \n",
       "25%                      46.631101                  0.770077   \n",
       "50%                      48.491783                  0.826017   \n",
       "75%                      50.184982                  0.856933   \n",
       "max                      54.550278                  0.949842   \n",
       "\n",
       "       Support_Zero_(%)  Support_Single_(%)  Support_Diagonal_(%)  \\\n",
       "count         45.000000           45.000000             45.000000   \n",
       "mean           0.018159            1.230350             56.223378   \n",
       "std            0.087132            0.819881              8.201361   \n",
       "min            0.000000            0.000000             41.612903   \n",
       "25%            0.000000            0.618812             48.133199   \n",
       "50%            0.000000            1.191121             57.310268   \n",
       "75%            0.000000            1.693480             62.602515   \n",
       "max            0.578035            3.660886             68.508706   \n",
       "\n",
       "       Support_Girdle_(%)  Support_Lateral_(%)  Support_Three_(%)  \\\n",
       "count           45.000000            45.000000          45.000000   \n",
       "mean             2.212682             0.706064          30.573390   \n",
       "std              3.292262             0.599458           5.838240   \n",
       "min              0.182983             0.000000          14.995788   \n",
       "25%              0.448430             0.178333          26.779463   \n",
       "50%              0.911641             0.631136          30.180426   \n",
       "75%              2.274642             0.950570          34.510595   \n",
       "max             13.068845             2.204262          41.624365   \n",
       "\n",
       "       Support_Four_(%)  \n",
       "count         45.000000  \n",
       "mean           9.035976  \n",
       "std            4.262897  \n",
       "min            2.623360  \n",
       "25%            5.412794  \n",
       "50%            8.791209  \n",
       "75%           11.486963  \n",
       "max           19.700461  \n",
       "\n",
       "[8 rows x 225 columns]"
      ]
     },
     "execution_count": 10,
     "metadata": {},
     "output_type": "execute_result"
    }
   ],
   "source": [
    "d.describe()"
   ]
  },
  {
   "cell_type": "code",
   "execution_count": 11,
   "metadata": {
    "collapsed": false
   },
   "outputs": [
    {
     "data": {
      "text/html": [
       "<div>\n",
       "<table border=\"1\" class=\"dataframe\">\n",
       "  <thead>\n",
       "    <tr style=\"text-align: right;\">\n",
       "      <th></th>\n",
       "      <th>vc</th>\n",
       "      <th>Group</th>\n",
       "      <th>Animal</th>\n",
       "      <th>Trial</th>\n",
       "    </tr>\n",
       "    <tr>\n",
       "      <th>Animal</th>\n",
       "      <th></th>\n",
       "      <th></th>\n",
       "      <th></th>\n",
       "      <th></th>\n",
       "    </tr>\n",
       "  </thead>\n",
       "  <tbody>\n",
       "    <tr>\n",
       "      <th>1.1</th>\n",
       "      <td>12</td>\n",
       "      <td>young ctrl</td>\n",
       "      <td>1.1</td>\n",
       "      <td>Trial0001</td>\n",
       "    </tr>\n",
       "    <tr>\n",
       "      <th>1.2</th>\n",
       "      <td>12</td>\n",
       "      <td>young ctrl</td>\n",
       "      <td>1.2</td>\n",
       "      <td>Trial0002</td>\n",
       "    </tr>\n",
       "    <tr>\n",
       "      <th>1.3</th>\n",
       "      <td>12</td>\n",
       "      <td>young ctrl</td>\n",
       "      <td>1.3</td>\n",
       "      <td>Trial0003</td>\n",
       "    </tr>\n",
       "    <tr>\n",
       "      <th>1.4</th>\n",
       "      <td>12</td>\n",
       "      <td>young ctrl</td>\n",
       "      <td>1.4</td>\n",
       "      <td>Trial0004</td>\n",
       "    </tr>\n",
       "    <tr>\n",
       "      <th>3.2</th>\n",
       "      <td>12</td>\n",
       "      <td>young ctrl</td>\n",
       "      <td>3.2</td>\n",
       "      <td>Trial0010</td>\n",
       "    </tr>\n",
       "  </tbody>\n",
       "</table>\n",
       "</div>"
      ],
      "text/plain": [
       "        vc       Group  Animal      Trial\n",
       "Animal                                   \n",
       "1.1     12  young ctrl     1.1  Trial0001\n",
       "1.2     12  young ctrl     1.2  Trial0002\n",
       "1.3     12  young ctrl     1.3  Trial0003\n",
       "1.4     12  young ctrl     1.4  Trial0004\n",
       "3.2     12  young ctrl     3.2  Trial0010"
      ]
     },
     "execution_count": 11,
     "metadata": {},
     "output_type": "execute_result"
    }
   ],
   "source": [
    "md.head()"
   ]
  },
  {
   "cell_type": "code",
   "execution_count": 12,
   "metadata": {
    "collapsed": false
   },
   "outputs": [
    {
     "data": {
      "text/plain": [
       "ss31 aged injected           20\n",
       "young ctrl                   15\n",
       "aged control sal injected    10\n",
       "Name: Group, dtype: int64"
      ]
     },
     "execution_count": 12,
     "metadata": {},
     "output_type": "execute_result"
    }
   ],
   "source": [
    "md.Group.value_counts()"
   ]
  },
  {
   "cell_type": "markdown",
   "metadata": {},
   "source": [
    "# Top important features"
   ]
  },
  {
   "cell_type": "markdown",
   "metadata": {},
   "source": [
    "### highest variance"
   ]
  },
  {
   "cell_type": "code",
   "execution_count": 13,
   "metadata": {
    "collapsed": false
   },
   "outputs": [],
   "source": [
    "selected, variances = var_sel(normalize_pd(d, 0), 0.001)"
   ]
  },
  {
   "cell_type": "code",
   "execution_count": 18,
   "metadata": {
    "collapsed": false
   },
   "outputs": [
    {
     "data": {
      "text/html": [
       "<div>\n",
       "<table border=\"1\" class=\"dataframe\">\n",
       "  <thead>\n",
       "    <tr style=\"text-align: right;\">\n",
       "      <th></th>\n",
       "      <th>variance (after normalisation)</th>\n",
       "    </tr>\n",
       "  </thead>\n",
       "  <tbody>\n",
       "    <tr>\n",
       "      <th>Support_Zero_(%)</th>\n",
       "      <td>0.021277</td>\n",
       "    </tr>\n",
       "    <tr>\n",
       "      <th>StepSequence_RB_(%)</th>\n",
       "      <td>0.020404</td>\n",
       "    </tr>\n",
       "    <tr>\n",
       "      <th>PhaseDispersions_LF-&gt;RH_Mean</th>\n",
       "      <td>0.019405</td>\n",
       "    </tr>\n",
       "    <tr>\n",
       "      <th>StepSequence_RA_(%)</th>\n",
       "      <td>0.018752</td>\n",
       "    </tr>\n",
       "    <tr>\n",
       "      <th>PhaseDispersions_RF-&gt;LH_Mean</th>\n",
       "      <td>0.018450</td>\n",
       "    </tr>\n",
       "    <tr>\n",
       "      <th>Couplings_RF-&gt;LH_CStat_Mean</th>\n",
       "      <td>0.015239</td>\n",
       "    </tr>\n",
       "    <tr>\n",
       "      <th>Support_Girdle_(%)</th>\n",
       "      <td>0.015200</td>\n",
       "    </tr>\n",
       "    <tr>\n",
       "      <th>PhaseDispersions_RF-&gt;LH_CStat_Mean</th>\n",
       "      <td>0.015140</td>\n",
       "    </tr>\n",
       "    <tr>\n",
       "      <th>PhaseDispersions_LF-&gt;RH_CStat_Mean</th>\n",
       "      <td>0.014480</td>\n",
       "    </tr>\n",
       "    <tr>\n",
       "      <th>Couplings_LF-&gt;RH_CStat_Mean</th>\n",
       "      <td>0.013077</td>\n",
       "    </tr>\n",
       "    <tr>\n",
       "      <th>StepSequence_NumberOfPatterns</th>\n",
       "      <td>0.010680</td>\n",
       "    </tr>\n",
       "    <tr>\n",
       "      <th>OtherStatistics_NumberOfSteps</th>\n",
       "      <td>0.010404</td>\n",
       "    </tr>\n",
       "    <tr>\n",
       "      <th>Support_Lateral_(%)</th>\n",
       "      <td>0.009187</td>\n",
       "    </tr>\n",
       "    <tr>\n",
       "      <th>Support_Single_(%)</th>\n",
       "      <td>0.006728</td>\n",
       "    </tr>\n",
       "    <tr>\n",
       "      <th>Couplings_LH-&gt;RF_CStat_Mean</th>\n",
       "      <td>0.006674</td>\n",
       "    </tr>\n",
       "  </tbody>\n",
       "</table>\n",
       "</div>"
      ],
      "text/plain": [
       "                                    variance (after normalisation)\n",
       "Support_Zero_(%)                                          0.021277\n",
       "StepSequence_RB_(%)                                       0.020404\n",
       "PhaseDispersions_LF->RH_Mean                              0.019405\n",
       "StepSequence_RA_(%)                                       0.018752\n",
       "PhaseDispersions_RF->LH_Mean                              0.018450\n",
       "Couplings_RF->LH_CStat_Mean                               0.015239\n",
       "Support_Girdle_(%)                                        0.015200\n",
       "PhaseDispersions_RF->LH_CStat_Mean                        0.015140\n",
       "PhaseDispersions_LF->RH_CStat_Mean                        0.014480\n",
       "Couplings_LF->RH_CStat_Mean                               0.013077\n",
       "StepSequence_NumberOfPatterns                             0.010680\n",
       "OtherStatistics_NumberOfSteps                             0.010404\n",
       "Support_Lateral_(%)                                       0.009187\n",
       "Support_Single_(%)                                        0.006728\n",
       "Couplings_LH->RF_CStat_Mean                               0.006674"
      ]
     },
     "execution_count": 18,
     "metadata": {},
     "output_type": "execute_result"
    }
   ],
   "source": [
    "pd.DataFrame(variances.sort_values(ascending=False)[:15], columns = ['variance (after normalisation)'])"
   ]
  },
  {
   "cell_type": "code",
   "execution_count": null,
   "metadata": {
    "collapsed": true
   },
   "outputs": [],
   "source": []
  },
  {
   "cell_type": "code",
   "execution_count": null,
   "metadata": {
    "collapsed": true
   },
   "outputs": [],
   "source": []
  },
  {
   "cell_type": "code",
   "execution_count": null,
   "metadata": {
    "collapsed": true
   },
   "outputs": [],
   "source": []
  },
  {
   "cell_type": "code",
   "execution_count": null,
   "metadata": {
    "collapsed": true
   },
   "outputs": [],
   "source": []
  },
  {
   "cell_type": "markdown",
   "metadata": {},
   "source": [
    "# PCA"
   ]
  },
  {
   "cell_type": "code",
   "execution_count": 15,
   "metadata": {
    "collapsed": false
   },
   "outputs": [],
   "source": [
    "comps, exvar, _ = get_pc(normalize_pd(d,0, 'normalize'),2)"
   ]
  },
  {
   "cell_type": "code",
   "execution_count": 16,
   "metadata": {
    "collapsed": false
   },
   "outputs": [],
   "source": [
    "##p2 = plot_pca(pca_t, use_df_t.T, tax_md, mapp_index_col='taxonomy', color_by='phylum', plot_subset=10)\n",
    "#comps_t = pd.merge(comps_t, x_t, how=\"inner\", left_index=True, right_index=True)\n",
    "\n",
    "\n",
    "#p = plot_pca(comps, d, md, mapp_index_col='Animal', color_by='Group', subset_by='Group', plot_subset = 'all',\n",
    "            # marker_size = 20, palette='deep')\n",
    "#p = plot_quick_pca(comps, d, md, mapp_index_col='Animal')"
   ]
  },
  {
   "cell_type": "code",
   "execution_count": 17,
   "metadata": {
    "collapsed": false
   },
   "outputs": [
    {
     "data": {
      "image/png": "[encoded data removed]",
      "text/plain": [
       "<matplotlib.figure.Figure at 0x7f2f9251af28>"
      ]
     },
     "metadata": {},
     "output_type": "display_data"
    }
   ],
   "source": [
    "plot_comps = get_plot_comps(comps, md)\n",
    "p2 = sns.lmplot(x='PC1', y='PC2', hue='Group', data=plot_comps, ci=None, fit_reg=False,\n",
    "               scatter_kws={\"s\":50})"
   ]
  },
  {
   "cell_type": "markdown",
   "metadata": {},
   "source": [
    "The first two components seem to actually cluster both aged groups together, with some difference between the 'aged' cluster and 'young' cluster. There are some outliers from the Group 'aged treated'..."
   ]
  },
  {
   "cell_type": "code",
   "execution_count": 163,
   "metadata": {
    "collapsed": false
   },
   "outputs": [
    {
     "data": {
      "image/png": "[encoded data removed]",
      "text/plain": [
       "<matplotlib.figure.Figure at 0x7f44c9fc96a0>"
      ]
     },
     "metadata": {},
     "output_type": "display_data"
    }
   ],
   "source": [
    "p2 = sns.lmplot(x='PC1', y='PC2', hue='Trial', data=plot_comps.sort_values('Trial').iloc[:10,:],\n",
    "                ci=None, fit_reg=False, scatter_kws={\"s\":50})#, y_jitter=0.01, x_jitter=0.01)"
   ]
  },
  {
   "cell_type": "markdown",
   "metadata": {},
   "source": [
    "Trials seem comprise of one sample well within the major cluster and another within the outlier cluster - this suggests some bias within Trials?\n",
    "\n",
    "Higher number Trials (possibly those with only one animal inn them) seem to cluster within the major cluster."
   ]
  },
  {
   "cell_type": "code",
   "execution_count": null,
   "metadata": {
    "collapsed": true
   },
   "outputs": [],
   "source": []
  },
  {
   "cell_type": "code",
   "execution_count": null,
   "metadata": {
    "collapsed": true
   },
   "outputs": [],
   "source": []
  },
  {
   "cell_type": "markdown",
   "metadata": {},
   "source": [
    "# Notatnik"
   ]
  },
  {
   "cell_type": "code",
   "execution_count": 94,
   "metadata": {
    "collapsed": true
   },
   "outputs": [],
   "source": [
    "mapping = mapp(md, 'Animal', ['Trial'])\n",
    "plot_comps = pd.merge(comps, mapping, how='inner', left_index=True, right_index=True)\n"
   ]
  },
  {
   "cell_type": "code",
   "execution_count": 95,
   "metadata": {
    "collapsed": false
   },
   "outputs": [
    {
     "data": {
      "text/html": [
       "<div>\n",
       "<table border=\"1\" class=\"dataframe\">\n",
       "  <thead>\n",
       "    <tr style=\"text-align: right;\">\n",
       "      <th></th>\n",
       "      <th>Trial</th>\n",
       "    </tr>\n",
       "  </thead>\n",
       "  <tbody>\n",
       "    <tr>\n",
       "      <th>1.1</th>\n",
       "      <td>Trial0001</td>\n",
       "    </tr>\n",
       "    <tr>\n",
       "      <th>1.2</th>\n",
       "      <td>Trial0002</td>\n",
       "    </tr>\n",
       "    <tr>\n",
       "      <th>1.3</th>\n",
       "      <td>Trial0003</td>\n",
       "    </tr>\n",
       "    <tr>\n",
       "      <th>1.4</th>\n",
       "      <td>Trial0004</td>\n",
       "    </tr>\n",
       "    <tr>\n",
       "      <th>3.2</th>\n",
       "      <td>Trial0010</td>\n",
       "    </tr>\n",
       "    <tr>\n",
       "      <th>3.3</th>\n",
       "      <td>Trial0011</td>\n",
       "    </tr>\n",
       "    <tr>\n",
       "      <th>3.4</th>\n",
       "      <td>Trial0012</td>\n",
       "    </tr>\n",
       "    <tr>\n",
       "      <th>4.1</th>\n",
       "      <td>Trial0013</td>\n",
       "    </tr>\n",
       "    <tr>\n",
       "      <th>4.2</th>\n",
       "      <td>Trial0014</td>\n",
       "    </tr>\n",
       "    <tr>\n",
       "      <th>4.3</th>\n",
       "      <td>Trial0015</td>\n",
       "    </tr>\n",
       "    <tr>\n",
       "      <th>4.4</th>\n",
       "      <td>Trial0016</td>\n",
       "    </tr>\n",
       "    <tr>\n",
       "      <th>5.1</th>\n",
       "      <td>Trial0017</td>\n",
       "    </tr>\n",
       "    <tr>\n",
       "      <th>5.2</th>\n",
       "      <td>Trial0018</td>\n",
       "    </tr>\n",
       "    <tr>\n",
       "      <th>5.3</th>\n",
       "      <td>Trial0019</td>\n",
       "    </tr>\n",
       "    <tr>\n",
       "      <th>5.4</th>\n",
       "      <td>Trial0020</td>\n",
       "    </tr>\n",
       "    <tr>\n",
       "      <th>1.1</th>\n",
       "      <td>Trial0021</td>\n",
       "    </tr>\n",
       "    <tr>\n",
       "      <th>1.2</th>\n",
       "      <td>Trial0022</td>\n",
       "    </tr>\n",
       "    <tr>\n",
       "      <th>1.3</th>\n",
       "      <td>Trial0023</td>\n",
       "    </tr>\n",
       "    <tr>\n",
       "      <th>1.4</th>\n",
       "      <td>Trial0024</td>\n",
       "    </tr>\n",
       "    <tr>\n",
       "      <th>2.1</th>\n",
       "      <td>Trial0025</td>\n",
       "    </tr>\n",
       "    <tr>\n",
       "      <th>2.2</th>\n",
       "      <td>Trial0026</td>\n",
       "    </tr>\n",
       "    <tr>\n",
       "      <th>2.3</th>\n",
       "      <td>Trial0027</td>\n",
       "    </tr>\n",
       "    <tr>\n",
       "      <th>2.4</th>\n",
       "      <td>Trial0028</td>\n",
       "    </tr>\n",
       "    <tr>\n",
       "      <th>3.1</th>\n",
       "      <td>Trial0029</td>\n",
       "    </tr>\n",
       "    <tr>\n",
       "      <th>3.2</th>\n",
       "      <td>Trial0030</td>\n",
       "    </tr>\n",
       "    <tr>\n",
       "      <th>2.1</th>\n",
       "      <td>Trial0005</td>\n",
       "    </tr>\n",
       "    <tr>\n",
       "      <th>2.2</th>\n",
       "      <td>Trial0006</td>\n",
       "    </tr>\n",
       "    <tr>\n",
       "      <th>2.3</th>\n",
       "      <td>Trial0007</td>\n",
       "    </tr>\n",
       "    <tr>\n",
       "      <th>2.4</th>\n",
       "      <td>Trial0008</td>\n",
       "    </tr>\n",
       "    <tr>\n",
       "      <th>3.1</th>\n",
       "      <td>Trial0009</td>\n",
       "    </tr>\n",
       "  </tbody>\n",
       "</table>\n",
       "</div>"
      ],
      "text/plain": [
       "         Trial\n",
       "1.1  Trial0001\n",
       "1.2  Trial0002\n",
       "1.3  Trial0003\n",
       "1.4  Trial0004\n",
       "3.2  Trial0010\n",
       "3.3  Trial0011\n",
       "3.4  Trial0012\n",
       "4.1  Trial0013\n",
       "4.2  Trial0014\n",
       "4.3  Trial0015\n",
       "4.4  Trial0016\n",
       "5.1  Trial0017\n",
       "5.2  Trial0018\n",
       "5.3  Trial0019\n",
       "5.4  Trial0020\n",
       "1.1  Trial0021\n",
       "1.2  Trial0022\n",
       "1.3  Trial0023\n",
       "1.4  Trial0024\n",
       "2.1  Trial0025\n",
       "2.2  Trial0026\n",
       "2.3  Trial0027\n",
       "2.4  Trial0028\n",
       "3.1  Trial0029\n",
       "3.2  Trial0030\n",
       "2.1  Trial0005\n",
       "2.2  Trial0006\n",
       "2.3  Trial0007\n",
       "2.4  Trial0008\n",
       "3.1  Trial0009"
      ]
     },
     "execution_count": 95,
     "metadata": {},
     "output_type": "execute_result"
    }
   ],
   "source": [
    "mapping"
   ]
  },
  {
   "cell_type": "code",
   "execution_count": null,
   "metadata": {
    "collapsed": true
   },
   "outputs": [],
   "source": []
  },
  {
   "cell_type": "code",
   "execution_count": null,
   "metadata": {
    "collapsed": true
   },
   "outputs": [],
   "source": []
  },
  {
   "cell_type": "code",
   "execution_count": 96,
   "metadata": {
    "collapsed": false
   },
   "outputs": [
    {
     "data": {
      "text/plain": [
       "(0, 3)"
      ]
     },
     "execution_count": 96,
     "metadata": {},
     "output_type": "execute_result"
    }
   ],
   "source": [
    "plot_comps.shape"
   ]
  },
  {
   "cell_type": "code",
   "execution_count": 97,
   "metadata": {
    "collapsed": false
   },
   "outputs": [
    {
     "data": {
      "text/plain": [
       "(45, 2)"
      ]
     },
     "execution_count": 97,
     "metadata": {},
     "output_type": "execute_result"
    }
   ],
   "source": [
    "comps.shape"
   ]
  },
  {
   "cell_type": "code",
   "execution_count": null,
   "metadata": {
    "collapsed": true
   },
   "outputs": [],
   "source": []
  }
 ],
 "metadata": {
  "kernelspec": {
   "display_name": "Python 3",
   "language": "python",
   "name": "python3"
  },
  "language_info": {
   "codemirror_mode": {
    "name": "ipython",
    "version": 3
   },
   "file_extension": ".py",
   "mimetype": "text/x-python",
   "name": "python",
   "nbconvert_exporter": "python",
   "pygments_lexer": "ipython3",
   "version": "3.6.0"
  }
 },
 "nbformat": 4,
 "nbformat_minor": 2
}
