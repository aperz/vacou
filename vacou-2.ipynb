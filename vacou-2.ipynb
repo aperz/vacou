{
 "cells": [
  {
   "cell_type": "markdown",
   "metadata": {},
   "source": [
    "This is version 2 of the notebook using the dataset with actual response variables."
   ]
  },
  {
   "cell_type": "markdown",
   "metadata": {},
   "source": [
    "# TODO\n",
    "\n",
    "- NEED MORE DATA POINTS\n",
    "- dendrogram: which groups are closest\n",
    "- ask Cory whether inverse PCA transformation can be used to get transformation for future data points to be comparable (the 'index' idea)"
   ]
  },
  {
   "cell_type": "code",
   "execution_count": 1,
   "metadata": {
    "collapsed": false
   },
   "outputs": [
    {
     "name": "stdout",
     "output_type": "stream",
     "text": [
      "The autoreload extension is already loaded. To reload it, use:\n",
      "  %reload_ext autoreload\n"
     ]
    }
   ],
   "source": [
    "%load_ext autoreload\n",
    "%autoreload 2\n",
    "import warnings; warnings.simplefilter('ignore')\n",
    "\n",
    "import pandas as pd\n",
    "import numpy as np\n",
    "from vacou import *\n",
    "from plots import *\n",
    "\n",
    "import seaborn as sns\n",
    "import matplotlib.pyplot as plt\n",
    "%matplotlib inline\n",
    "sns.set(color_codes=True)\n",
    "sns.set(style=\"white\")\n",
    "#sns.set(font=\"monospace\")"
   ]
  },
  {
   "cell_type": "code",
   "execution_count": 2,
   "metadata": {
    "collapsed": true
   },
   "outputs": [],
   "source": [
    "data_fp = '/P/vacou/SS31_gait_data_for_PCA.tsv'\n",
    "#d_orig = pd.read_csv(data_fp, sep='\\t')"
   ]
  },
  {
   "cell_type": "code",
   "execution_count": 22,
   "metadata": {
    "collapsed": false
   },
   "outputs": [],
   "source": [
    "d, md, full_df = preprocess_vc(data_fp, version = 2)"
   ]
  },
  {
   "cell_type": "code",
   "execution_count": 28,
   "metadata": {
    "collapsed": true
   },
   "outputs": [],
   "source": [
    "response_column = 'NVC'"
   ]
  },
  {
   "cell_type": "markdown",
   "metadata": {},
   "source": [
    "# Exploratory"
   ]
  },
  {
   "cell_type": "code",
   "execution_count": 19,
   "metadata": {
    "collapsed": false
   },
   "outputs": [
    {
     "data": {
      "text/plain": [
       "['Group',\n",
       " 'Animal',\n",
       " 'Run_Duration_(s)_Mean',\n",
       " 'Run_Average_Speed_(cm/s)_Mean',\n",
       " 'Run_Maximum_Variation_(%)_Mean',\n",
       " 'RF_Stand_(s)_Mean',\n",
       " 'RF_StandIndex_Mean',\n",
       " 'RF_MaxContactAt_(%)_Mean',\n",
       " 'RF_MaxContactArea_(cm²)_Mean',\n",
       " 'RF_MaxContactMaxIntensity_Mean',\n",
       " 'RF_MaxContactMeanIntensity_Mean',\n",
       " 'RF_PrintLength_(cm)_Mean',\n",
       " 'RF_PrintWidth_(cm)_Mean',\n",
       " 'RF_PrintArea_(cm²)_Mean',\n",
       " 'RF_MaxIntensityAt_(%)_Mean',\n",
       " 'RF_MaxIntensity_Mean',\n",
       " 'RF_MinIntensity_Mean',\n",
       " 'RF_MeanIntensity_Mean',\n",
       " 'RF_MeanIntensityOfThe15MostIntensePixels_Mean',\n",
       " 'RF_Swing_(s)_Mean']"
      ]
     },
     "execution_count": 19,
     "metadata": {},
     "output_type": "execute_result"
    }
   ],
   "source": [
    "full_df.columns.tolist()[:20]"
   ]
  },
  {
   "cell_type": "code",
   "execution_count": null,
   "metadata": {
    "collapsed": true
   },
   "outputs": [],
   "source": []
  },
  {
   "cell_type": "code",
   "execution_count": 13,
   "metadata": {
    "collapsed": false
   },
   "outputs": [
    {
     "data": {
      "text/html": [
       "<div>\n",
       "<table border=\"1\" class=\"dataframe\">\n",
       "  <thead>\n",
       "    <tr style=\"text-align: right;\">\n",
       "      <th></th>\n",
       "      <th>Run_Duration_(s)_Mean</th>\n",
       "      <th>Run_Average_Speed_(cm/s)_Mean</th>\n",
       "      <th>Run_Maximum_Variation_(%)_Mean</th>\n",
       "      <th>RF_Stand_(s)_Mean</th>\n",
       "      <th>RF_StandIndex_Mean</th>\n",
       "      <th>RF_MaxContactAt_(%)_Mean</th>\n",
       "      <th>RF_MaxContactArea_(cm²)_Mean</th>\n",
       "      <th>RF_MaxContactMaxIntensity_Mean</th>\n",
       "      <th>RF_MaxContactMeanIntensity_Mean</th>\n",
       "      <th>RF_PrintLength_(cm)_Mean</th>\n",
       "      <th>...</th>\n",
       "      <th>Couplings_LF-&gt;LH_Mean</th>\n",
       "      <th>Couplings_RH-&gt;RF_Mean</th>\n",
       "      <th>Couplings_LH-&gt;LF_Mean</th>\n",
       "      <th>Support_Zero_(%)</th>\n",
       "      <th>Support_Single_(%)</th>\n",
       "      <th>Support_Diagonal_(%)</th>\n",
       "      <th>Support_Girdle_(%)</th>\n",
       "      <th>Support_Lateral_(%)</th>\n",
       "      <th>Support_Three_(%)</th>\n",
       "      <th>Support_Four_(%)</th>\n",
       "    </tr>\n",
       "  </thead>\n",
       "  <tbody>\n",
       "    <tr>\n",
       "      <th>count</th>\n",
       "      <td>45.000000</td>\n",
       "      <td>45.000000</td>\n",
       "      <td>45.000000</td>\n",
       "      <td>45.000000</td>\n",
       "      <td>45.000000</td>\n",
       "      <td>45.000000</td>\n",
       "      <td>45.000000</td>\n",
       "      <td>45.000000</td>\n",
       "      <td>45.000000</td>\n",
       "      <td>45.000000</td>\n",
       "      <td>...</td>\n",
       "      <td>45.000000</td>\n",
       "      <td>45.000000</td>\n",
       "      <td>45.000000</td>\n",
       "      <td>45.000000</td>\n",
       "      <td>45.000000</td>\n",
       "      <td>45.000000</td>\n",
       "      <td>45.000000</td>\n",
       "      <td>45.000000</td>\n",
       "      <td>45.000000</td>\n",
       "      <td>45.000000</td>\n",
       "    </tr>\n",
       "    <tr>\n",
       "      <th>mean</th>\n",
       "      <td>4.631186</td>\n",
       "      <td>15.492489</td>\n",
       "      <td>51.529949</td>\n",
       "      <td>0.230433</td>\n",
       "      <td>-3.023624</td>\n",
       "      <td>39.615562</td>\n",
       "      <td>0.428536</td>\n",
       "      <td>142.793486</td>\n",
       "      <td>73.484871</td>\n",
       "      <td>0.986736</td>\n",
       "      <td>...</td>\n",
       "      <td>51.402888</td>\n",
       "      <td>49.650134</td>\n",
       "      <td>48.672825</td>\n",
       "      <td>0.018159</td>\n",
       "      <td>1.230350</td>\n",
       "      <td>56.223378</td>\n",
       "      <td>2.212682</td>\n",
       "      <td>0.706064</td>\n",
       "      <td>30.573390</td>\n",
       "      <td>9.035976</td>\n",
       "    </tr>\n",
       "    <tr>\n",
       "      <th>std</th>\n",
       "      <td>0.826640</td>\n",
       "      <td>4.447181</td>\n",
       "      <td>16.465925</td>\n",
       "      <td>0.034025</td>\n",
       "      <td>0.774734</td>\n",
       "      <td>5.762326</td>\n",
       "      <td>0.108228</td>\n",
       "      <td>16.103326</td>\n",
       "      <td>8.310848</td>\n",
       "      <td>0.137407</td>\n",
       "      <td>...</td>\n",
       "      <td>2.859577</td>\n",
       "      <td>3.050002</td>\n",
       "      <td>2.735637</td>\n",
       "      <td>0.087132</td>\n",
       "      <td>0.819881</td>\n",
       "      <td>8.201361</td>\n",
       "      <td>3.292262</td>\n",
       "      <td>0.599458</td>\n",
       "      <td>5.838240</td>\n",
       "      <td>4.262897</td>\n",
       "    </tr>\n",
       "    <tr>\n",
       "      <th>min</th>\n",
       "      <td>2.743659</td>\n",
       "      <td>8.233310</td>\n",
       "      <td>23.000000</td>\n",
       "      <td>0.164427</td>\n",
       "      <td>-5.539478</td>\n",
       "      <td>25.672339</td>\n",
       "      <td>0.214033</td>\n",
       "      <td>106.707317</td>\n",
       "      <td>58.552967</td>\n",
       "      <td>0.751865</td>\n",
       "      <td>...</td>\n",
       "      <td>44.958675</td>\n",
       "      <td>44.082026</td>\n",
       "      <td>42.860225</td>\n",
       "      <td>0.000000</td>\n",
       "      <td>0.000000</td>\n",
       "      <td>41.612903</td>\n",
       "      <td>0.182983</td>\n",
       "      <td>0.000000</td>\n",
       "      <td>14.995788</td>\n",
       "      <td>2.623360</td>\n",
       "    </tr>\n",
       "    <tr>\n",
       "      <th>25%</th>\n",
       "      <td>3.985813</td>\n",
       "      <td>13.795579</td>\n",
       "      <td>42.000000</td>\n",
       "      <td>0.201762</td>\n",
       "      <td>-3.471036</td>\n",
       "      <td>34.480518</td>\n",
       "      <td>0.358367</td>\n",
       "      <td>135.054054</td>\n",
       "      <td>66.615342</td>\n",
       "      <td>0.883123</td>\n",
       "      <td>...</td>\n",
       "      <td>49.332052</td>\n",
       "      <td>47.632508</td>\n",
       "      <td>46.883446</td>\n",
       "      <td>0.000000</td>\n",
       "      <td>0.618812</td>\n",
       "      <td>48.133199</td>\n",
       "      <td>0.448430</td>\n",
       "      <td>0.178333</td>\n",
       "      <td>26.779463</td>\n",
       "      <td>5.412794</td>\n",
       "    </tr>\n",
       "    <tr>\n",
       "      <th>50%</th>\n",
       "      <td>4.605380</td>\n",
       "      <td>14.787200</td>\n",
       "      <td>50.200000</td>\n",
       "      <td>0.235737</td>\n",
       "      <td>-2.845816</td>\n",
       "      <td>40.175398</td>\n",
       "      <td>0.438507</td>\n",
       "      <td>142.527778</td>\n",
       "      <td>70.556728</td>\n",
       "      <td>1.014476</td>\n",
       "      <td>...</td>\n",
       "      <td>51.333774</td>\n",
       "      <td>49.389468</td>\n",
       "      <td>48.719175</td>\n",
       "      <td>0.000000</td>\n",
       "      <td>1.191121</td>\n",
       "      <td>57.310268</td>\n",
       "      <td>0.911641</td>\n",
       "      <td>0.631136</td>\n",
       "      <td>30.180426</td>\n",
       "      <td>8.791209</td>\n",
       "    </tr>\n",
       "    <tr>\n",
       "      <th>75%</th>\n",
       "      <td>5.361413</td>\n",
       "      <td>16.656712</td>\n",
       "      <td>59.400000</td>\n",
       "      <td>0.259026</td>\n",
       "      <td>-2.522384</td>\n",
       "      <td>42.746750</td>\n",
       "      <td>0.513800</td>\n",
       "      <td>152.180556</td>\n",
       "      <td>81.102032</td>\n",
       "      <td>1.105587</td>\n",
       "      <td>...</td>\n",
       "      <td>53.907987</td>\n",
       "      <td>51.406669</td>\n",
       "      <td>50.538607</td>\n",
       "      <td>0.000000</td>\n",
       "      <td>1.693480</td>\n",
       "      <td>62.602515</td>\n",
       "      <td>2.274642</td>\n",
       "      <td>0.950570</td>\n",
       "      <td>34.510595</td>\n",
       "      <td>11.486963</td>\n",
       "    </tr>\n",
       "    <tr>\n",
       "      <th>max</th>\n",
       "      <td>6.077211</td>\n",
       "      <td>36.367256</td>\n",
       "      <td>99.100000</td>\n",
       "      <td>0.288616</td>\n",
       "      <td>-1.907316</td>\n",
       "      <td>52.107865</td>\n",
       "      <td>0.646166</td>\n",
       "      <td>174.225000</td>\n",
       "      <td>88.569989</td>\n",
       "      <td>1.205004</td>\n",
       "      <td>...</td>\n",
       "      <td>56.722779</td>\n",
       "      <td>59.350832</td>\n",
       "      <td>54.737913</td>\n",
       "      <td>0.578035</td>\n",
       "      <td>3.660886</td>\n",
       "      <td>68.508706</td>\n",
       "      <td>13.068845</td>\n",
       "      <td>2.204262</td>\n",
       "      <td>41.624365</td>\n",
       "      <td>19.700461</td>\n",
       "    </tr>\n",
       "  </tbody>\n",
       "</table>\n",
       "<p>8 rows × 190 columns</p>\n",
       "</div>"
      ],
      "text/plain": [
       "       Run_Duration_(s)_Mean  Run_Average_Speed_(cm/s)_Mean  \\\n",
       "count              45.000000                      45.000000   \n",
       "mean                4.631186                      15.492489   \n",
       "std                 0.826640                       4.447181   \n",
       "min                 2.743659                       8.233310   \n",
       "25%                 3.985813                      13.795579   \n",
       "50%                 4.605380                      14.787200   \n",
       "75%                 5.361413                      16.656712   \n",
       "max                 6.077211                      36.367256   \n",
       "\n",
       "       Run_Maximum_Variation_(%)_Mean  RF_Stand_(s)_Mean  RF_StandIndex_Mean  \\\n",
       "count                       45.000000          45.000000           45.000000   \n",
       "mean                        51.529949           0.230433           -3.023624   \n",
       "std                         16.465925           0.034025            0.774734   \n",
       "min                         23.000000           0.164427           -5.539478   \n",
       "25%                         42.000000           0.201762           -3.471036   \n",
       "50%                         50.200000           0.235737           -2.845816   \n",
       "75%                         59.400000           0.259026           -2.522384   \n",
       "max                         99.100000           0.288616           -1.907316   \n",
       "\n",
       "       RF_MaxContactAt_(%)_Mean  RF_MaxContactArea_(cm²)_Mean  \\\n",
       "count                 45.000000                     45.000000   \n",
       "mean                  39.615562                      0.428536   \n",
       "std                    5.762326                      0.108228   \n",
       "min                   25.672339                      0.214033   \n",
       "25%                   34.480518                      0.358367   \n",
       "50%                   40.175398                      0.438507   \n",
       "75%                   42.746750                      0.513800   \n",
       "max                   52.107865                      0.646166   \n",
       "\n",
       "       RF_MaxContactMaxIntensity_Mean  RF_MaxContactMeanIntensity_Mean  \\\n",
       "count                       45.000000                        45.000000   \n",
       "mean                       142.793486                        73.484871   \n",
       "std                         16.103326                         8.310848   \n",
       "min                        106.707317                        58.552967   \n",
       "25%                        135.054054                        66.615342   \n",
       "50%                        142.527778                        70.556728   \n",
       "75%                        152.180556                        81.102032   \n",
       "max                        174.225000                        88.569989   \n",
       "\n",
       "       RF_PrintLength_(cm)_Mean        ...         Couplings_LF->LH_Mean  \\\n",
       "count                 45.000000        ...                     45.000000   \n",
       "mean                   0.986736        ...                     51.402888   \n",
       "std                    0.137407        ...                      2.859577   \n",
       "min                    0.751865        ...                     44.958675   \n",
       "25%                    0.883123        ...                     49.332052   \n",
       "50%                    1.014476        ...                     51.333774   \n",
       "75%                    1.105587        ...                     53.907987   \n",
       "max                    1.205004        ...                     56.722779   \n",
       "\n",
       "       Couplings_RH->RF_Mean  Couplings_LH->LF_Mean  Support_Zero_(%)  \\\n",
       "count              45.000000              45.000000         45.000000   \n",
       "mean               49.650134              48.672825          0.018159   \n",
       "std                 3.050002               2.735637          0.087132   \n",
       "min                44.082026              42.860225          0.000000   \n",
       "25%                47.632508              46.883446          0.000000   \n",
       "50%                49.389468              48.719175          0.000000   \n",
       "75%                51.406669              50.538607          0.000000   \n",
       "max                59.350832              54.737913          0.578035   \n",
       "\n",
       "       Support_Single_(%)  Support_Diagonal_(%)  Support_Girdle_(%)  \\\n",
       "count           45.000000             45.000000           45.000000   \n",
       "mean             1.230350             56.223378            2.212682   \n",
       "std              0.819881              8.201361            3.292262   \n",
       "min              0.000000             41.612903            0.182983   \n",
       "25%              0.618812             48.133199            0.448430   \n",
       "50%              1.191121             57.310268            0.911641   \n",
       "75%              1.693480             62.602515            2.274642   \n",
       "max              3.660886             68.508706           13.068845   \n",
       "\n",
       "       Support_Lateral_(%)  Support_Three_(%)  Support_Four_(%)  \n",
       "count            45.000000          45.000000         45.000000  \n",
       "mean              0.706064          30.573390          9.035976  \n",
       "std               0.599458           5.838240          4.262897  \n",
       "min               0.000000          14.995788          2.623360  \n",
       "25%               0.178333          26.779463          5.412794  \n",
       "50%               0.631136          30.180426          8.791209  \n",
       "75%               0.950570          34.510595         11.486963  \n",
       "max               2.204262          41.624365         19.700461  \n",
       "\n",
       "[8 rows x 190 columns]"
      ]
     },
     "execution_count": 13,
     "metadata": {},
     "output_type": "execute_result"
    }
   ],
   "source": [
    "d.describe()"
   ]
  },
  {
   "cell_type": "code",
   "execution_count": 20,
   "metadata": {
    "collapsed": false
   },
   "outputs": [
    {
     "data": {
      "text/html": [
       "<div>\n",
       "<table border=\"1\" class=\"dataframe\">\n",
       "  <thead>\n",
       "    <tr style=\"text-align: right;\">\n",
       "      <th></th>\n",
       "      <th>Group</th>\n",
       "      <th>Animal</th>\n",
       "      <th>NVC</th>\n",
       "    </tr>\n",
       "    <tr>\n",
       "      <th>Animal</th>\n",
       "      <th></th>\n",
       "      <th></th>\n",
       "      <th></th>\n",
       "    </tr>\n",
       "  </thead>\n",
       "  <tbody>\n",
       "    <tr>\n",
       "      <th>1.1</th>\n",
       "      <td>young ctrl</td>\n",
       "      <td>1.1</td>\n",
       "      <td>11.528</td>\n",
       "    </tr>\n",
       "    <tr>\n",
       "      <th>1.2</th>\n",
       "      <td>young ctrl</td>\n",
       "      <td>1.2</td>\n",
       "      <td>11.979</td>\n",
       "    </tr>\n",
       "    <tr>\n",
       "      <th>1.3</th>\n",
       "      <td>young ctrl</td>\n",
       "      <td>1.3</td>\n",
       "      <td>13.460</td>\n",
       "    </tr>\n",
       "    <tr>\n",
       "      <th>1.4</th>\n",
       "      <td>young ctrl</td>\n",
       "      <td>1.4</td>\n",
       "      <td>8.192</td>\n",
       "    </tr>\n",
       "    <tr>\n",
       "      <th>3.2</th>\n",
       "      <td>young ctrl</td>\n",
       "      <td>3.2</td>\n",
       "      <td>8.362</td>\n",
       "    </tr>\n",
       "  </tbody>\n",
       "</table>\n",
       "</div>"
      ],
      "text/plain": [
       "             Group Animal     NVC\n",
       "Animal                           \n",
       "1.1     young ctrl    1.1  11.528\n",
       "1.2     young ctrl    1.2  11.979\n",
       "1.3     young ctrl    1.3  13.460\n",
       "1.4     young ctrl    1.4   8.192\n",
       "3.2     young ctrl    3.2   8.362"
      ]
     },
     "execution_count": 20,
     "metadata": {},
     "output_type": "execute_result"
    }
   ],
   "source": [
    "md.head()"
   ]
  },
  {
   "cell_type": "code",
   "execution_count": null,
   "metadata": {
    "collapsed": true
   },
   "outputs": [],
   "source": []
  },
  {
   "cell_type": "code",
   "execution_count": 15,
   "metadata": {
    "collapsed": false
   },
   "outputs": [
    {
     "data": {
      "text/html": [
       "<div>\n",
       "<table border=\"1\" class=\"dataframe\">\n",
       "  <thead>\n",
       "    <tr style=\"text-align: right;\">\n",
       "      <th></th>\n",
       "      <th>Group</th>\n",
       "    </tr>\n",
       "  </thead>\n",
       "  <tbody>\n",
       "    <tr>\n",
       "      <th>ss31 aged injected</th>\n",
       "      <td>20</td>\n",
       "    </tr>\n",
       "    <tr>\n",
       "      <th>young ctrl</th>\n",
       "      <td>15</td>\n",
       "    </tr>\n",
       "    <tr>\n",
       "      <th>Aged Ctrl</th>\n",
       "      <td>10</td>\n",
       "    </tr>\n",
       "  </tbody>\n",
       "</table>\n",
       "</div>"
      ],
      "text/plain": [
       "                    Group\n",
       "ss31 aged injected     20\n",
       "young ctrl             15\n",
       "Aged Ctrl              10"
      ]
     },
     "execution_count": 15,
     "metadata": {},
     "output_type": "execute_result"
    }
   ],
   "source": [
    "pd.DataFrame(md.Group.value_counts())"
   ]
  },
  {
   "cell_type": "markdown",
   "metadata": {},
   "source": [
    "# Top important features"
   ]
  },
  {
   "cell_type": "markdown",
   "metadata": {},
   "source": [
    "### highest variance selection"
   ]
  },
  {
   "cell_type": "code",
   "execution_count": 25,
   "metadata": {
    "collapsed": false
   },
   "outputs": [],
   "source": [
    "selected_v, variances = sel_var(normalize_pd(d, 0), 0.001)"
   ]
  },
  {
   "cell_type": "code",
   "execution_count": null,
   "metadata": {
    "collapsed": true
   },
   "outputs": [],
   "source": []
  },
  {
   "cell_type": "code",
   "execution_count": 26,
   "metadata": {
    "collapsed": false
   },
   "outputs": [
    {
     "name": "stdout",
     "output_type": "stream",
     "text": [
      "Features with highest variance\n"
     ]
    },
    {
     "data": {
      "text/html": [
       "<div>\n",
       "<table border=\"1\" class=\"dataframe\">\n",
       "  <thead>\n",
       "    <tr style=\"text-align: right;\">\n",
       "      <th></th>\n",
       "      <th>variance (after normalisation)</th>\n",
       "    </tr>\n",
       "  </thead>\n",
       "  <tbody>\n",
       "    <tr>\n",
       "      <th>Support_Zero_(%)</th>\n",
       "      <td>0.021277</td>\n",
       "    </tr>\n",
       "    <tr>\n",
       "      <th>StepSequence_RB_(%)</th>\n",
       "      <td>0.020404</td>\n",
       "    </tr>\n",
       "    <tr>\n",
       "      <th>StepSequence_RA_(%)</th>\n",
       "      <td>0.018752</td>\n",
       "    </tr>\n",
       "    <tr>\n",
       "      <th>Support_Girdle_(%)</th>\n",
       "      <td>0.015200</td>\n",
       "    </tr>\n",
       "    <tr>\n",
       "      <th>StepSequence_NumberOfPatterns</th>\n",
       "      <td>0.010680</td>\n",
       "    </tr>\n",
       "    <tr>\n",
       "      <th>OtherStatistics_NumberOfSteps</th>\n",
       "      <td>0.010404</td>\n",
       "    </tr>\n",
       "    <tr>\n",
       "      <th>PhaseDispersions_RF-&gt;RH_Mean_delta</th>\n",
       "      <td>0.009309</td>\n",
       "    </tr>\n",
       "    <tr>\n",
       "      <th>Support_Lateral_(%)</th>\n",
       "      <td>0.009187</td>\n",
       "    </tr>\n",
       "    <tr>\n",
       "      <th>PhaseDispersions_LH-&gt;RH_Mean_delta</th>\n",
       "      <td>0.008000</td>\n",
       "    </tr>\n",
       "    <tr>\n",
       "      <th>PhaseDispersions_LF-&gt;RF_Mean_delta</th>\n",
       "      <td>0.007583</td>\n",
       "    </tr>\n",
       "    <tr>\n",
       "      <th>PhaseDispersions_LF-&gt;RH_Mean_delta</th>\n",
       "      <td>0.007393</td>\n",
       "    </tr>\n",
       "    <tr>\n",
       "      <th>PhaseDispersions_LF-&gt;LH_Mean_delta</th>\n",
       "      <td>0.006837</td>\n",
       "    </tr>\n",
       "    <tr>\n",
       "      <th>Support_Single_(%)</th>\n",
       "      <td>0.006728</td>\n",
       "    </tr>\n",
       "    <tr>\n",
       "      <th>StepSequence_AA_(%)</th>\n",
       "      <td>0.005755</td>\n",
       "    </tr>\n",
       "    <tr>\n",
       "      <th>PhaseDispersions_RF-&gt;LH_Mean_delta</th>\n",
       "      <td>0.005628</td>\n",
       "    </tr>\n",
       "  </tbody>\n",
       "</table>\n",
       "</div>"
      ],
      "text/plain": [
       "                                    variance (after normalisation)\n",
       "Support_Zero_(%)                                          0.021277\n",
       "StepSequence_RB_(%)                                       0.020404\n",
       "StepSequence_RA_(%)                                       0.018752\n",
       "Support_Girdle_(%)                                        0.015200\n",
       "StepSequence_NumberOfPatterns                             0.010680\n",
       "OtherStatistics_NumberOfSteps                             0.010404\n",
       "PhaseDispersions_RF->RH_Mean_delta                        0.009309\n",
       "Support_Lateral_(%)                                       0.009187\n",
       "PhaseDispersions_LH->RH_Mean_delta                        0.008000\n",
       "PhaseDispersions_LF->RF_Mean_delta                        0.007583\n",
       "PhaseDispersions_LF->RH_Mean_delta                        0.007393\n",
       "PhaseDispersions_LF->LH_Mean_delta                        0.006837\n",
       "Support_Single_(%)                                        0.006728\n",
       "StepSequence_AA_(%)                                       0.005755\n",
       "PhaseDispersions_RF->LH_Mean_delta                        0.005628"
      ]
     },
     "execution_count": 26,
     "metadata": {},
     "output_type": "execute_result"
    }
   ],
   "source": [
    "print(\"Features with highest variance\")\n",
    "pd.DataFrame(variances.sort_values(ascending=False)[:15], columns = ['variance (after normalisation)'])"
   ]
  },
  {
   "cell_type": "code",
   "execution_count": null,
   "metadata": {
    "collapsed": true
   },
   "outputs": [],
   "source": []
  },
  {
   "cell_type": "markdown",
   "metadata": {
    "collapsed": true
   },
   "source": [
    "### f regression selection"
   ]
  },
  {
   "cell_type": "code",
   "execution_count": 30,
   "metadata": {
    "collapsed": false
   },
   "outputs": [],
   "source": [
    "selected_a = sel_anova(normalize_pd(d, 0), md[response_column], k=15)"
   ]
  },
  {
   "cell_type": "code",
   "execution_count": 31,
   "metadata": {
    "collapsed": false
   },
   "outputs": [
    {
     "name": "stdout",
     "output_type": "stream",
     "text": [
      "Features selected by f_regression\n"
     ]
    },
    {
     "data": {
      "text/html": [
       "<div>\n",
       "<table border=\"1\" class=\"dataframe\">\n",
       "  <thead>\n",
       "    <tr style=\"text-align: right;\">\n",
       "      <th></th>\n",
       "      <th>0</th>\n",
       "    </tr>\n",
       "  </thead>\n",
       "  <tbody>\n",
       "    <tr>\n",
       "      <th>0</th>\n",
       "      <td>RF_MaxContactMeanIntensity_Mean</td>\n",
       "    </tr>\n",
       "    <tr>\n",
       "      <th>1</th>\n",
       "      <td>RF_MinIntensity_Mean</td>\n",
       "    </tr>\n",
       "    <tr>\n",
       "      <th>2</th>\n",
       "      <td>RF_MeanIntensity_Mean</td>\n",
       "    </tr>\n",
       "    <tr>\n",
       "      <th>3</th>\n",
       "      <td>RH_MinIntensity_Mean</td>\n",
       "    </tr>\n",
       "    <tr>\n",
       "      <th>4</th>\n",
       "      <td>LF_MaxContactMeanIntensity_Mean</td>\n",
       "    </tr>\n",
       "    <tr>\n",
       "      <th>5</th>\n",
       "      <td>LF_MinIntensity_Mean</td>\n",
       "    </tr>\n",
       "    <tr>\n",
       "      <th>6</th>\n",
       "      <td>LF_MeanIntensity_Mean</td>\n",
       "    </tr>\n",
       "    <tr>\n",
       "      <th>7</th>\n",
       "      <td>LH_MinIntensity_Mean</td>\n",
       "    </tr>\n",
       "    <tr>\n",
       "      <th>8</th>\n",
       "      <td>FP_MaxContactMeanIntensity_Mean</td>\n",
       "    </tr>\n",
       "    <tr>\n",
       "      <th>9</th>\n",
       "      <td>FP_MinIntensity_Mean</td>\n",
       "    </tr>\n",
       "    <tr>\n",
       "      <th>10</th>\n",
       "      <td>FP_MeanIntensity_Mean</td>\n",
       "    </tr>\n",
       "    <tr>\n",
       "      <th>11</th>\n",
       "      <td>HP_MinIntensity_Mean</td>\n",
       "    </tr>\n",
       "    <tr>\n",
       "      <th>12</th>\n",
       "      <td>StepSequence_NumberOfPatterns</td>\n",
       "    </tr>\n",
       "    <tr>\n",
       "      <th>13</th>\n",
       "      <td>OtherStatistics_NumberOfSteps</td>\n",
       "    </tr>\n",
       "    <tr>\n",
       "      <th>14</th>\n",
       "      <td>PrintPositions_RightPaws_Mean_(cm)</td>\n",
       "    </tr>\n",
       "  </tbody>\n",
       "</table>\n",
       "</div>"
      ],
      "text/plain": [
       "                                     0\n",
       "0      RF_MaxContactMeanIntensity_Mean\n",
       "1                 RF_MinIntensity_Mean\n",
       "2                RF_MeanIntensity_Mean\n",
       "3                 RH_MinIntensity_Mean\n",
       "4      LF_MaxContactMeanIntensity_Mean\n",
       "5                 LF_MinIntensity_Mean\n",
       "6                LF_MeanIntensity_Mean\n",
       "7                 LH_MinIntensity_Mean\n",
       "8      FP_MaxContactMeanIntensity_Mean\n",
       "9                 FP_MinIntensity_Mean\n",
       "10               FP_MeanIntensity_Mean\n",
       "11                HP_MinIntensity_Mean\n",
       "12       StepSequence_NumberOfPatterns\n",
       "13       OtherStatistics_NumberOfSteps\n",
       "14  PrintPositions_RightPaws_Mean_(cm)"
      ]
     },
     "execution_count": 31,
     "metadata": {},
     "output_type": "execute_result"
    }
   ],
   "source": [
    "print(\"Features selected by f_regression\")\n",
    "pd.DataFrame(selected_a.columns)"
   ]
  },
  {
   "cell_type": "markdown",
   "metadata": {},
   "source": [
    "### mutual information regression selection"
   ]
  },
  {
   "cell_type": "code",
   "execution_count": 32,
   "metadata": {
    "collapsed": false
   },
   "outputs": [],
   "source": [
    "selected_m = sel_mi(normalize_pd(d, 0), md[response_column], k=15)"
   ]
  },
  {
   "cell_type": "code",
   "execution_count": 33,
   "metadata": {
    "collapsed": false
   },
   "outputs": [
    {
     "name": "stdout",
     "output_type": "stream",
     "text": [
      "Features selected by mutual_info_regression\n"
     ]
    },
    {
     "data": {
      "text/html": [
       "<div>\n",
       "<table border=\"1\" class=\"dataframe\">\n",
       "  <thead>\n",
       "    <tr style=\"text-align: right;\">\n",
       "      <th></th>\n",
       "      <th>0</th>\n",
       "    </tr>\n",
       "  </thead>\n",
       "  <tbody>\n",
       "    <tr>\n",
       "      <th>0</th>\n",
       "      <td>RF_MaxIntensityAt_(%)_Mean</td>\n",
       "    </tr>\n",
       "    <tr>\n",
       "      <th>1</th>\n",
       "      <td>RF_MinIntensity_Mean</td>\n",
       "    </tr>\n",
       "    <tr>\n",
       "      <th>2</th>\n",
       "      <td>RH_MaxContactArea_(cm²)_Mean</td>\n",
       "    </tr>\n",
       "    <tr>\n",
       "      <th>3</th>\n",
       "      <td>RH_PrintLength_(cm)_Mean</td>\n",
       "    </tr>\n",
       "    <tr>\n",
       "      <th>4</th>\n",
       "      <td>RH_PrintArea_(cm²)_Mean</td>\n",
       "    </tr>\n",
       "    <tr>\n",
       "      <th>5</th>\n",
       "      <td>LF_PrintLength_(cm)_Mean</td>\n",
       "    </tr>\n",
       "    <tr>\n",
       "      <th>6</th>\n",
       "      <td>LF_MinIntensity_Mean</td>\n",
       "    </tr>\n",
       "    <tr>\n",
       "      <th>7</th>\n",
       "      <td>LH_PrintLength_(cm)_Mean</td>\n",
       "    </tr>\n",
       "    <tr>\n",
       "      <th>8</th>\n",
       "      <td>FP_PrintLength_(cm)_Mean</td>\n",
       "    </tr>\n",
       "    <tr>\n",
       "      <th>9</th>\n",
       "      <td>FP_MinIntensity_Mean</td>\n",
       "    </tr>\n",
       "    <tr>\n",
       "      <th>10</th>\n",
       "      <td>HP_MinIntensity_Mean</td>\n",
       "    </tr>\n",
       "    <tr>\n",
       "      <th>11</th>\n",
       "      <td>HP_Swing_(s)_Mean</td>\n",
       "    </tr>\n",
       "    <tr>\n",
       "      <th>12</th>\n",
       "      <td>StepSequence_NumberOfPatterns</td>\n",
       "    </tr>\n",
       "    <tr>\n",
       "      <th>13</th>\n",
       "      <td>OtherStatistics_NumberOfSteps</td>\n",
       "    </tr>\n",
       "    <tr>\n",
       "      <th>14</th>\n",
       "      <td>PhaseDispersions_LF-&gt;RH_Mean_delta</td>\n",
       "    </tr>\n",
       "  </tbody>\n",
       "</table>\n",
       "</div>"
      ],
      "text/plain": [
       "                                     0\n",
       "0           RF_MaxIntensityAt_(%)_Mean\n",
       "1                 RF_MinIntensity_Mean\n",
       "2         RH_MaxContactArea_(cm²)_Mean\n",
       "3             RH_PrintLength_(cm)_Mean\n",
       "4              RH_PrintArea_(cm²)_Mean\n",
       "5             LF_PrintLength_(cm)_Mean\n",
       "6                 LF_MinIntensity_Mean\n",
       "7             LH_PrintLength_(cm)_Mean\n",
       "8             FP_PrintLength_(cm)_Mean\n",
       "9                 FP_MinIntensity_Mean\n",
       "10                HP_MinIntensity_Mean\n",
       "11                   HP_Swing_(s)_Mean\n",
       "12       StepSequence_NumberOfPatterns\n",
       "13       OtherStatistics_NumberOfSteps\n",
       "14  PhaseDispersions_LF->RH_Mean_delta"
      ]
     },
     "execution_count": 33,
     "metadata": {},
     "output_type": "execute_result"
    }
   ],
   "source": [
    "print(\"Features selected by mutual_info_regression\")\n",
    "pd.DataFrame(selected_m.columns)"
   ]
  },
  {
   "cell_type": "code",
   "execution_count": null,
   "metadata": {
    "collapsed": true
   },
   "outputs": [],
   "source": []
  },
  {
   "cell_type": "markdown",
   "metadata": {},
   "source": [
    "### Comparison of feature reduction methods"
   ]
  },
  {
   "cell_type": "code",
   "execution_count": 36,
   "metadata": {
    "collapsed": false
   },
   "outputs": [
    {
     "name": "stdout",
     "output_type": "stream",
     "text": [
      "Number of selected features that overlap between methods (out of 15):\n",
      " - var-f_reg: 2 features.\n",
      " - var-mi_reg: 3 features.\n",
      " - f_reg-mi_reg: 6 features. \n",
      "Well, more than for dummy response.\n"
     ]
    }
   ],
   "source": [
    "print(\"Number of selected features that overlap between methods (out of 15):\")\n",
    "print(' - var-f_reg:', str(sum([i in selected_a.columns.tolist()\n",
    "                              for i in variances.sort_values(ascending=False)[:15].index.tolist()])),\n",
    "                             \"features.\")\n",
    "print(' - var-mi_reg:', str(sum([i in selected_m.columns.tolist()\n",
    "                              for i in variances.sort_values(ascending=False)[:15].index.tolist()])),\n",
    "                             \"features.\")\n",
    "print(' - f_reg-mi_reg:', str(sum([i in selected_a.columns.tolist()\n",
    "                              for i in selected_m.columns.tolist()])),\n",
    "                             \"features. \\nWell, more than for dummy response.\")"
   ]
  },
  {
   "cell_type": "code",
   "execution_count": 47,
   "metadata": {
    "collapsed": false,
    "scrolled": false
   },
   "outputs": [
    {
     "data": {
      "image/png": "[encoded data removed]",
      "text/plain": [
       "<matplotlib.figure.Figure at 0x7f79810a85f8>"
      ]
     },
     "metadata": {},
     "output_type": "display_data"
    }
   ],
   "source": [
    "compare_dim_red_methods(normalize_pd(d, 0), round(md[response_column], 0))"
   ]
  },
  {
   "cell_type": "code",
   "execution_count": null,
   "metadata": {
    "collapsed": true
   },
   "outputs": [],
   "source": []
  },
  {
   "cell_type": "markdown",
   "metadata": {},
   "source": [
    "# PCA"
   ]
  },
  {
   "cell_type": "code",
   "execution_count": 37,
   "metadata": {
    "collapsed": false
   },
   "outputs": [],
   "source": [
    "comps, exvar, _ = get_pc(normalize_pd(d,0, 'normalize'),2)"
   ]
  },
  {
   "cell_type": "code",
   "execution_count": 38,
   "metadata": {
    "collapsed": false
   },
   "outputs": [
    {
     "data": {
      "image/png": "[encoded data removed]",
      "text/plain": [
       "<matplotlib.figure.Figure at 0x7f793ab82128>"
      ]
     },
     "metadata": {},
     "output_type": "display_data"
    }
   ],
   "source": [
    "plot_comps = get_plot_comps(comps, md)\n",
    "p2 = sns.lmplot(x='PC1', y='PC2', hue='Group', data=plot_comps, ci=None, fit_reg=False,\n",
    "               scatter_kws={\"s\":50})"
   ]
  },
  {
   "cell_type": "markdown",
   "metadata": {},
   "source": [
    "The first two components seem to actually cluster both aged groups together, with some difference between the 'aged' cluster and 'young' cluster. There are some outliers from the Group 'aged treated'..."
   ]
  },
  {
   "cell_type": "code",
   "execution_count": 40,
   "metadata": {
    "collapsed": false
   },
   "outputs": [],
   "source": [
    "#p2 = sns.lmplot(x='PC1', y='PC2', hue='Trial', data=plot_comps.sort_values('Trial').iloc[:10,:],\n",
    "#                ci=None, fit_reg=False, scatter_kws={\"s\":50})#, y_jitter=0.01, x_jitter=0.01)"
   ]
  },
  {
   "cell_type": "code",
   "execution_count": null,
   "metadata": {
    "collapsed": true
   },
   "outputs": [],
   "source": []
  },
  {
   "cell_type": "markdown",
   "metadata": {},
   "source": [
    "# Notes"
   ]
  },
  {
   "cell_type": "code",
   "execution_count": null,
   "metadata": {
    "collapsed": true
   },
   "outputs": [],
   "source": [
    "# heatmap: linkages!\n",
    "p3.dendrogram_col.linkage # linkage matrix for columns\n",
    "p3.dendrogram_row.linkage # linkage matrix for rows"
   ]
  },
  {
   "cell_type": "code",
   "execution_count": null,
   "metadata": {
    "collapsed": true
   },
   "outputs": [],
   "source": []
  },
  {
   "cell_type": "code",
   "execution_count": null,
   "metadata": {
    "collapsed": true
   },
   "outputs": [],
   "source": []
  }
 ],
 "metadata": {
  "kernelspec": {
   "display_name": "Python 3",
   "language": "python",
   "name": "python3"
  },
  "language_info": {
   "codemirror_mode": {
    "name": "ipython",
    "version": 3
   },
   "file_extension": ".py",
   "mimetype": "text/x-python",
   "name": "python",
   "nbconvert_exporter": "python",
   "pygments_lexer": "ipython3",
   "version": "3.6.0"
  }
 },
 "nbformat": 4,
 "nbformat_minor": 2
}
