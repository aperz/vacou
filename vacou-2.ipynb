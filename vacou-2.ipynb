{
 "cells": [
  {
   "cell_type": "markdown",
   "metadata": {
    "collapsed": true
   },
   "source": [
    "This is version 2 of the notebook using the dataset with actual response variables."
   ]
  },
  {
   "cell_type": "markdown",
   "metadata": {},
   "source": [
    "# TODO\n",
    "\n",
    "- rerun manova and put it into function\n",
    "- NEED MORE DATA POINTS\n",
    "- dendrogram: which groups are closest\n",
    "- ask Cory whether inverse PCA transformation can be used to get transformation for future data points to be comparable (the 'index' idea)\n",
    "\n",
    "# NOTES\n",
    "- my response really is 'Group', not 'NVC' (this is changes from version 0 and first drafts of version 2) - OR IS IT?"
   ]
  },
  {
   "cell_type": "code",
   "execution_count": 330,
   "metadata": {
    "collapsed": false
   },
   "outputs": [
    {
     "name": "stdout",
     "output_type": "stream",
     "text": [
      "The autoreload extension is already loaded. To reload it, use:\n",
      "  %reload_ext autoreload\n"
     ]
    }
   ],
   "source": [
    "%load_ext autoreload\n",
    "%autoreload 2\n",
    "import warnings; warnings.simplefilter('ignore')\n",
    "\n",
    "import pandas as pd\n",
    "import numpy as np\n",
    "from vacou import *\n",
    "from plots import *\n",
    "from sklearn.metrics.pairwise import pairwise_distances\n",
    "\n",
    "import seaborn as sns\n",
    "import matplotlib.pyplot as plt\n",
    "%matplotlib inline\n",
    "sns.set(color_codes=True)\n",
    "sns.set(style=\"white\")\n",
    "#sns.set(font=\"monospace\")"
   ]
  },
  {
   "cell_type": "code",
   "execution_count": 331,
   "metadata": {
    "collapsed": true
   },
   "outputs": [],
   "source": [
    "data_fp = '/P/vacou/data/SS31_gait_data_for_PCA.tsv'\n",
    "#d_orig = pd.read_csv(data_fp, sep='\\t')\n",
    "response_column = 'Group'"
   ]
  },
  {
   "cell_type": "code",
   "execution_count": 332,
   "metadata": {
    "collapsed": false
   },
   "outputs": [],
   "source": [
    "d, md, full_df = preprocess_vc(data_fp, version = 2, use_vars_fp='data/use_variables.csv')"
   ]
  },
  {
   "cell_type": "code",
   "execution_count": 333,
   "metadata": {
    "collapsed": false
   },
   "outputs": [
    {
     "name": "stdout",
     "output_type": "stream",
     "text": [
      "(45, 112) (45, 2) (45, 192)\n"
     ]
    }
   ],
   "source": [
    "print(d.shape, md.shape, full_df.shape)"
   ]
  },
  {
   "cell_type": "code",
   "execution_count": 334,
   "metadata": {
    "collapsed": true
   },
   "outputs": [],
   "source": [
    "#d.to_csv('data/data_ss31.tsv', sep='\\t')\n",
    "#md.to_csv('data/md.tsv', sep='\\t')\n",
    "#full_df.to_csv('data/data_ss31_with_md.tsv', sep=\"\\t\")"
   ]
  },
  {
   "cell_type": "code",
   "execution_count": null,
   "metadata": {
    "collapsed": true
   },
   "outputs": [],
   "source": []
  },
  {
   "cell_type": "markdown",
   "metadata": {},
   "source": [
    "# Exploratory"
   ]
  },
  {
   "cell_type": "code",
   "execution_count": 336,
   "metadata": {
    "collapsed": false
   },
   "outputs": [
    {
     "data": {
      "text/plain": [
       "['Group',\n",
       " 'Animal',\n",
       " 'Run_Duration_(s)_Mean',\n",
       " 'Run_Average_Speed_(cm/s)_Mean',\n",
       " 'Run_Maximum_Variation_(%)_Mean',\n",
       " 'RF_Stand_(s)_Mean',\n",
       " 'RF_StandIndex_Mean',\n",
       " 'RF_MaxContactAt_(%)_Mean',\n",
       " 'RF_MaxContactArea_(cm²)_Mean',\n",
       " 'RF_MaxContactMaxIntensity_Mean',\n",
       " 'RF_MaxContactMeanIntensity_Mean',\n",
       " 'RF_PrintLength_(cm)_Mean',\n",
       " 'RF_PrintWidth_(cm)_Mean',\n",
       " 'RF_PrintArea_(cm²)_Mean',\n",
       " 'RF_MaxIntensityAt_(%)_Mean',\n",
       " 'RF_MaxIntensity_Mean',\n",
       " 'RF_MinIntensity_Mean',\n",
       " 'RF_MeanIntensity_Mean',\n",
       " 'RF_MeanIntensityOfThe15MostIntensePixels_Mean',\n",
       " 'RF_Swing_(s)_Mean']"
      ]
     },
     "execution_count": 336,
     "metadata": {},
     "output_type": "execute_result"
    }
   ],
   "source": [
    "full_df.columns.tolist()[:20]"
   ]
  },
  {
   "cell_type": "code",
   "execution_count": 337,
   "metadata": {
    "collapsed": false
   },
   "outputs": [
    {
     "data": {
      "text/html": [
       "<div>\n",
       "<table border=\"1\" class=\"dataframe\">\n",
       "  <thead>\n",
       "    <tr style=\"text-align: right;\">\n",
       "      <th></th>\n",
       "      <th>Run_Average_Speed_(cm/s)_Mean</th>\n",
       "      <th>RF_StandIndex_Mean</th>\n",
       "      <th>RF_MaxContactAt_(%)_Mean</th>\n",
       "      <th>RF_Swing_(s)_Mean</th>\n",
       "      <th>RF_SwingSpeed_(cm/s)_Mean</th>\n",
       "      <th>RF_StrideLength_(cm)_Mean</th>\n",
       "      <th>RF_StepCycle_(s)_Mean</th>\n",
       "      <th>RF_DutyCycle_(%)_Mean</th>\n",
       "      <th>RF_SingleStance_(s)_Mean</th>\n",
       "      <th>RF_InitialDualStance_(s)_Mean</th>\n",
       "      <th>...</th>\n",
       "      <th>LF_BodySpeedVariation_(%)_Mean</th>\n",
       "      <th>LH_Stand_(s)_Mean</th>\n",
       "      <th>LH_StandIndex_Mean</th>\n",
       "      <th>LH_MaxContactAt_(%)_Mean</th>\n",
       "      <th>LH_Swing_(s)_Mean</th>\n",
       "      <th>LH_SwingSpeed_(cm/s)_Mean</th>\n",
       "      <th>LH_StrideLength_(cm)_Mean</th>\n",
       "      <th>LH_StepCycle_(s)_Mean</th>\n",
       "      <th>LH_DutyCycle_(%)_Mean</th>\n",
       "      <th>LH_SingleStance_(s)_Mean</th>\n",
       "    </tr>\n",
       "  </thead>\n",
       "  <tbody>\n",
       "    <tr>\n",
       "      <th>count</th>\n",
       "      <td>45.000000</td>\n",
       "      <td>45.000000</td>\n",
       "      <td>45.000000</td>\n",
       "      <td>45.000000</td>\n",
       "      <td>45.000000</td>\n",
       "      <td>45.000000</td>\n",
       "      <td>45.000000</td>\n",
       "      <td>45.000000</td>\n",
       "      <td>45.000000</td>\n",
       "      <td>45.000000</td>\n",
       "      <td>...</td>\n",
       "      <td>45.000000</td>\n",
       "      <td>45.000000</td>\n",
       "      <td>45.000000</td>\n",
       "      <td>45.000000</td>\n",
       "      <td>45.000000</td>\n",
       "      <td>45.000000</td>\n",
       "      <td>45.000000</td>\n",
       "      <td>45.000000</td>\n",
       "      <td>45.000000</td>\n",
       "      <td>45.000000</td>\n",
       "    </tr>\n",
       "    <tr>\n",
       "      <th>mean</th>\n",
       "      <td>15.492489</td>\n",
       "      <td>-3.023624</td>\n",
       "      <td>39.615562</td>\n",
       "      <td>0.165033</td>\n",
       "      <td>44.014118</td>\n",
       "      <td>6.326141</td>\n",
       "      <td>0.392749</td>\n",
       "      <td>57.856142</td>\n",
       "      <td>0.153877</td>\n",
       "      <td>0.036273</td>\n",
       "      <td>...</td>\n",
       "      <td>29.695562</td>\n",
       "      <td>0.262652</td>\n",
       "      <td>-6.517368</td>\n",
       "      <td>34.350668</td>\n",
       "      <td>0.130120</td>\n",
       "      <td>49.725466</td>\n",
       "      <td>6.098902</td>\n",
       "      <td>0.387094</td>\n",
       "      <td>63.632345</td>\n",
       "      <td>0.125360</td>\n",
       "    </tr>\n",
       "    <tr>\n",
       "      <th>std</th>\n",
       "      <td>4.447181</td>\n",
       "      <td>0.774734</td>\n",
       "      <td>5.762326</td>\n",
       "      <td>0.026097</td>\n",
       "      <td>7.587482</td>\n",
       "      <td>0.845784</td>\n",
       "      <td>0.052821</td>\n",
       "      <td>2.534930</td>\n",
       "      <td>0.023804</td>\n",
       "      <td>0.011402</td>\n",
       "      <td>...</td>\n",
       "      <td>8.929126</td>\n",
       "      <td>0.049168</td>\n",
       "      <td>1.712988</td>\n",
       "      <td>6.160769</td>\n",
       "      <td>0.026428</td>\n",
       "      <td>8.824091</td>\n",
       "      <td>0.955912</td>\n",
       "      <td>0.053425</td>\n",
       "      <td>5.208430</td>\n",
       "      <td>0.027986</td>\n",
       "    </tr>\n",
       "    <tr>\n",
       "      <th>min</th>\n",
       "      <td>8.233310</td>\n",
       "      <td>-5.539478</td>\n",
       "      <td>25.672339</td>\n",
       "      <td>0.122154</td>\n",
       "      <td>32.192698</td>\n",
       "      <td>4.544817</td>\n",
       "      <td>0.293732</td>\n",
       "      <td>52.288255</td>\n",
       "      <td>0.096604</td>\n",
       "      <td>0.015602</td>\n",
       "      <td>...</td>\n",
       "      <td>16.166612</td>\n",
       "      <td>0.169034</td>\n",
       "      <td>-11.976545</td>\n",
       "      <td>22.506915</td>\n",
       "      <td>0.083153</td>\n",
       "      <td>30.267242</td>\n",
       "      <td>3.859356</td>\n",
       "      <td>0.280508</td>\n",
       "      <td>53.652073</td>\n",
       "      <td>0.084439</td>\n",
       "    </tr>\n",
       "    <tr>\n",
       "      <th>25%</th>\n",
       "      <td>13.795579</td>\n",
       "      <td>-3.471036</td>\n",
       "      <td>34.480518</td>\n",
       "      <td>0.145762</td>\n",
       "      <td>39.155787</td>\n",
       "      <td>5.713459</td>\n",
       "      <td>0.361386</td>\n",
       "      <td>56.109165</td>\n",
       "      <td>0.140178</td>\n",
       "      <td>0.029114</td>\n",
       "      <td>...</td>\n",
       "      <td>22.636445</td>\n",
       "      <td>0.225131</td>\n",
       "      <td>-7.490272</td>\n",
       "      <td>29.400657</td>\n",
       "      <td>0.117073</td>\n",
       "      <td>44.535744</td>\n",
       "      <td>5.485780</td>\n",
       "      <td>0.352589</td>\n",
       "      <td>59.581155</td>\n",
       "      <td>0.107855</td>\n",
       "    </tr>\n",
       "    <tr>\n",
       "      <th>50%</th>\n",
       "      <td>14.787200</td>\n",
       "      <td>-2.845816</td>\n",
       "      <td>40.175398</td>\n",
       "      <td>0.160970</td>\n",
       "      <td>42.595346</td>\n",
       "      <td>6.343130</td>\n",
       "      <td>0.394577</td>\n",
       "      <td>57.581419</td>\n",
       "      <td>0.152672</td>\n",
       "      <td>0.035215</td>\n",
       "      <td>...</td>\n",
       "      <td>28.995632</td>\n",
       "      <td>0.258668</td>\n",
       "      <td>-6.335093</td>\n",
       "      <td>34.587902</td>\n",
       "      <td>0.127147</td>\n",
       "      <td>50.124704</td>\n",
       "      <td>6.238482</td>\n",
       "      <td>0.388277</td>\n",
       "      <td>64.359498</td>\n",
       "      <td>0.117324</td>\n",
       "    </tr>\n",
       "    <tr>\n",
       "      <th>75%</th>\n",
       "      <td>16.656712</td>\n",
       "      <td>-2.522384</td>\n",
       "      <td>42.746750</td>\n",
       "      <td>0.188699</td>\n",
       "      <td>46.903520</td>\n",
       "      <td>6.857050</td>\n",
       "      <td>0.432204</td>\n",
       "      <td>59.103890</td>\n",
       "      <td>0.169052</td>\n",
       "      <td>0.043986</td>\n",
       "      <td>...</td>\n",
       "      <td>34.241979</td>\n",
       "      <td>0.303177</td>\n",
       "      <td>-5.357041</td>\n",
       "      <td>38.768692</td>\n",
       "      <td>0.137161</td>\n",
       "      <td>54.770870</td>\n",
       "      <td>6.873361</td>\n",
       "      <td>0.425085</td>\n",
       "      <td>68.063272</td>\n",
       "      <td>0.139033</td>\n",
       "    </tr>\n",
       "    <tr>\n",
       "      <th>max</th>\n",
       "      <td>36.367256</td>\n",
       "      <td>-1.907316</td>\n",
       "      <td>52.107865</td>\n",
       "      <td>0.216407</td>\n",
       "      <td>71.448406</td>\n",
       "      <td>8.215144</td>\n",
       "      <td>0.486805</td>\n",
       "      <td>63.626018</td>\n",
       "      <td>0.207266</td>\n",
       "      <td>0.063617</td>\n",
       "      <td>...</td>\n",
       "      <td>57.471771</td>\n",
       "      <td>0.354071</td>\n",
       "      <td>-3.522899</td>\n",
       "      <td>47.127878</td>\n",
       "      <td>0.221950</td>\n",
       "      <td>72.947443</td>\n",
       "      <td>8.112944</td>\n",
       "      <td>0.486316</td>\n",
       "      <td>73.572929</td>\n",
       "      <td>0.222574</td>\n",
       "    </tr>\n",
       "  </tbody>\n",
       "</table>\n",
       "<p>8 rows × 112 columns</p>\n",
       "</div>"
      ],
      "text/plain": [
       "       Run_Average_Speed_(cm/s)_Mean  RF_StandIndex_Mean  \\\n",
       "count                      45.000000           45.000000   \n",
       "mean                       15.492489           -3.023624   \n",
       "std                         4.447181            0.774734   \n",
       "min                         8.233310           -5.539478   \n",
       "25%                        13.795579           -3.471036   \n",
       "50%                        14.787200           -2.845816   \n",
       "75%                        16.656712           -2.522384   \n",
       "max                        36.367256           -1.907316   \n",
       "\n",
       "       RF_MaxContactAt_(%)_Mean  RF_Swing_(s)_Mean  RF_SwingSpeed_(cm/s)_Mean  \\\n",
       "count                 45.000000          45.000000                  45.000000   \n",
       "mean                  39.615562           0.165033                  44.014118   \n",
       "std                    5.762326           0.026097                   7.587482   \n",
       "min                   25.672339           0.122154                  32.192698   \n",
       "25%                   34.480518           0.145762                  39.155787   \n",
       "50%                   40.175398           0.160970                  42.595346   \n",
       "75%                   42.746750           0.188699                  46.903520   \n",
       "max                   52.107865           0.216407                  71.448406   \n",
       "\n",
       "       RF_StrideLength_(cm)_Mean  RF_StepCycle_(s)_Mean  \\\n",
       "count                  45.000000              45.000000   \n",
       "mean                    6.326141               0.392749   \n",
       "std                     0.845784               0.052821   \n",
       "min                     4.544817               0.293732   \n",
       "25%                     5.713459               0.361386   \n",
       "50%                     6.343130               0.394577   \n",
       "75%                     6.857050               0.432204   \n",
       "max                     8.215144               0.486805   \n",
       "\n",
       "       RF_DutyCycle_(%)_Mean  RF_SingleStance_(s)_Mean  \\\n",
       "count              45.000000                 45.000000   \n",
       "mean               57.856142                  0.153877   \n",
       "std                 2.534930                  0.023804   \n",
       "min                52.288255                  0.096604   \n",
       "25%                56.109165                  0.140178   \n",
       "50%                57.581419                  0.152672   \n",
       "75%                59.103890                  0.169052   \n",
       "max                63.626018                  0.207266   \n",
       "\n",
       "       RF_InitialDualStance_(s)_Mean            ...             \\\n",
       "count                      45.000000            ...              \n",
       "mean                        0.036273            ...              \n",
       "std                         0.011402            ...              \n",
       "min                         0.015602            ...              \n",
       "25%                         0.029114            ...              \n",
       "50%                         0.035215            ...              \n",
       "75%                         0.043986            ...              \n",
       "max                         0.063617            ...              \n",
       "\n",
       "       LF_BodySpeedVariation_(%)_Mean  LH_Stand_(s)_Mean  LH_StandIndex_Mean  \\\n",
       "count                       45.000000          45.000000           45.000000   \n",
       "mean                        29.695562           0.262652           -6.517368   \n",
       "std                          8.929126           0.049168            1.712988   \n",
       "min                         16.166612           0.169034          -11.976545   \n",
       "25%                         22.636445           0.225131           -7.490272   \n",
       "50%                         28.995632           0.258668           -6.335093   \n",
       "75%                         34.241979           0.303177           -5.357041   \n",
       "max                         57.471771           0.354071           -3.522899   \n",
       "\n",
       "       LH_MaxContactAt_(%)_Mean  LH_Swing_(s)_Mean  LH_SwingSpeed_(cm/s)_Mean  \\\n",
       "count                 45.000000          45.000000                  45.000000   \n",
       "mean                  34.350668           0.130120                  49.725466   \n",
       "std                    6.160769           0.026428                   8.824091   \n",
       "min                   22.506915           0.083153                  30.267242   \n",
       "25%                   29.400657           0.117073                  44.535744   \n",
       "50%                   34.587902           0.127147                  50.124704   \n",
       "75%                   38.768692           0.137161                  54.770870   \n",
       "max                   47.127878           0.221950                  72.947443   \n",
       "\n",
       "       LH_StrideLength_(cm)_Mean  LH_StepCycle_(s)_Mean  \\\n",
       "count                  45.000000              45.000000   \n",
       "mean                    6.098902               0.387094   \n",
       "std                     0.955912               0.053425   \n",
       "min                     3.859356               0.280508   \n",
       "25%                     5.485780               0.352589   \n",
       "50%                     6.238482               0.388277   \n",
       "75%                     6.873361               0.425085   \n",
       "max                     8.112944               0.486316   \n",
       "\n",
       "       LH_DutyCycle_(%)_Mean  LH_SingleStance_(s)_Mean  \n",
       "count              45.000000                 45.000000  \n",
       "mean               63.632345                  0.125360  \n",
       "std                 5.208430                  0.027986  \n",
       "min                53.652073                  0.084439  \n",
       "25%                59.581155                  0.107855  \n",
       "50%                64.359498                  0.117324  \n",
       "75%                68.063272                  0.139033  \n",
       "max                73.572929                  0.222574  \n",
       "\n",
       "[8 rows x 112 columns]"
      ]
     },
     "execution_count": 337,
     "metadata": {},
     "output_type": "execute_result"
    }
   ],
   "source": [
    "d.describe()"
   ]
  },
  {
   "cell_type": "code",
   "execution_count": 338,
   "metadata": {
    "collapsed": false
   },
   "outputs": [
    {
     "data": {
      "text/html": [
       "<div>\n",
       "<table border=\"1\" class=\"dataframe\">\n",
       "  <thead>\n",
       "    <tr style=\"text-align: right;\">\n",
       "      <th></th>\n",
       "      <th></th>\n",
       "      <th>Group</th>\n",
       "      <th>Animal</th>\n",
       "    </tr>\n",
       "    <tr>\n",
       "      <th>Group</th>\n",
       "      <th>Animal</th>\n",
       "      <th></th>\n",
       "      <th></th>\n",
       "    </tr>\n",
       "  </thead>\n",
       "  <tbody>\n",
       "    <tr>\n",
       "      <th rowspan=\"5\" valign=\"top\">young ctrl</th>\n",
       "      <th>1.1</th>\n",
       "      <td>young ctrl</td>\n",
       "      <td>1.1</td>\n",
       "    </tr>\n",
       "    <tr>\n",
       "      <th>1.2</th>\n",
       "      <td>young ctrl</td>\n",
       "      <td>1.2</td>\n",
       "    </tr>\n",
       "    <tr>\n",
       "      <th>1.3</th>\n",
       "      <td>young ctrl</td>\n",
       "      <td>1.3</td>\n",
       "    </tr>\n",
       "    <tr>\n",
       "      <th>1.4</th>\n",
       "      <td>young ctrl</td>\n",
       "      <td>1.4</td>\n",
       "    </tr>\n",
       "    <tr>\n",
       "      <th>3.2</th>\n",
       "      <td>young ctrl</td>\n",
       "      <td>3.2</td>\n",
       "    </tr>\n",
       "  </tbody>\n",
       "</table>\n",
       "</div>"
      ],
      "text/plain": [
       "                        Group Animal\n",
       "Group      Animal                   \n",
       "young ctrl 1.1     young ctrl    1.1\n",
       "           1.2     young ctrl    1.2\n",
       "           1.3     young ctrl    1.3\n",
       "           1.4     young ctrl    1.4\n",
       "           3.2     young ctrl    3.2"
      ]
     },
     "execution_count": 338,
     "metadata": {},
     "output_type": "execute_result"
    }
   ],
   "source": [
    "md.head()"
   ]
  },
  {
   "cell_type": "code",
   "execution_count": null,
   "metadata": {
    "collapsed": true
   },
   "outputs": [],
   "source": []
  },
  {
   "cell_type": "code",
   "execution_count": 339,
   "metadata": {
    "collapsed": false
   },
   "outputs": [
    {
     "data": {
      "text/html": [
       "<div>\n",
       "<table border=\"1\" class=\"dataframe\">\n",
       "  <thead>\n",
       "    <tr style=\"text-align: right;\">\n",
       "      <th></th>\n",
       "      <th>Group</th>\n",
       "    </tr>\n",
       "  </thead>\n",
       "  <tbody>\n",
       "    <tr>\n",
       "      <th>ss31 aged injected</th>\n",
       "      <td>20</td>\n",
       "    </tr>\n",
       "    <tr>\n",
       "      <th>young ctrl</th>\n",
       "      <td>15</td>\n",
       "    </tr>\n",
       "    <tr>\n",
       "      <th>Aged Ctrl</th>\n",
       "      <td>10</td>\n",
       "    </tr>\n",
       "  </tbody>\n",
       "</table>\n",
       "</div>"
      ],
      "text/plain": [
       "                    Group\n",
       "ss31 aged injected     20\n",
       "young ctrl             15\n",
       "Aged Ctrl              10"
      ]
     },
     "execution_count": 339,
     "metadata": {},
     "output_type": "execute_result"
    }
   ],
   "source": [
    "pd.DataFrame(md.Group.value_counts())"
   ]
  },
  {
   "cell_type": "markdown",
   "metadata": {},
   "source": [
    "# Top important features"
   ]
  },
  {
   "cell_type": "markdown",
   "metadata": {},
   "source": [
    "### highest variance selection"
   ]
  },
  {
   "cell_type": "code",
   "execution_count": 215,
   "metadata": {
    "collapsed": false
   },
   "outputs": [],
   "source": [
    "selected_v, variances = sel_var(normalize_pd(d, 0), 0.001)"
   ]
  },
  {
   "cell_type": "code",
   "execution_count": null,
   "metadata": {
    "collapsed": true
   },
   "outputs": [],
   "source": []
  },
  {
   "cell_type": "code",
   "execution_count": 340,
   "metadata": {
    "collapsed": false
   },
   "outputs": [
    {
     "name": "stdout",
     "output_type": "stream",
     "text": [
      "Features with highest variance\n"
     ]
    },
    {
     "data": {
      "text/html": [
       "<div>\n",
       "<table border=\"1\" class=\"dataframe\">\n",
       "  <thead>\n",
       "    <tr style=\"text-align: right;\">\n",
       "      <th></th>\n",
       "      <th>variance (after normalisation)</th>\n",
       "    </tr>\n",
       "  </thead>\n",
       "  <tbody>\n",
       "    <tr>\n",
       "      <th>LH_InitialDualStance_(s)_Mean</th>\n",
       "      <td>0.003516</td>\n",
       "    </tr>\n",
       "    <tr>\n",
       "      <th>RH_TerminalDualStance_(s)_Mean</th>\n",
       "      <td>0.003433</td>\n",
       "    </tr>\n",
       "    <tr>\n",
       "      <th>RH_TerminalDualStance_(s)_Mean</th>\n",
       "      <td>0.003433</td>\n",
       "    </tr>\n",
       "    <tr>\n",
       "      <th>RH_InitialDualStance_(s)_Mean</th>\n",
       "      <td>0.003318</td>\n",
       "    </tr>\n",
       "    <tr>\n",
       "      <th>RH_InitialDualStance_(s)_Mean</th>\n",
       "      <td>0.003318</td>\n",
       "    </tr>\n",
       "    <tr>\n",
       "      <th>LF_InitialDualStance_(s)_Mean</th>\n",
       "      <td>0.003230</td>\n",
       "    </tr>\n",
       "    <tr>\n",
       "      <th>LF_InitialDualStance_(s)_Mean</th>\n",
       "      <td>0.003230</td>\n",
       "    </tr>\n",
       "    <tr>\n",
       "      <th>RF_TerminalDualStance_(s)_Mean</th>\n",
       "      <td>0.002905</td>\n",
       "    </tr>\n",
       "    <tr>\n",
       "      <th>RF_TerminalDualStance_(s)_Mean</th>\n",
       "      <td>0.002905</td>\n",
       "    </tr>\n",
       "    <tr>\n",
       "      <th>LH_TerminalDualStance_(s)_Mean</th>\n",
       "      <td>0.002823</td>\n",
       "    </tr>\n",
       "    <tr>\n",
       "      <th>LF_StandIndex_Mean</th>\n",
       "      <td>0.002313</td>\n",
       "    </tr>\n",
       "    <tr>\n",
       "      <th>LF_StandIndex_Mean</th>\n",
       "      <td>0.002313</td>\n",
       "    </tr>\n",
       "    <tr>\n",
       "      <th>LF_TerminalDualStance_(s)_Mean</th>\n",
       "      <td>0.002297</td>\n",
       "    </tr>\n",
       "    <tr>\n",
       "      <th>LF_TerminalDualStance_(s)_Mean</th>\n",
       "      <td>0.002297</td>\n",
       "    </tr>\n",
       "    <tr>\n",
       "      <th>RF_InitialDualStance_(s)_Mean</th>\n",
       "      <td>0.001958</td>\n",
       "    </tr>\n",
       "  </tbody>\n",
       "</table>\n",
       "</div>"
      ],
      "text/plain": [
       "                                variance (after normalisation)\n",
       "LH_InitialDualStance_(s)_Mean                         0.003516\n",
       "RH_TerminalDualStance_(s)_Mean                        0.003433\n",
       "RH_TerminalDualStance_(s)_Mean                        0.003433\n",
       "RH_InitialDualStance_(s)_Mean                         0.003318\n",
       "RH_InitialDualStance_(s)_Mean                         0.003318\n",
       "LF_InitialDualStance_(s)_Mean                         0.003230\n",
       "LF_InitialDualStance_(s)_Mean                         0.003230\n",
       "RF_TerminalDualStance_(s)_Mean                        0.002905\n",
       "RF_TerminalDualStance_(s)_Mean                        0.002905\n",
       "LH_TerminalDualStance_(s)_Mean                        0.002823\n",
       "LF_StandIndex_Mean                                    0.002313\n",
       "LF_StandIndex_Mean                                    0.002313\n",
       "LF_TerminalDualStance_(s)_Mean                        0.002297\n",
       "LF_TerminalDualStance_(s)_Mean                        0.002297\n",
       "RF_InitialDualStance_(s)_Mean                         0.001958"
      ]
     },
     "execution_count": 340,
     "metadata": {},
     "output_type": "execute_result"
    }
   ],
   "source": [
    "print(\"Features with highest variance\")\n",
    "pd.DataFrame(variances.sort_values(ascending=False)[:15], columns = ['variance (after normalisation)'])"
   ]
  },
  {
   "cell_type": "code",
   "execution_count": null,
   "metadata": {
    "collapsed": true
   },
   "outputs": [],
   "source": []
  },
  {
   "cell_type": "markdown",
   "metadata": {
    "collapsed": true
   },
   "source": [
    "### f classification selection (anova for all variables)"
   ]
  },
  {
   "cell_type": "code",
   "execution_count": 217,
   "metadata": {
    "collapsed": false
   },
   "outputs": [],
   "source": [
    "selected_a = sel_anova(normalize_pd(d, 0), md[response_column], k=15, mode = 'classif')"
   ]
  },
  {
   "cell_type": "code",
   "execution_count": 218,
   "metadata": {
    "collapsed": false
   },
   "outputs": [
    {
     "name": "stdout",
     "output_type": "stream",
     "text": [
      "Features selected by f_regression\n"
     ]
    },
    {
     "data": {
      "text/html": [
       "<div>\n",
       "<table border=\"1\" class=\"dataframe\">\n",
       "  <thead>\n",
       "    <tr style=\"text-align: right;\">\n",
       "      <th></th>\n",
       "      <th>0</th>\n",
       "    </tr>\n",
       "  </thead>\n",
       "  <tbody>\n",
       "    <tr>\n",
       "      <th>0</th>\n",
       "      <td>RF_StrideLength_(cm)_Mean</td>\n",
       "    </tr>\n",
       "    <tr>\n",
       "      <th>1</th>\n",
       "      <td>RH_StrideLength_(cm)_Mean</td>\n",
       "    </tr>\n",
       "    <tr>\n",
       "      <th>2</th>\n",
       "      <td>RH_SingleStance_(s)_Mean</td>\n",
       "    </tr>\n",
       "    <tr>\n",
       "      <th>3</th>\n",
       "      <td>LF_StrideLength_(cm)_Mean</td>\n",
       "    </tr>\n",
       "    <tr>\n",
       "      <th>4</th>\n",
       "      <td>LH_Swing_(s)_Mean</td>\n",
       "    </tr>\n",
       "    <tr>\n",
       "      <th>5</th>\n",
       "      <td>LH_StrideLength_(cm)_Mean</td>\n",
       "    </tr>\n",
       "    <tr>\n",
       "      <th>6</th>\n",
       "      <td>LH_SingleStance_(s)_Mean</td>\n",
       "    </tr>\n",
       "    <tr>\n",
       "      <th>7</th>\n",
       "      <td>FP_StrideLength_(cm)_Mean</td>\n",
       "    </tr>\n",
       "    <tr>\n",
       "      <th>8</th>\n",
       "      <td>RF_StrideLength_(cm)_Mean</td>\n",
       "    </tr>\n",
       "    <tr>\n",
       "      <th>9</th>\n",
       "      <td>RH_StrideLength_(cm)_Mean</td>\n",
       "    </tr>\n",
       "    <tr>\n",
       "      <th>10</th>\n",
       "      <td>RH_SingleStance_(s)_Mean</td>\n",
       "    </tr>\n",
       "    <tr>\n",
       "      <th>11</th>\n",
       "      <td>LF_StrideLength_(cm)_Mean</td>\n",
       "    </tr>\n",
       "    <tr>\n",
       "      <th>12</th>\n",
       "      <td>LH_Swing_(s)_Mean</td>\n",
       "    </tr>\n",
       "    <tr>\n",
       "      <th>13</th>\n",
       "      <td>LH_StrideLength_(cm)_Mean</td>\n",
       "    </tr>\n",
       "    <tr>\n",
       "      <th>14</th>\n",
       "      <td>LH_SingleStance_(s)_Mean</td>\n",
       "    </tr>\n",
       "  </tbody>\n",
       "</table>\n",
       "</div>"
      ],
      "text/plain": [
       "                            0\n",
       "0   RF_StrideLength_(cm)_Mean\n",
       "1   RH_StrideLength_(cm)_Mean\n",
       "2    RH_SingleStance_(s)_Mean\n",
       "3   LF_StrideLength_(cm)_Mean\n",
       "4           LH_Swing_(s)_Mean\n",
       "5   LH_StrideLength_(cm)_Mean\n",
       "6    LH_SingleStance_(s)_Mean\n",
       "7   FP_StrideLength_(cm)_Mean\n",
       "8   RF_StrideLength_(cm)_Mean\n",
       "9   RH_StrideLength_(cm)_Mean\n",
       "10   RH_SingleStance_(s)_Mean\n",
       "11  LF_StrideLength_(cm)_Mean\n",
       "12          LH_Swing_(s)_Mean\n",
       "13  LH_StrideLength_(cm)_Mean\n",
       "14   LH_SingleStance_(s)_Mean"
      ]
     },
     "execution_count": 218,
     "metadata": {},
     "output_type": "execute_result"
    }
   ],
   "source": [
    "print(\"Features selected by f_regression\")\n",
    "pd.DataFrame(selected_a.columns)"
   ]
  },
  {
   "cell_type": "markdown",
   "metadata": {},
   "source": [
    "### mutual information classification selection"
   ]
  },
  {
   "cell_type": "code",
   "execution_count": 219,
   "metadata": {
    "collapsed": false
   },
   "outputs": [],
   "source": [
    "selected_m = sel_mi(normalize_pd(d, 0), md[response_column], k=15)"
   ]
  },
  {
   "cell_type": "code",
   "execution_count": 220,
   "metadata": {
    "collapsed": false
   },
   "outputs": [
    {
     "name": "stdout",
     "output_type": "stream",
     "text": [
      "Features selected by mutual_info_regression\n"
     ]
    },
    {
     "data": {
      "text/html": [
       "<div>\n",
       "<table border=\"1\" class=\"dataframe\">\n",
       "  <thead>\n",
       "    <tr style=\"text-align: right;\">\n",
       "      <th></th>\n",
       "      <th>0</th>\n",
       "    </tr>\n",
       "  </thead>\n",
       "  <tbody>\n",
       "    <tr>\n",
       "      <th>0</th>\n",
       "      <td>RF_StrideLength_(cm)_Mean</td>\n",
       "    </tr>\n",
       "    <tr>\n",
       "      <th>1</th>\n",
       "      <td>RH_StrideLength_(cm)_Mean</td>\n",
       "    </tr>\n",
       "    <tr>\n",
       "      <th>2</th>\n",
       "      <td>LF_StrideLength_(cm)_Mean</td>\n",
       "    </tr>\n",
       "    <tr>\n",
       "      <th>3</th>\n",
       "      <td>LF_BodySpeed_(cm/s)_Mean</td>\n",
       "    </tr>\n",
       "    <tr>\n",
       "      <th>4</th>\n",
       "      <td>LH_StrideLength_(cm)_Mean</td>\n",
       "    </tr>\n",
       "    <tr>\n",
       "      <th>5</th>\n",
       "      <td>LH_SingleStance_(s)_Mean</td>\n",
       "    </tr>\n",
       "    <tr>\n",
       "      <th>6</th>\n",
       "      <td>LH_BodySpeed_(cm/s)_Mean</td>\n",
       "    </tr>\n",
       "    <tr>\n",
       "      <th>7</th>\n",
       "      <td>FP_StrideLength_(cm)_Mean</td>\n",
       "    </tr>\n",
       "    <tr>\n",
       "      <th>8</th>\n",
       "      <td>FP_BodySpeed_(cm/s)_Mean</td>\n",
       "    </tr>\n",
       "    <tr>\n",
       "      <th>9</th>\n",
       "      <td>RF_StrideLength_(cm)_Mean</td>\n",
       "    </tr>\n",
       "    <tr>\n",
       "      <th>10</th>\n",
       "      <td>RH_StrideLength_(cm)_Mean</td>\n",
       "    </tr>\n",
       "    <tr>\n",
       "      <th>11</th>\n",
       "      <td>LF_StrideLength_(cm)_Mean</td>\n",
       "    </tr>\n",
       "    <tr>\n",
       "      <th>12</th>\n",
       "      <td>LF_BodySpeed_(cm/s)_Mean</td>\n",
       "    </tr>\n",
       "    <tr>\n",
       "      <th>13</th>\n",
       "      <td>LH_StrideLength_(cm)_Mean</td>\n",
       "    </tr>\n",
       "    <tr>\n",
       "      <th>14</th>\n",
       "      <td>LH_SingleStance_(s)_Mean</td>\n",
       "    </tr>\n",
       "  </tbody>\n",
       "</table>\n",
       "</div>"
      ],
      "text/plain": [
       "                            0\n",
       "0   RF_StrideLength_(cm)_Mean\n",
       "1   RH_StrideLength_(cm)_Mean\n",
       "2   LF_StrideLength_(cm)_Mean\n",
       "3    LF_BodySpeed_(cm/s)_Mean\n",
       "4   LH_StrideLength_(cm)_Mean\n",
       "5    LH_SingleStance_(s)_Mean\n",
       "6    LH_BodySpeed_(cm/s)_Mean\n",
       "7   FP_StrideLength_(cm)_Mean\n",
       "8    FP_BodySpeed_(cm/s)_Mean\n",
       "9   RF_StrideLength_(cm)_Mean\n",
       "10  RH_StrideLength_(cm)_Mean\n",
       "11  LF_StrideLength_(cm)_Mean\n",
       "12   LF_BodySpeed_(cm/s)_Mean\n",
       "13  LH_StrideLength_(cm)_Mean\n",
       "14   LH_SingleStance_(s)_Mean"
      ]
     },
     "execution_count": 220,
     "metadata": {},
     "output_type": "execute_result"
    }
   ],
   "source": [
    "print(\"Features selected by mutual_info_regression\")\n",
    "pd.DataFrame(selected_m.columns)"
   ]
  },
  {
   "cell_type": "code",
   "execution_count": null,
   "metadata": {
    "collapsed": true
   },
   "outputs": [],
   "source": []
  },
  {
   "cell_type": "markdown",
   "metadata": {},
   "source": [
    "### Comparison of feature reduction methods"
   ]
  },
  {
   "cell_type": "code",
   "execution_count": 224,
   "metadata": {
    "collapsed": false
   },
   "outputs": [
    {
     "name": "stdout",
     "output_type": "stream",
     "text": [
      "Number of selected features that overlap between methods (out of 15):\n",
      " - var-f_reg: 0 features.\n",
      " - var-mi_reg: 0 features.\n",
      " - f_reg-mi_reg: 11 features. \n",
      "\n"
     ]
    }
   ],
   "source": [
    "print(\"Number of selected features that overlap between methods (out of 15):\")\n",
    "print(' - var-f_reg:', str(sum([i in selected_a.columns.tolist()\n",
    "                              for i in variances.sort_values(ascending=False)[:15].index.tolist()])),\n",
    "                             \"features.\")\n",
    "print(' - var-mi_reg:', str(sum([i in selected_m.columns.tolist()\n",
    "                              for i in variances.sort_values(ascending=False)[:15].index.tolist()])),\n",
    "                             \"features.\")\n",
    "print(' - f_reg-mi_reg:', str(sum([i in selected_a.columns.tolist()\n",
    "                              for i in selected_m.columns.tolist()])),\n",
    "                             \"features. \\n\")"
   ]
  },
  {
   "cell_type": "code",
   "execution_count": 269,
   "metadata": {
    "collapsed": false,
    "scrolled": false
   },
   "outputs": [
    {
     "name": "stdout",
     "output_type": "stream",
     "text": [
      "Accuracy for classifier param grid for response variable Group\n"
     ]
    },
    {
     "data": {
      "image/png": "[encoded data removed]",
      "text/plain": [
       "<matplotlib.figure.Figure at 0x7fecb3298390>"
      ]
     },
     "metadata": {},
     "output_type": "display_data"
    }
   ],
   "source": [
    "# regression problems:\n",
    "#compare_dim_red_methods(normalize_pd(d, 0), round(md[response_column], 0), mode='regression')\n",
    "\n",
    "# classification:\n",
    "print('Accuracy for classifier param grid for response variable', response_column)\n",
    "compare_dim_red_methods(normalize_pd(d, 0), md[response_column], mode='classif')"
   ]
  },
  {
   "cell_type": "code",
   "execution_count": null,
   "metadata": {
    "collapsed": false
   },
   "outputs": [],
   "source": []
  },
  {
   "cell_type": "markdown",
   "metadata": {},
   "source": [
    "# PCA"
   ]
  },
  {
   "cell_type": "code",
   "execution_count": 287,
   "metadata": {
    "collapsed": false
   },
   "outputs": [],
   "source": [
    "comps, exvar, _ = get_pc(normalize_pd(d,0, 'normalize'))\n",
    "comps.to_csv('data/PCs.tsv', sep='\\t')"
   ]
  },
  {
   "cell_type": "code",
   "execution_count": 235,
   "metadata": {
    "collapsed": false
   },
   "outputs": [
    {
     "data": {
      "image/png": "[encoded data removed]",
      "text/plain": [
       "<matplotlib.figure.Figure at 0x7fecce54e940>"
      ]
     },
     "metadata": {},
     "output_type": "display_data"
    }
   ],
   "source": [
    "#plot_comps = get_plot_comps(comps, md)\n",
    "p2 = sns.lmplot(x='PC1', y='PC2', hue='Group', data=plot_comps, ci=None, fit_reg=False,\n",
    "               scatter_kws={\"s\":50})"
   ]
  },
  {
   "cell_type": "code",
   "execution_count": 236,
   "metadata": {
    "collapsed": false
   },
   "outputs": [
    {
     "name": "stdout",
     "output_type": "stream",
     "text": [
      "Variance explained\n"
     ]
    },
    {
     "data": {
      "text/html": [
       "<div>\n",
       "<table border=\"1\" class=\"dataframe\">\n",
       "  <thead>\n",
       "    <tr style=\"text-align: right;\">\n",
       "      <th></th>\n",
       "      <th>PC1</th>\n",
       "      <th>PC2</th>\n",
       "      <th>PC3</th>\n",
       "      <th>PC4</th>\n",
       "      <th>PC5</th>\n",
       "      <th>PC6</th>\n",
       "      <th>PC7</th>\n",
       "      <th>PC8</th>\n",
       "      <th>PC9</th>\n",
       "      <th>PC10</th>\n",
       "      <th>...</th>\n",
       "      <th>PC36</th>\n",
       "      <th>PC37</th>\n",
       "      <th>PC38</th>\n",
       "      <th>PC39</th>\n",
       "      <th>PC40</th>\n",
       "      <th>PC41</th>\n",
       "      <th>PC42</th>\n",
       "      <th>PC43</th>\n",
       "      <th>PC44</th>\n",
       "      <th>PC45</th>\n",
       "    </tr>\n",
       "  </thead>\n",
       "  <tbody>\n",
       "    <tr>\n",
       "      <th>0</th>\n",
       "      <td>0.876072</td>\n",
       "      <td>0.049818</td>\n",
       "      <td>0.02414</td>\n",
       "      <td>0.011496</td>\n",
       "      <td>0.008524</td>\n",
       "      <td>0.006792</td>\n",
       "      <td>0.005663</td>\n",
       "      <td>0.005047</td>\n",
       "      <td>0.002583</td>\n",
       "      <td>0.002104</td>\n",
       "      <td>...</td>\n",
       "      <td>0.000006</td>\n",
       "      <td>0.000005</td>\n",
       "      <td>0.000004</td>\n",
       "      <td>0.000003</td>\n",
       "      <td>0.000002</td>\n",
       "      <td>0.000001</td>\n",
       "      <td>5.839728e-07</td>\n",
       "      <td>2.583595e-07</td>\n",
       "      <td>1.853142e-07</td>\n",
       "      <td>1.405365e-07</td>\n",
       "    </tr>\n",
       "  </tbody>\n",
       "</table>\n",
       "<p>1 rows × 45 columns</p>\n",
       "</div>"
      ],
      "text/plain": [
       "        PC1       PC2      PC3       PC4       PC5       PC6       PC7  \\\n",
       "0  0.876072  0.049818  0.02414  0.011496  0.008524  0.006792  0.005663   \n",
       "\n",
       "        PC8       PC9      PC10      ...           PC36      PC37      PC38  \\\n",
       "0  0.005047  0.002583  0.002104      ...       0.000006  0.000005  0.000004   \n",
       "\n",
       "       PC39      PC40      PC41          PC42          PC43          PC44  \\\n",
       "0  0.000003  0.000002  0.000001  5.839728e-07  2.583595e-07  1.853142e-07   \n",
       "\n",
       "           PC45  \n",
       "0  1.405365e-07  \n",
       "\n",
       "[1 rows x 45 columns]"
      ]
     },
     "execution_count": 236,
     "metadata": {},
     "output_type": "execute_result"
    }
   ],
   "source": [
    "print('Variance explained')\n",
    "pd.DataFrame(exvar).T"
   ]
  },
  {
   "cell_type": "markdown",
   "metadata": {},
   "source": [
    "The first two components seem to actually cluster both aged groups together, with some difference between the 'aged' cluster and 'young' cluster. There are some outliers from the Group 'aged treated'..."
   ]
  },
  {
   "cell_type": "code",
   "execution_count": 237,
   "metadata": {
    "collapsed": false
   },
   "outputs": [],
   "source": [
    "#p2 = sns.lmplot(x='PC1', y='PC2', hue='Trial', data=plot_comps.sort_values('Trial').iloc[:10,:],\n",
    "#                ci=None, fit_reg=False, scatter_kws={\"s\":50})#, y_jitter=0.01, x_jitter=0.01)"
   ]
  },
  {
   "cell_type": "code",
   "execution_count": 238,
   "metadata": {
    "collapsed": false,
    "scrolled": false
   },
   "outputs": [],
   "source": [
    "# clusterplots for samples 1) PC3, PCall, all_var"
   ]
  },
  {
   "cell_type": "code",
   "execution_count": 239,
   "metadata": {
    "collapsed": false
   },
   "outputs": [],
   "source": [
    "palette=sns.color_palette('colorblind', len(md.Group.drop_duplicates()))\n",
    "if not 'Colour' in md.columns:\n",
    "    md.insert(1, 'Colour', md.Group)\n",
    "    for i,g in enumerate(md.Colour.drop_duplicates()):\n",
    "        md.Colour[md.Colour == g] = [palette[i] for c in range(sum(md.Colour == g))]"
   ]
  },
  {
   "cell_type": "code",
   "execution_count": 240,
   "metadata": {
    "collapsed": false
   },
   "outputs": [
    {
     "data": {
      "text/html": [
       "<div>\n",
       "<table border=\"1\" class=\"dataframe\">\n",
       "  <thead>\n",
       "    <tr style=\"text-align: right;\">\n",
       "      <th></th>\n",
       "      <th>Group</th>\n",
       "      <th>Colour</th>\n",
       "      <th>Animal</th>\n",
       "    </tr>\n",
       "  </thead>\n",
       "  <tbody>\n",
       "    <tr>\n",
       "      <th>0</th>\n",
       "      <td>young ctrl</td>\n",
       "      <td>0</td>\n",
       "      <td>1.1</td>\n",
       "    </tr>\n",
       "    <tr>\n",
       "      <th>1</th>\n",
       "      <td>young ctrl</td>\n",
       "      <td>0.447059</td>\n",
       "      <td>1.2</td>\n",
       "    </tr>\n",
       "    <tr>\n",
       "      <th>2</th>\n",
       "      <td>young ctrl</td>\n",
       "      <td>0.698039</td>\n",
       "      <td>1.3</td>\n",
       "    </tr>\n",
       "    <tr>\n",
       "      <th>3</th>\n",
       "      <td>young ctrl</td>\n",
       "      <td>0</td>\n",
       "      <td>1.4</td>\n",
       "    </tr>\n",
       "    <tr>\n",
       "      <th>4</th>\n",
       "      <td>young ctrl</td>\n",
       "      <td>0.447059</td>\n",
       "      <td>3.2</td>\n",
       "    </tr>\n",
       "  </tbody>\n",
       "</table>\n",
       "</div>"
      ],
      "text/plain": [
       "        Group    Colour Animal\n",
       "0  young ctrl         0    1.1\n",
       "1  young ctrl  0.447059    1.2\n",
       "2  young ctrl  0.698039    1.3\n",
       "3  young ctrl         0    1.4\n",
       "4  young ctrl  0.447059    3.2"
      ]
     },
     "execution_count": 240,
     "metadata": {},
     "output_type": "execute_result"
    }
   ],
   "source": [
    "md.head()"
   ]
  },
  {
   "cell_type": "code",
   "execution_count": null,
   "metadata": {
    "collapsed": false
   },
   "outputs": [],
   "source": []
  },
  {
   "cell_type": "code",
   "execution_count": 360,
   "metadata": {
    "collapsed": false,
    "scrolled": false
   },
   "outputs": [
    {
     "data": {
      "image/png": "[encoded data removed]",
      "text/plain": [
       "<matplotlib.figure.Figure at 0x7fecb3987630>"
      ]
     },
     "metadata": {},
     "output_type": "display_data"
    }
   ],
   "source": [
    "D = pd.DataFrame(pairwise_distances(comps.ix[:, :3],metric='euclidean'),\n",
    "                columns = comps.index, index = comps.index)\n",
    "#sns.clustermap(x);\n",
    "p3 = distance_matrix_plots(D, \"Group\", figsize=(16,16));"
   ]
  },
  {
   "cell_type": "markdown",
   "metadata": {
    "collapsed": true
   },
   "source": [
    "# Differences between groups"
   ]
  },
  {
   "cell_type": "markdown",
   "metadata": {},
   "source": [
    "### cluster separation - ?"
   ]
  },
  {
   "cell_type": "code",
   "execution_count": null,
   "metadata": {
    "collapsed": true
   },
   "outputs": [],
   "source": []
  },
  {
   "cell_type": "code",
   "execution_count": null,
   "metadata": {
    "collapsed": true
   },
   "outputs": [],
   "source": []
  },
  {
   "cell_type": "markdown",
   "metadata": {},
   "source": [
    "### generate Gait Index; compare with one variable - ANOVA"
   ]
  },
  {
   "cell_type": "code",
   "execution_count": 313,
   "metadata": {
    "collapsed": false
   },
   "outputs": [
    {
     "data": {
      "text/html": [
       "<div>\n",
       "<table border=\"1\" class=\"dataframe\">\n",
       "  <thead>\n",
       "    <tr style=\"text-align: right;\">\n",
       "      <th></th>\n",
       "      <th>GI</th>\n",
       "      <th>GI_scaled</th>\n",
       "    </tr>\n",
       "  </thead>\n",
       "  <tbody>\n",
       "    <tr>\n",
       "      <th>count</th>\n",
       "      <td>45.000000</td>\n",
       "      <td>4.500000e+01</td>\n",
       "    </tr>\n",
       "    <tr>\n",
       "      <th>mean</th>\n",
       "      <td>-0.148240</td>\n",
       "      <td>-1.571582e-15</td>\n",
       "    </tr>\n",
       "    <tr>\n",
       "      <th>std</th>\n",
       "      <td>0.015894</td>\n",
       "      <td>1.011300e+00</td>\n",
       "    </tr>\n",
       "    <tr>\n",
       "      <th>min</th>\n",
       "      <td>-0.203283</td>\n",
       "      <td>-3.502290e+00</td>\n",
       "    </tr>\n",
       "    <tr>\n",
       "      <th>25%</th>\n",
       "      <td>-0.154454</td>\n",
       "      <td>-3.953596e-01</td>\n",
       "    </tr>\n",
       "    <tr>\n",
       "      <th>50%</th>\n",
       "      <td>-0.143210</td>\n",
       "      <td>3.200667e-01</td>\n",
       "    </tr>\n",
       "    <tr>\n",
       "      <th>75%</th>\n",
       "      <td>-0.137697</td>\n",
       "      <td>6.708961e-01</td>\n",
       "    </tr>\n",
       "    <tr>\n",
       "      <th>max</th>\n",
       "      <td>-0.125688</td>\n",
       "      <td>1.434978e+00</td>\n",
       "    </tr>\n",
       "  </tbody>\n",
       "</table>\n",
       "</div>"
      ],
      "text/plain": [
       "              GI     GI_scaled\n",
       "count  45.000000  4.500000e+01\n",
       "mean   -0.148240 -1.571582e-15\n",
       "std     0.015894  1.011300e+00\n",
       "min    -0.203283 -3.502290e+00\n",
       "25%    -0.154454 -3.953596e-01\n",
       "50%    -0.143210  3.200667e-01\n",
       "75%    -0.137697  6.708961e-01\n",
       "max    -0.125688  1.434978e+00"
      ]
     },
     "execution_count": 313,
     "metadata": {},
     "output_type": "execute_result"
    }
   ],
   "source": [
    "GI = comps.ix[:, :1].rename(columns={'PC1': 'GI'})\n",
    "GI.to_csv('data/GI.tsv', sep=\"\\t\")\n",
    "GI['GI_scaled'] = scale(GI['GI'])\n",
    "GI.describe()"
   ]
  },
  {
   "cell_type": "code",
   "execution_count": 286,
   "metadata": {
    "collapsed": false
   },
   "outputs": [
    {
     "name": "stdout",
     "output_type": "stream",
     "text": [
      "            Df   Sum Sq   Mean Sq F value  Pr(>F)\n",
      "Group        2 0.002776 0.0013881   6.991 0.00239 **\n",
      "Residuals   42 0.008339 0.0001985\n",
      "---\n",
      "Signif. codes:  0 ‘***’ 0.001 ‘**’ 0.01 ‘*’ 0.05 ‘.’ 0.1 ‘ ’ 1\n"
     ]
    }
   ],
   "source": [
    "[print(i) for i in manovaR('data/GI.tsv', 'GI~Group').values()];"
   ]
  },
  {
   "cell_type": "markdown",
   "metadata": {},
   "source": [
    "### comparison with multiple variables - MANOVA"
   ]
  },
  {
   "cell_type": "markdown",
   "metadata": {},
   "source": [
    "##### TODO: Oh my, regenerate those results!"
   ]
  },
  {
   "cell_type": "raw",
   "metadata": {},
   "source": [
    "On PCs - perhaps useful for global, surely not for testing each variable.\n",
    "\n",
    "http://www.sthda.com/english/wiki/manova-test-in-r-multivariate-analysis-of-variance\n",
    "\n",
    "If the global multivariate test is significant, we conclude that the corresponding effect (treatment; here: group) is significant.\n",
    "\n",
    "> ma = manova(cbind(PC1, PC2)~ Group, data=pcs)\n",
    "> summary(ma)\n",
    "          Df  Pillai approx F num Df den Df    Pr(>F)\n",
    "Group      2 0.51638   7.3091      4     84 4.225e-05 ***\n",
    "Residuals 42\n",
    "---\n",
    "Signif. codes:  0 ‘***’ 0.001 ‘**’ 0.01 ‘*’ 0.05 ‘.’ 0.1 ‘ ’ 1"
   ]
  },
  {
   "cell_type": "raw",
   "metadata": {},
   "source": [
    "The next question is to determine if which of the variables does the treatment affect. In other words, we want to identify the specific dependent variables that contributed to the significant global effect. To answer this question, we can use one-way ANOVA (or univariate ANOVA) to examine separately each dependent variable.\n",
    "\n",
    "Which variables are different between groups?\n",
    "\n",
    "> summary.aov(ma)\n",
    " Response PC1 : (Gait Index)\n",
    "            Df    Sum Sq    Mean Sq F value   Pr(>F)\n",
    "Group        2 0.0027762 0.00138808  6.9915 0.002394 **\n",
    "Residuals   42 0.0083386 0.00019854\n",
    "---\n",
    "Signif. codes:  0 ‘***’ 0.001 ‘**’ 0.01 ‘*’ 0.05 ‘.’ 0.1 ‘ ’ 1\n",
    "\n",
    " Response PC2 :\n",
    "            Df  Sum Sq  Mean Sq F value  Pr(>F)\n",
    "Group        2 0.12475 0.062377  2.9971 0.06071 .\n",
    "Residuals   42 0.87411 0.020812\n",
    "---\n",
    "Signif. codes:  0 ‘***’ 0.001 ‘**’ 0.01 ‘*’ 0.05 ‘.’ 0.1 ‘ ’ 1"
   ]
  },
  {
   "cell_type": "code",
   "execution_count": null,
   "metadata": {
    "collapsed": false
   },
   "outputs": [],
   "source": []
  },
  {
   "cell_type": "markdown",
   "metadata": {},
   "source": [
    "# Correlations L-R"
   ]
  },
  {
   "cell_type": "code",
   "execution_count": 358,
   "metadata": {
    "collapsed": false
   },
   "outputs": [
    {
     "name": "stdout",
     "output_type": "stream",
     "text": [
      "Get those with *lowest* correlations\n"
     ]
    },
    {
     "data": {
      "text/html": [
       "<div>\n",
       "<table border=\"1\" class=\"dataframe\">\n",
       "  <thead>\n",
       "    <tr style=\"text-align: right;\">\n",
       "      <th></th>\n",
       "      <th></th>\n",
       "      <th>correlation</th>\n",
       "    </tr>\n",
       "    <tr>\n",
       "      <th>Group</th>\n",
       "      <th></th>\n",
       "      <th></th>\n",
       "    </tr>\n",
       "  </thead>\n",
       "  <tbody>\n",
       "    <tr>\n",
       "      <th>ss31 aged injected</th>\n",
       "      <th>H_BodySpeed_(cm/s)_Mean</th>\n",
       "      <td>0.001925</td>\n",
       "    </tr>\n",
       "    <tr>\n",
       "      <th>Aged Ctrl</th>\n",
       "      <th>F_MinIntensity_Mean</th>\n",
       "      <td>0.002450</td>\n",
       "    </tr>\n",
       "    <tr>\n",
       "      <th>young ctrl</th>\n",
       "      <th>F_MinIntensity_Mean</th>\n",
       "      <td>0.002692</td>\n",
       "    </tr>\n",
       "    <tr>\n",
       "      <th>ss31 aged injected</th>\n",
       "      <th>F_BodySpeed_(cm/s)_Mean</th>\n",
       "      <td>0.002911</td>\n",
       "    </tr>\n",
       "    <tr>\n",
       "      <th rowspan=\"3\" valign=\"top\">young ctrl</th>\n",
       "      <th>H_MinIntensity_Mean</th>\n",
       "      <td>0.004482</td>\n",
       "    </tr>\n",
       "    <tr>\n",
       "      <th>F_BodySpeed_(cm/s)_Mean</th>\n",
       "      <td>0.006507</td>\n",
       "    </tr>\n",
       "    <tr>\n",
       "      <th>H_BodySpeed_(cm/s)_Mean</th>\n",
       "      <td>0.007488</td>\n",
       "    </tr>\n",
       "    <tr>\n",
       "      <th>ss31 aged injected</th>\n",
       "      <th>F_BodySpeedVariation_(%)_Mean</th>\n",
       "      <td>0.009124</td>\n",
       "    </tr>\n",
       "    <tr>\n",
       "      <th rowspan=\"2\" valign=\"top\">Aged Ctrl</th>\n",
       "      <th>H_MinIntensity_Mean</th>\n",
       "      <td>0.010267</td>\n",
       "    </tr>\n",
       "    <tr>\n",
       "      <th>F_BodySpeed_(cm/s)_Mean</th>\n",
       "      <td>0.012837</td>\n",
       "    </tr>\n",
       "    <tr>\n",
       "      <th rowspan=\"3\" valign=\"top\">ss31 aged injected</th>\n",
       "      <th>H_StrideLength_(cm)_Mean</th>\n",
       "      <td>0.013699</td>\n",
       "    </tr>\n",
       "    <tr>\n",
       "      <th>F_StrideLength_(cm)_Mean</th>\n",
       "      <td>0.015067</td>\n",
       "    </tr>\n",
       "    <tr>\n",
       "      <th>F_MinIntensity_Mean</th>\n",
       "      <td>0.017602</td>\n",
       "    </tr>\n",
       "    <tr>\n",
       "      <th rowspan=\"3\" valign=\"top\">Aged Ctrl</th>\n",
       "      <th>H_BodySpeed_(cm/s)_Mean</th>\n",
       "      <td>0.018651</td>\n",
       "    </tr>\n",
       "    <tr>\n",
       "      <th>F_PrintArea_(cm²)_Mean</th>\n",
       "      <td>0.020817</td>\n",
       "    </tr>\n",
       "    <tr>\n",
       "      <th>F_MaxContactArea_(cm²)_Mean</th>\n",
       "      <td>0.025220</td>\n",
       "    </tr>\n",
       "    <tr>\n",
       "      <th>young ctrl</th>\n",
       "      <th>H_BodySpeedVariation_(%)_Mean</th>\n",
       "      <td>0.025727</td>\n",
       "    </tr>\n",
       "    <tr>\n",
       "      <th>ss31 aged injected</th>\n",
       "      <th>H_BodySpeedVariation_(%)_Mean</th>\n",
       "      <td>0.025785</td>\n",
       "    </tr>\n",
       "    <tr>\n",
       "      <th>young ctrl</th>\n",
       "      <th>F_StepCycle_(s)_Mean</th>\n",
       "      <td>0.026493</td>\n",
       "    </tr>\n",
       "    <tr>\n",
       "      <th>Aged Ctrl</th>\n",
       "      <th>H_BodySpeedVariation_(%)_Mean</th>\n",
       "      <td>0.030264</td>\n",
       "    </tr>\n",
       "    <tr>\n",
       "      <th>ss31 aged injected</th>\n",
       "      <th>H_StepCycle_(s)_Mean</th>\n",
       "      <td>0.030369</td>\n",
       "    </tr>\n",
       "    <tr>\n",
       "      <th>young ctrl</th>\n",
       "      <th>F_BodySpeedVariation_(%)_Mean</th>\n",
       "      <td>0.031827</td>\n",
       "    </tr>\n",
       "    <tr>\n",
       "      <th rowspan=\"3\" valign=\"top\">Aged Ctrl</th>\n",
       "      <th>H_MaxContactMeanIntensity_Mean</th>\n",
       "      <td>0.032291</td>\n",
       "    </tr>\n",
       "    <tr>\n",
       "      <th>H_PrintLength_(cm)_Mean</th>\n",
       "      <td>0.033084</td>\n",
       "    </tr>\n",
       "    <tr>\n",
       "      <th>H_MaxContactArea_(cm²)_Mean</th>\n",
       "      <td>0.041330</td>\n",
       "    </tr>\n",
       "    <tr>\n",
       "      <th>young ctrl</th>\n",
       "      <th>H_MaxContactMeanIntensity_Mean</th>\n",
       "      <td>0.044705</td>\n",
       "    </tr>\n",
       "    <tr>\n",
       "      <th>Aged Ctrl</th>\n",
       "      <th>F_PrintLength_(cm)_Mean</th>\n",
       "      <td>0.045677</td>\n",
       "    </tr>\n",
       "    <tr>\n",
       "      <th>young ctrl</th>\n",
       "      <th>F_MaxContactMeanIntensity_Mean</th>\n",
       "      <td>0.046646</td>\n",
       "    </tr>\n",
       "    <tr>\n",
       "      <th>ss31 aged injected</th>\n",
       "      <th>H_MinIntensity_Mean</th>\n",
       "      <td>0.049736</td>\n",
       "    </tr>\n",
       "    <tr>\n",
       "      <th rowspan=\"3\" valign=\"top\">Aged Ctrl</th>\n",
       "      <th>H_PrintArea_(cm²)_Mean</th>\n",
       "      <td>0.051689</td>\n",
       "    </tr>\n",
       "    <tr>\n",
       "      <th>...</th>\n",
       "      <td>...</td>\n",
       "    </tr>\n",
       "    <tr>\n",
       "      <th>F_Stand_(s)_Mean</th>\n",
       "      <td>0.498055</td>\n",
       "    </tr>\n",
       "    <tr>\n",
       "      <th>young ctrl</th>\n",
       "      <th>F_MaxIntensityAt_(%)_Mean</th>\n",
       "      <td>0.499015</td>\n",
       "    </tr>\n",
       "    <tr>\n",
       "      <th rowspan=\"2\" valign=\"top\">ss31 aged injected</th>\n",
       "      <th>H_MaxContactAt_(%)_Mean</th>\n",
       "      <td>0.500526</td>\n",
       "    </tr>\n",
       "    <tr>\n",
       "      <th>H_MaxContactArea_(cm²)_Mean</th>\n",
       "      <td>0.502035</td>\n",
       "    </tr>\n",
       "    <tr>\n",
       "      <th>Aged Ctrl</th>\n",
       "      <th>H_InitialDualStance_(s)_Mean</th>\n",
       "      <td>0.504238</td>\n",
       "    </tr>\n",
       "    <tr>\n",
       "      <th>young ctrl</th>\n",
       "      <th>F_StandIndex_Mean</th>\n",
       "      <td>0.505539</td>\n",
       "    </tr>\n",
       "    <tr>\n",
       "      <th rowspan=\"2\" valign=\"top\">ss31 aged injected</th>\n",
       "      <th>F_TerminalDualStance_(s)_Mean</th>\n",
       "      <td>0.518439</td>\n",
       "    </tr>\n",
       "    <tr>\n",
       "      <th>F_DutyCycle_(%)_Mean</th>\n",
       "      <td>0.524204</td>\n",
       "    </tr>\n",
       "    <tr>\n",
       "      <th>Aged Ctrl</th>\n",
       "      <th>H_StepCycle_(s)_Mean</th>\n",
       "      <td>0.542420</td>\n",
       "    </tr>\n",
       "    <tr>\n",
       "      <th>ss31 aged injected</th>\n",
       "      <th>H_PrintArea_(cm²)_Mean</th>\n",
       "      <td>0.547638</td>\n",
       "    </tr>\n",
       "    <tr>\n",
       "      <th>Aged Ctrl</th>\n",
       "      <th>F_TerminalDualStance_(s)_Mean</th>\n",
       "      <td>0.557188</td>\n",
       "    </tr>\n",
       "    <tr>\n",
       "      <th>young ctrl</th>\n",
       "      <th>H_SingleStance_(s)_Mean</th>\n",
       "      <td>0.570791</td>\n",
       "    </tr>\n",
       "    <tr>\n",
       "      <th rowspan=\"3\" valign=\"top\">ss31 aged injected</th>\n",
       "      <th>F_PrintWidth_(cm)_Mean</th>\n",
       "      <td>0.583211</td>\n",
       "    </tr>\n",
       "    <tr>\n",
       "      <th>F_PrintLength_(cm)_Mean</th>\n",
       "      <td>0.587805</td>\n",
       "    </tr>\n",
       "    <tr>\n",
       "      <th>H_DutyCycle_(%)_Mean</th>\n",
       "      <td>0.608820</td>\n",
       "    </tr>\n",
       "    <tr>\n",
       "      <th>Aged Ctrl</th>\n",
       "      <th>F_DutyCycle_(%)_Mean</th>\n",
       "      <td>0.618121</td>\n",
       "    </tr>\n",
       "    <tr>\n",
       "      <th>young ctrl</th>\n",
       "      <th>H_DutyCycle_(%)_Mean</th>\n",
       "      <td>0.619875</td>\n",
       "    </tr>\n",
       "    <tr>\n",
       "      <th rowspan=\"2\" valign=\"top\">Aged Ctrl</th>\n",
       "      <th>F_SingleStance_(s)_Mean</th>\n",
       "      <td>0.625851</td>\n",
       "    </tr>\n",
       "    <tr>\n",
       "      <th>F_InitialDualStance_(s)_Mean</th>\n",
       "      <td>0.648499</td>\n",
       "    </tr>\n",
       "    <tr>\n",
       "      <th rowspan=\"2\" valign=\"top\">ss31 aged injected</th>\n",
       "      <th>H_PrintLength_(cm)_Mean</th>\n",
       "      <td>0.666861</td>\n",
       "    </tr>\n",
       "    <tr>\n",
       "      <th>F_MaxIntensityAt_(%)_Mean</th>\n",
       "      <td>0.682724</td>\n",
       "    </tr>\n",
       "    <tr>\n",
       "      <th>young ctrl</th>\n",
       "      <th>F_TerminalDualStance_(s)_Mean</th>\n",
       "      <td>0.694058</td>\n",
       "    </tr>\n",
       "    <tr>\n",
       "      <th>Aged Ctrl</th>\n",
       "      <th>F_MaxIntensityAt_(%)_Mean</th>\n",
       "      <td>0.754061</td>\n",
       "    </tr>\n",
       "    <tr>\n",
       "      <th rowspan=\"2\" valign=\"top\">young ctrl</th>\n",
       "      <th>F_MaxContactAt_(%)_Mean</th>\n",
       "      <td>0.769689</td>\n",
       "    </tr>\n",
       "    <tr>\n",
       "      <th>H_TerminalDualStance_(s)_Mean</th>\n",
       "      <td>0.795289</td>\n",
       "    </tr>\n",
       "    <tr>\n",
       "      <th>ss31 aged injected</th>\n",
       "      <th>H_PrintWidth_(cm)_Mean</th>\n",
       "      <td>0.817555</td>\n",
       "    </tr>\n",
       "    <tr>\n",
       "      <th rowspan=\"4\" valign=\"top\">young ctrl</th>\n",
       "      <th>F_DutyCycle_(%)_Mean</th>\n",
       "      <td>0.819050</td>\n",
       "    </tr>\n",
       "    <tr>\n",
       "      <th>F_InitialDualStance_(s)_Mean</th>\n",
       "      <td>0.849692</td>\n",
       "    </tr>\n",
       "    <tr>\n",
       "      <th>H_Swing_(s)_Mean</th>\n",
       "      <td>0.852383</td>\n",
       "    </tr>\n",
       "    <tr>\n",
       "      <th>H_InitialDualStance_(s)_Mean</th>\n",
       "      <td>1.039210</td>\n",
       "    </tr>\n",
       "  </tbody>\n",
       "</table>\n",
       "<p>144 rows × 1 columns</p>\n",
       "</div>"
      ],
      "text/plain": [
       "                                                   correlation\n",
       "Group                                                         \n",
       "ss31 aged injected H_BodySpeed_(cm/s)_Mean            0.001925\n",
       "Aged Ctrl          F_MinIntensity_Mean                0.002450\n",
       "young ctrl         F_MinIntensity_Mean                0.002692\n",
       "ss31 aged injected F_BodySpeed_(cm/s)_Mean            0.002911\n",
       "young ctrl         H_MinIntensity_Mean                0.004482\n",
       "                   F_BodySpeed_(cm/s)_Mean            0.006507\n",
       "                   H_BodySpeed_(cm/s)_Mean            0.007488\n",
       "ss31 aged injected F_BodySpeedVariation_(%)_Mean      0.009124\n",
       "Aged Ctrl          H_MinIntensity_Mean                0.010267\n",
       "                   F_BodySpeed_(cm/s)_Mean            0.012837\n",
       "ss31 aged injected H_StrideLength_(cm)_Mean           0.013699\n",
       "                   F_StrideLength_(cm)_Mean           0.015067\n",
       "                   F_MinIntensity_Mean                0.017602\n",
       "Aged Ctrl          H_BodySpeed_(cm/s)_Mean            0.018651\n",
       "                   F_PrintArea_(cm²)_Mean             0.020817\n",
       "                   F_MaxContactArea_(cm²)_Mean        0.025220\n",
       "young ctrl         H_BodySpeedVariation_(%)_Mean      0.025727\n",
       "ss31 aged injected H_BodySpeedVariation_(%)_Mean      0.025785\n",
       "young ctrl         F_StepCycle_(s)_Mean               0.026493\n",
       "Aged Ctrl          H_BodySpeedVariation_(%)_Mean      0.030264\n",
       "ss31 aged injected H_StepCycle_(s)_Mean               0.030369\n",
       "young ctrl         F_BodySpeedVariation_(%)_Mean      0.031827\n",
       "Aged Ctrl          H_MaxContactMeanIntensity_Mean     0.032291\n",
       "                   H_PrintLength_(cm)_Mean            0.033084\n",
       "                   H_MaxContactArea_(cm²)_Mean        0.041330\n",
       "young ctrl         H_MaxContactMeanIntensity_Mean     0.044705\n",
       "Aged Ctrl          F_PrintLength_(cm)_Mean            0.045677\n",
       "young ctrl         F_MaxContactMeanIntensity_Mean     0.046646\n",
       "ss31 aged injected H_MinIntensity_Mean                0.049736\n",
       "Aged Ctrl          H_PrintArea_(cm²)_Mean             0.051689\n",
       "...                                                        ...\n",
       "                   F_Stand_(s)_Mean                   0.498055\n",
       "young ctrl         F_MaxIntensityAt_(%)_Mean          0.499015\n",
       "ss31 aged injected H_MaxContactAt_(%)_Mean            0.500526\n",
       "                   H_MaxContactArea_(cm²)_Mean        0.502035\n",
       "Aged Ctrl          H_InitialDualStance_(s)_Mean       0.504238\n",
       "young ctrl         F_StandIndex_Mean                  0.505539\n",
       "ss31 aged injected F_TerminalDualStance_(s)_Mean      0.518439\n",
       "                   F_DutyCycle_(%)_Mean               0.524204\n",
       "Aged Ctrl          H_StepCycle_(s)_Mean               0.542420\n",
       "ss31 aged injected H_PrintArea_(cm²)_Mean             0.547638\n",
       "Aged Ctrl          F_TerminalDualStance_(s)_Mean      0.557188\n",
       "young ctrl         H_SingleStance_(s)_Mean            0.570791\n",
       "ss31 aged injected F_PrintWidth_(cm)_Mean             0.583211\n",
       "                   F_PrintLength_(cm)_Mean            0.587805\n",
       "                   H_DutyCycle_(%)_Mean               0.608820\n",
       "Aged Ctrl          F_DutyCycle_(%)_Mean               0.618121\n",
       "young ctrl         H_DutyCycle_(%)_Mean               0.619875\n",
       "Aged Ctrl          F_SingleStance_(s)_Mean            0.625851\n",
       "                   F_InitialDualStance_(s)_Mean       0.648499\n",
       "ss31 aged injected H_PrintLength_(cm)_Mean            0.666861\n",
       "                   F_MaxIntensityAt_(%)_Mean          0.682724\n",
       "young ctrl         F_TerminalDualStance_(s)_Mean      0.694058\n",
       "Aged Ctrl          F_MaxIntensityAt_(%)_Mean          0.754061\n",
       "young ctrl         F_MaxContactAt_(%)_Mean            0.769689\n",
       "                   H_TerminalDualStance_(s)_Mean      0.795289\n",
       "ss31 aged injected H_PrintWidth_(cm)_Mean             0.817555\n",
       "young ctrl         F_DutyCycle_(%)_Mean               0.819050\n",
       "                   F_InitialDualStance_(s)_Mean       0.849692\n",
       "                   H_Swing_(s)_Mean                   0.852383\n",
       "                   H_InitialDualStance_(s)_Mean       1.039210\n",
       "\n",
       "[144 rows x 1 columns]"
      ]
     },
     "execution_count": 358,
     "metadata": {},
     "output_type": "execute_result"
    }
   ],
   "source": [
    "corrs = corr_L_R(full_df)\n",
    "print('Get those with *lowest* correlations')\n",
    "#corrs.groupby(corrs.index.get_level_values(0)).apply(lambda x: x.sort_values('correlation', ascending=True))\n",
    "corrs.sort_values('correlation', ascending=True)"
   ]
  },
  {
   "cell_type": "code",
   "execution_count": null,
   "metadata": {
    "collapsed": true
   },
   "outputs": [],
   "source": []
  },
  {
   "cell_type": "code",
   "execution_count": null,
   "metadata": {
    "collapsed": true
   },
   "outputs": [],
   "source": []
  },
  {
   "cell_type": "code",
   "execution_count": null,
   "metadata": {
    "collapsed": true
   },
   "outputs": [],
   "source": []
  },
  {
   "cell_type": "markdown",
   "metadata": {},
   "source": [
    "# Notes"
   ]
  },
  {
   "cell_type": "code",
   "execution_count": null,
   "metadata": {
    "collapsed": true
   },
   "outputs": [],
   "source": [
    "# heatmap: linkages!\n",
    "p3.dendrogram_col.linkage # linkage matrix for columns\n",
    "p3.dendrogram_row.linkage # linkage matrix for rows"
   ]
  },
  {
   "cell_type": "code",
   "execution_count": null,
   "metadata": {
    "collapsed": true
   },
   "outputs": [],
   "source": []
  },
  {
   "cell_type": "code",
   "execution_count": null,
   "metadata": {
    "collapsed": true
   },
   "outputs": [],
   "source": []
  }
 ],
 "metadata": {
  "kernelspec": {
   "display_name": "Python 3",
   "language": "python",
   "name": "python3"
  },
  "language_info": {
   "codemirror_mode": {
    "name": "ipython",
    "version": 3
   },
   "file_extension": ".py",
   "mimetype": "text/x-python",
   "name": "python",
   "nbconvert_exporter": "python",
   "pygments_lexer": "ipython3",
   "version": "3.6.0"
  }
 },
 "nbformat": 4,
 "nbformat_minor": 2
}
