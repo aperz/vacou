{
 "cells": [
  {
   "cell_type": "markdown",
   "metadata": {
    "collapsed": true
   },
   "source": [
    "This is version 3 of the notebook using the dataset with uncollapsed runs."
   ]
  },
  {
   "cell_type": "markdown",
   "metadata": {},
   "source": [
    "# TODO\n",
    "\n",
    "- rerun manova and put it into function\n",
    "- ADD THOSE DATA POINTS\n",
    "- dendrogram: which groups are closest\n",
    "- ask Cory whether inverse PCA transformation can be used to get transformation for future data points to be comparable (the 'index' idea)\n",
    "- INVESTIGATE this >1 correlation...\n",
    "- How does gait/GI change with age?\n",
    "\n",
    "# NOTES\n",
    "- What's Stefano's formula for PCA? (we have different var exp)\n",
    "- When comparing L to R, correlation is a bad metric because it depends on the ordering (?).\n",
    "- my response really is 'Group', not 'NVC' (this is changes from version 0 and first drafts of version 2) - OR IS IT?\n",
    "\n",
    "# DATA INFO\n",
    "-In mouse number the first digit is the cage number"
   ]
  },
  {
   "cell_type": "markdown",
   "metadata": {
    "collapsed": true
   },
   "source": []
  },
  {
   "cell_type": "code",
   "execution_count": 25,
   "metadata": {
    "collapsed": false
   },
   "outputs": [
    {
     "name": "stdout",
     "output_type": "stream",
     "text": [
      "The autoreload extension is already loaded. To reload it, use:\n",
      "  %reload_ext autoreload\n"
     ]
    }
   ],
   "source": [
    "%load_ext autoreload\n",
    "%autoreload 2\n",
    "import warnings; warnings.simplefilter('ignore')\n",
    "\n",
    "import pandas as pd\n",
    "import numpy as np\n",
    "from vacou import *\n",
    "from plots import *\n",
    "from sklearn.metrics.pairwise import pairwise_distances\n",
    "\n",
    "import seaborn as sns\n",
    "import matplotlib.pyplot as plt\n",
    "%matplotlib inline\n",
    "sns.set(color_codes=True)\n",
    "sns.set(style=\"white\")\n",
    "#sns.set(font=\"monospace\")"
   ]
  },
  {
   "cell_type": "code",
   "execution_count": 26,
   "metadata": {
    "collapsed": true
   },
   "outputs": [],
   "source": [
    "data_fp = '/P/vacou/data/SS31_gait_data_for_PCA.tsv'\n",
    "sep_runs_data_fp = '/P/vacou/data/all_separate_runs.csv'\n",
    "#d_orig = pd.read_csv(data_fp, sep='\\t')\n",
    "response_column = 'Group'"
   ]
  },
  {
   "cell_type": "code",
   "execution_count": 27,
   "metadata": {
    "collapsed": false
   },
   "outputs": [],
   "source": [
    "#d, md, full_df = preprocess_vc(data_fp, version = 2, use_vars_fp='data/use_variables.csv')"
   ]
  },
  {
   "cell_type": "code",
   "execution_count": 28,
   "metadata": {
    "collapsed": false
   },
   "outputs": [],
   "source": [
    "d, md, full_df = preprocess_vc(sep_runs_data_fp, version = 3, use_vars_fp='data/use_variables.csv')"
   ]
  },
  {
   "cell_type": "code",
   "execution_count": 29,
   "metadata": {
    "collapsed": false
   },
   "outputs": [
    {
     "name": "stdout",
     "output_type": "stream",
     "text": [
      "(111, 112) (111, 4) (111, 494)\n"
     ]
    }
   ],
   "source": [
    "print(d.shape, md.shape, full_df.shape)"
   ]
  },
  {
   "cell_type": "code",
   "execution_count": 30,
   "metadata": {
    "collapsed": true
   },
   "outputs": [],
   "source": [
    "#d.to_csv('data/data_ss31.tsv', sep='\\t')\n",
    "#md.to_csv('data/md.tsv', sep='\\t')\n",
    "#full_df.to_csv('data/data_ss31_with_md.tsv', sep=\"\\t\")"
   ]
  },
  {
   "cell_type": "code",
   "execution_count": null,
   "metadata": {
    "collapsed": true
   },
   "outputs": [],
   "source": []
  },
  {
   "cell_type": "markdown",
   "metadata": {},
   "source": [
    "# Exploratory"
   ]
  },
  {
   "cell_type": "code",
   "execution_count": 31,
   "metadata": {
    "collapsed": false
   },
   "outputs": [
    {
     "name": "stdout",
     "output_type": "stream",
     "text": [
      "Take a look at some data columns\n"
     ]
    },
    {
     "data": {
      "text/plain": [
       "['Group',\n",
       " 'Group_Type',\n",
       " 'Group_Description',\n",
       " 'Animal',\n",
       " 'Time_Point',\n",
       " 'Time_Point_Description',\n",
       " 'Trial',\n",
       " 'Trial_Description',\n",
       " 'Run',\n",
       " 'Run_Description',\n",
       " 'Run_Duration_(s)',\n",
       " 'Run_Average_Speed_(cm/s)',\n",
       " 'Run_Maximum_Variation_(%)',\n",
       " 'Camera_Gain_(dB)',\n",
       " 'Green_Intensity_Threshold',\n",
       " 'Ceiling_Light_(V)',\n",
       " 'Walkway_Light_(V)',\n",
       " 'X-Unit_(mm/pixel)',\n",
       " 'Y-Unit_(mm/pixel)',\n",
       " 'WalkWay_Length_(cm)']"
      ]
     },
     "execution_count": 31,
     "metadata": {},
     "output_type": "execute_result"
    }
   ],
   "source": [
    "print('Take a look at some data columns')\n",
    "full_df.columns.tolist()[:20]"
   ]
  },
  {
   "cell_type": "code",
   "execution_count": 32,
   "metadata": {
    "collapsed": false
   },
   "outputs": [
    {
     "name": "stdout",
     "output_type": "stream",
     "text": [
      "Summarise data\n"
     ]
    },
    {
     "data": {
      "text/html": [
       "<div>\n",
       "<table border=\"1\" class=\"dataframe\">\n",
       "  <thead>\n",
       "    <tr style=\"text-align: right;\">\n",
       "      <th></th>\n",
       "      <th>Run_Average_Speed_(cm/s)</th>\n",
       "      <th>Run_Average_Speed_(cm/s)</th>\n",
       "      <th>RF_StandIndex_Mean</th>\n",
       "      <th>RF_MaxContactAt_(%)_Mean</th>\n",
       "      <th>RF_Swing_(s)_Mean</th>\n",
       "      <th>RF_SwingSpeed_(cm/s)_Mean</th>\n",
       "      <th>RF_StrideLength_(cm)_Mean</th>\n",
       "      <th>RF_StepCycle_(s)_Mean</th>\n",
       "      <th>RF_DutyCycle_(%)_Mean</th>\n",
       "      <th>RF_SingleStance_(s)_Mean</th>\n",
       "      <th>...</th>\n",
       "      <th>LF_BodySpeedVariation_(%)_Mean</th>\n",
       "      <th>LH_Stand_(s)_Mean</th>\n",
       "      <th>LH_StandIndex_Mean</th>\n",
       "      <th>LH_MaxContactAt_(%)_Mean</th>\n",
       "      <th>LH_Swing_(s)_Mean</th>\n",
       "      <th>LH_SwingSpeed_(cm/s)_Mean</th>\n",
       "      <th>LH_StrideLength_(cm)_Mean</th>\n",
       "      <th>LH_StepCycle_(s)_Mean</th>\n",
       "      <th>LH_DutyCycle_(%)_Mean</th>\n",
       "      <th>LH_SingleStance_(s)_Mean</th>\n",
       "    </tr>\n",
       "  </thead>\n",
       "  <tbody>\n",
       "    <tr>\n",
       "      <th>count</th>\n",
       "      <td>111.000000</td>\n",
       "      <td>111.000000</td>\n",
       "      <td>111.000000</td>\n",
       "      <td>111.000000</td>\n",
       "      <td>111.000000</td>\n",
       "      <td>111.000000</td>\n",
       "      <td>111.000000</td>\n",
       "      <td>111.000000</td>\n",
       "      <td>111.000000</td>\n",
       "      <td>111.000000</td>\n",
       "      <td>...</td>\n",
       "      <td>111.000000</td>\n",
       "      <td>111.000000</td>\n",
       "      <td>111.000000</td>\n",
       "      <td>111.000000</td>\n",
       "      <td>111.000000</td>\n",
       "      <td>111.000000</td>\n",
       "      <td>111.000000</td>\n",
       "      <td>111.000000</td>\n",
       "      <td>111.000000</td>\n",
       "      <td>111.000000</td>\n",
       "    </tr>\n",
       "    <tr>\n",
       "      <th>mean</th>\n",
       "      <td>14.584914</td>\n",
       "      <td>14.584914</td>\n",
       "      <td>-2.908800</td>\n",
       "      <td>42.021234</td>\n",
       "      <td>0.162932</td>\n",
       "      <td>44.196942</td>\n",
       "      <td>6.323757</td>\n",
       "      <td>0.398405</td>\n",
       "      <td>59.129395</td>\n",
       "      <td>0.157979</td>\n",
       "      <td>...</td>\n",
       "      <td>30.035065</td>\n",
       "      <td>0.283630</td>\n",
       "      <td>-6.335140</td>\n",
       "      <td>36.251656</td>\n",
       "      <td>0.119817</td>\n",
       "      <td>53.010311</td>\n",
       "      <td>6.096168</td>\n",
       "      <td>0.396463</td>\n",
       "      <td>67.084317</td>\n",
       "      <td>0.121410</td>\n",
       "    </tr>\n",
       "    <tr>\n",
       "      <th>std</th>\n",
       "      <td>4.523834</td>\n",
       "      <td>4.523834</td>\n",
       "      <td>0.987070</td>\n",
       "      <td>8.979002</td>\n",
       "      <td>0.038863</td>\n",
       "      <td>8.410696</td>\n",
       "      <td>0.685844</td>\n",
       "      <td>0.078260</td>\n",
       "      <td>4.627810</td>\n",
       "      <td>0.032483</td>\n",
       "      <td>...</td>\n",
       "      <td>19.045127</td>\n",
       "      <td>0.088077</td>\n",
       "      <td>2.099504</td>\n",
       "      <td>10.259607</td>\n",
       "      <td>0.020920</td>\n",
       "      <td>7.570878</td>\n",
       "      <td>0.766086</td>\n",
       "      <td>0.089811</td>\n",
       "      <td>6.490651</td>\n",
       "      <td>0.024038</td>\n",
       "    </tr>\n",
       "    <tr>\n",
       "      <th>min</th>\n",
       "      <td>6.331959</td>\n",
       "      <td>6.331959</td>\n",
       "      <td>-6.193595</td>\n",
       "      <td>21.103484</td>\n",
       "      <td>0.097347</td>\n",
       "      <td>27.469878</td>\n",
       "      <td>4.412604</td>\n",
       "      <td>0.234630</td>\n",
       "      <td>48.971029</td>\n",
       "      <td>0.087002</td>\n",
       "      <td>...</td>\n",
       "      <td>2.777169</td>\n",
       "      <td>0.138116</td>\n",
       "      <td>-11.217751</td>\n",
       "      <td>14.200235</td>\n",
       "      <td>0.066559</td>\n",
       "      <td>29.982542</td>\n",
       "      <td>3.852942</td>\n",
       "      <td>0.235629</td>\n",
       "      <td>52.196785</td>\n",
       "      <td>0.072875</td>\n",
       "    </tr>\n",
       "    <tr>\n",
       "      <th>25%</th>\n",
       "      <td>11.736628</td>\n",
       "      <td>11.736628</td>\n",
       "      <td>-3.321232</td>\n",
       "      <td>35.149174</td>\n",
       "      <td>0.138226</td>\n",
       "      <td>38.360965</td>\n",
       "      <td>5.790312</td>\n",
       "      <td>0.344030</td>\n",
       "      <td>55.643951</td>\n",
       "      <td>0.137780</td>\n",
       "      <td>...</td>\n",
       "      <td>17.317494</td>\n",
       "      <td>0.213965</td>\n",
       "      <td>-8.117294</td>\n",
       "      <td>27.797989</td>\n",
       "      <td>0.103484</td>\n",
       "      <td>48.592158</td>\n",
       "      <td>5.518172</td>\n",
       "      <td>0.339584</td>\n",
       "      <td>63.340375</td>\n",
       "      <td>0.104817</td>\n",
       "    </tr>\n",
       "    <tr>\n",
       "      <th>50%</th>\n",
       "      <td>13.854303</td>\n",
       "      <td>13.854303</td>\n",
       "      <td>-2.692116</td>\n",
       "      <td>41.737220</td>\n",
       "      <td>0.157248</td>\n",
       "      <td>44.248726</td>\n",
       "      <td>6.362632</td>\n",
       "      <td>0.401859</td>\n",
       "      <td>58.889488</td>\n",
       "      <td>0.153001</td>\n",
       "      <td>...</td>\n",
       "      <td>26.453840</td>\n",
       "      <td>0.273563</td>\n",
       "      <td>-6.043389</td>\n",
       "      <td>35.960144</td>\n",
       "      <td>0.117805</td>\n",
       "      <td>52.866320</td>\n",
       "      <td>6.107221</td>\n",
       "      <td>0.386884</td>\n",
       "      <td>68.040314</td>\n",
       "      <td>0.119809</td>\n",
       "    </tr>\n",
       "    <tr>\n",
       "      <th>75%</th>\n",
       "      <td>16.996631</td>\n",
       "      <td>16.996631</td>\n",
       "      <td>-2.224076</td>\n",
       "      <td>49.631609</td>\n",
       "      <td>0.177838</td>\n",
       "      <td>47.910743</td>\n",
       "      <td>6.808816</td>\n",
       "      <td>0.449784</td>\n",
       "      <td>62.610761</td>\n",
       "      <td>0.171948</td>\n",
       "      <td>...</td>\n",
       "      <td>36.656918</td>\n",
       "      <td>0.334466</td>\n",
       "      <td>-4.643683</td>\n",
       "      <td>44.255033</td>\n",
       "      <td>0.135417</td>\n",
       "      <td>57.481433</td>\n",
       "      <td>6.603696</td>\n",
       "      <td>0.445324</td>\n",
       "      <td>71.891407</td>\n",
       "      <td>0.133335</td>\n",
       "    </tr>\n",
       "    <tr>\n",
       "      <th>max</th>\n",
       "      <td>27.920288</td>\n",
       "      <td>27.920288</td>\n",
       "      <td>-1.436407</td>\n",
       "      <td>66.492026</td>\n",
       "      <td>0.397888</td>\n",
       "      <td>73.913177</td>\n",
       "      <td>7.918933</td>\n",
       "      <td>0.640329</td>\n",
       "      <td>71.386043</td>\n",
       "      <td>0.286213</td>\n",
       "      <td>...</td>\n",
       "      <td>127.299894</td>\n",
       "      <td>0.614022</td>\n",
       "      <td>-1.520474</td>\n",
       "      <td>62.801402</td>\n",
       "      <td>0.175968</td>\n",
       "      <td>77.921686</td>\n",
       "      <td>7.747798</td>\n",
       "      <td>0.788744</td>\n",
       "      <td>80.350844</td>\n",
       "      <td>0.197866</td>\n",
       "    </tr>\n",
       "  </tbody>\n",
       "</table>\n",
       "<p>8 rows × 112 columns</p>\n",
       "</div>"
      ],
      "text/plain": [
       "       Run_Average_Speed_(cm/s)  Run_Average_Speed_(cm/s)  RF_StandIndex_Mean  \\\n",
       "count                111.000000                111.000000          111.000000   \n",
       "mean                  14.584914                 14.584914           -2.908800   \n",
       "std                    4.523834                  4.523834            0.987070   \n",
       "min                    6.331959                  6.331959           -6.193595   \n",
       "25%                   11.736628                 11.736628           -3.321232   \n",
       "50%                   13.854303                 13.854303           -2.692116   \n",
       "75%                   16.996631                 16.996631           -2.224076   \n",
       "max                   27.920288                 27.920288           -1.436407   \n",
       "\n",
       "       RF_MaxContactAt_(%)_Mean  RF_Swing_(s)_Mean  RF_SwingSpeed_(cm/s)_Mean  \\\n",
       "count                111.000000         111.000000                 111.000000   \n",
       "mean                  42.021234           0.162932                  44.196942   \n",
       "std                    8.979002           0.038863                   8.410696   \n",
       "min                   21.103484           0.097347                  27.469878   \n",
       "25%                   35.149174           0.138226                  38.360965   \n",
       "50%                   41.737220           0.157248                  44.248726   \n",
       "75%                   49.631609           0.177838                  47.910743   \n",
       "max                   66.492026           0.397888                  73.913177   \n",
       "\n",
       "       RF_StrideLength_(cm)_Mean  RF_StepCycle_(s)_Mean  \\\n",
       "count                 111.000000             111.000000   \n",
       "mean                    6.323757               0.398405   \n",
       "std                     0.685844               0.078260   \n",
       "min                     4.412604               0.234630   \n",
       "25%                     5.790312               0.344030   \n",
       "50%                     6.362632               0.401859   \n",
       "75%                     6.808816               0.449784   \n",
       "max                     7.918933               0.640329   \n",
       "\n",
       "       RF_DutyCycle_(%)_Mean  RF_SingleStance_(s)_Mean  \\\n",
       "count             111.000000                111.000000   \n",
       "mean               59.129395                  0.157979   \n",
       "std                 4.627810                  0.032483   \n",
       "min                48.971029                  0.087002   \n",
       "25%                55.643951                  0.137780   \n",
       "50%                58.889488                  0.153001   \n",
       "75%                62.610761                  0.171948   \n",
       "max                71.386043                  0.286213   \n",
       "\n",
       "                 ...             LF_BodySpeedVariation_(%)_Mean  \\\n",
       "count            ...                                 111.000000   \n",
       "mean             ...                                  30.035065   \n",
       "std              ...                                  19.045127   \n",
       "min              ...                                   2.777169   \n",
       "25%              ...                                  17.317494   \n",
       "50%              ...                                  26.453840   \n",
       "75%              ...                                  36.656918   \n",
       "max              ...                                 127.299894   \n",
       "\n",
       "       LH_Stand_(s)_Mean  LH_StandIndex_Mean  LH_MaxContactAt_(%)_Mean  \\\n",
       "count         111.000000          111.000000                111.000000   \n",
       "mean            0.283630           -6.335140                 36.251656   \n",
       "std             0.088077            2.099504                 10.259607   \n",
       "min             0.138116          -11.217751                 14.200235   \n",
       "25%             0.213965           -8.117294                 27.797989   \n",
       "50%             0.273563           -6.043389                 35.960144   \n",
       "75%             0.334466           -4.643683                 44.255033   \n",
       "max             0.614022           -1.520474                 62.801402   \n",
       "\n",
       "       LH_Swing_(s)_Mean  LH_SwingSpeed_(cm/s)_Mean  \\\n",
       "count         111.000000                 111.000000   \n",
       "mean            0.119817                  53.010311   \n",
       "std             0.020920                   7.570878   \n",
       "min             0.066559                  29.982542   \n",
       "25%             0.103484                  48.592158   \n",
       "50%             0.117805                  52.866320   \n",
       "75%             0.135417                  57.481433   \n",
       "max             0.175968                  77.921686   \n",
       "\n",
       "       LH_StrideLength_(cm)_Mean  LH_StepCycle_(s)_Mean  \\\n",
       "count                 111.000000             111.000000   \n",
       "mean                    6.096168               0.396463   \n",
       "std                     0.766086               0.089811   \n",
       "min                     3.852942               0.235629   \n",
       "25%                     5.518172               0.339584   \n",
       "50%                     6.107221               0.386884   \n",
       "75%                     6.603696               0.445324   \n",
       "max                     7.747798               0.788744   \n",
       "\n",
       "       LH_DutyCycle_(%)_Mean  LH_SingleStance_(s)_Mean  \n",
       "count             111.000000                111.000000  \n",
       "mean               67.084317                  0.121410  \n",
       "std                 6.490651                  0.024038  \n",
       "min                52.196785                  0.072875  \n",
       "25%                63.340375                  0.104817  \n",
       "50%                68.040314                  0.119809  \n",
       "75%                71.891407                  0.133335  \n",
       "max                80.350844                  0.197866  \n",
       "\n",
       "[8 rows x 112 columns]"
      ]
     },
     "execution_count": 32,
     "metadata": {},
     "output_type": "execute_result"
    }
   ],
   "source": [
    "print('Summarise data')\n",
    "d.describe()"
   ]
  },
  {
   "cell_type": "code",
   "execution_count": 33,
   "metadata": {
    "collapsed": false
   },
   "outputs": [
    {
     "name": "stdout",
     "output_type": "stream",
     "text": [
      "Take a look at metadata\n"
     ]
    },
    {
     "data": {
      "text/html": [
       "<div>\n",
       "<table border=\"1\" class=\"dataframe\">\n",
       "  <thead>\n",
       "    <tr style=\"text-align: right;\">\n",
       "      <th></th>\n",
       "      <th></th>\n",
       "      <th>Group</th>\n",
       "      <th>Animal</th>\n",
       "      <th>Run</th>\n",
       "      <th>Trial</th>\n",
       "    </tr>\n",
       "    <tr>\n",
       "      <th>Group</th>\n",
       "      <th>Animal</th>\n",
       "      <th></th>\n",
       "      <th></th>\n",
       "      <th></th>\n",
       "      <th></th>\n",
       "    </tr>\n",
       "  </thead>\n",
       "  <tbody>\n",
       "    <tr>\n",
       "      <th rowspan=\"5\" valign=\"top\">AC</th>\n",
       "      <th>1.2</th>\n",
       "      <td>AC</td>\n",
       "      <td>1.2</td>\n",
       "      <td>Run004</td>\n",
       "      <td>Trial0022</td>\n",
       "    </tr>\n",
       "    <tr>\n",
       "      <th>1.2</th>\n",
       "      <td>AC</td>\n",
       "      <td>1.2</td>\n",
       "      <td>Run010</td>\n",
       "      <td>Trial0022</td>\n",
       "    </tr>\n",
       "    <tr>\n",
       "      <th>1.2</th>\n",
       "      <td>AC</td>\n",
       "      <td>1.2</td>\n",
       "      <td>Run017</td>\n",
       "      <td>Trial0022</td>\n",
       "    </tr>\n",
       "    <tr>\n",
       "      <th>1.2</th>\n",
       "      <td>AC</td>\n",
       "      <td>1.2</td>\n",
       "      <td>Run022</td>\n",
       "      <td>Trial0022</td>\n",
       "    </tr>\n",
       "    <tr>\n",
       "      <th>1.3</th>\n",
       "      <td>AC</td>\n",
       "      <td>1.3</td>\n",
       "      <td>Run011</td>\n",
       "      <td>Trial0023</td>\n",
       "    </tr>\n",
       "  </tbody>\n",
       "</table>\n",
       "</div>"
      ],
      "text/plain": [
       "             Group  Animal     Run      Trial\n",
       "Group Animal                                 \n",
       "AC    1.2       AC     1.2  Run004  Trial0022\n",
       "      1.2       AC     1.2  Run010  Trial0022\n",
       "      1.2       AC     1.2  Run017  Trial0022\n",
       "      1.2       AC     1.2  Run022  Trial0022\n",
       "      1.3       AC     1.3  Run011  Trial0023"
      ]
     },
     "execution_count": 33,
     "metadata": {},
     "output_type": "execute_result"
    }
   ],
   "source": [
    "print('Take a look at metadata')\n",
    "md.head()"
   ]
  },
  {
   "cell_type": "code",
   "execution_count": 34,
   "metadata": {
    "collapsed": false
   },
   "outputs": [
    {
     "name": "stdout",
     "output_type": "stream",
     "text": [
      "How many observations are in each group?\n"
     ]
    },
    {
     "data": {
      "text/html": [
       "<div>\n",
       "<table border=\"1\" class=\"dataframe\">\n",
       "  <thead>\n",
       "    <tr style=\"text-align: right;\">\n",
       "      <th></th>\n",
       "      <th>Group</th>\n",
       "    </tr>\n",
       "  </thead>\n",
       "  <tbody>\n",
       "    <tr>\n",
       "      <th>AT</th>\n",
       "      <td>67</td>\n",
       "    </tr>\n",
       "    <tr>\n",
       "      <th>YC</th>\n",
       "      <td>30</td>\n",
       "    </tr>\n",
       "    <tr>\n",
       "      <th>AC</th>\n",
       "      <td>14</td>\n",
       "    </tr>\n",
       "  </tbody>\n",
       "</table>\n",
       "</div>"
      ],
      "text/plain": [
       "    Group\n",
       "AT     67\n",
       "YC     30\n",
       "AC     14"
      ]
     },
     "execution_count": 34,
     "metadata": {},
     "output_type": "execute_result"
    }
   ],
   "source": [
    "print('How many observations are in each group?')\n",
    "pd.DataFrame(md.Group.value_counts())"
   ]
  },
  {
   "cell_type": "markdown",
   "metadata": {},
   "source": [
    "# Top important features"
   ]
  },
  {
   "cell_type": "markdown",
   "metadata": {},
   "source": [
    "### highest variance selection"
   ]
  },
  {
   "cell_type": "code",
   "execution_count": 35,
   "metadata": {
    "collapsed": false
   },
   "outputs": [],
   "source": [
    "selected_v, variances = sel_var(normalize_pd(d, 0), 0.001)"
   ]
  },
  {
   "cell_type": "code",
   "execution_count": 36,
   "metadata": {
    "collapsed": false
   },
   "outputs": [
    {
     "name": "stdout",
     "output_type": "stream",
     "text": [
      "Features with highest variance\n"
     ]
    },
    {
     "data": {
      "text/html": [
       "<div>\n",
       "<table border=\"1\" class=\"dataframe\">\n",
       "  <thead>\n",
       "    <tr style=\"text-align: right;\">\n",
       "      <th></th>\n",
       "      <th>variance (after normalisation)</th>\n",
       "    </tr>\n",
       "  </thead>\n",
       "  <tbody>\n",
       "    <tr>\n",
       "      <th>LH_InitialDualStance_(s)_Mean</th>\n",
       "      <td>0.003279</td>\n",
       "    </tr>\n",
       "    <tr>\n",
       "      <th>LF_BodySpeedVariation_(%)_Mean</th>\n",
       "      <td>0.002567</td>\n",
       "    </tr>\n",
       "    <tr>\n",
       "      <th>LF_BodySpeedVariation_(%)_Mean</th>\n",
       "      <td>0.002567</td>\n",
       "    </tr>\n",
       "    <tr>\n",
       "      <th>RF_BodySpeedVariation_(%)_Mean</th>\n",
       "      <td>0.002412</td>\n",
       "    </tr>\n",
       "    <tr>\n",
       "      <th>RF_BodySpeedVariation_(%)_Mean</th>\n",
       "      <td>0.002412</td>\n",
       "    </tr>\n",
       "    <tr>\n",
       "      <th>LH_BodySpeedVariation_(%)_Mean</th>\n",
       "      <td>0.002412</td>\n",
       "    </tr>\n",
       "    <tr>\n",
       "      <th>RH_BodySpeedVariation_(%)_Mean</th>\n",
       "      <td>0.002378</td>\n",
       "    </tr>\n",
       "    <tr>\n",
       "      <th>RH_BodySpeedVariation_(%)_Mean</th>\n",
       "      <td>0.002378</td>\n",
       "    </tr>\n",
       "    <tr>\n",
       "      <th>RH_TerminalDualStance_(s)_Mean</th>\n",
       "      <td>0.002375</td>\n",
       "    </tr>\n",
       "    <tr>\n",
       "      <th>RH_TerminalDualStance_(s)_Mean</th>\n",
       "      <td>0.002375</td>\n",
       "    </tr>\n",
       "    <tr>\n",
       "      <th>LH_TerminalDualStance_(s)_Mean</th>\n",
       "      <td>0.002236</td>\n",
       "    </tr>\n",
       "    <tr>\n",
       "      <th>RH_InitialDualStance_(s)_Mean</th>\n",
       "      <td>0.002236</td>\n",
       "    </tr>\n",
       "    <tr>\n",
       "      <th>RH_InitialDualStance_(s)_Mean</th>\n",
       "      <td>0.002236</td>\n",
       "    </tr>\n",
       "    <tr>\n",
       "      <th>LF_TerminalDualStance_(s)_Mean</th>\n",
       "      <td>0.002048</td>\n",
       "    </tr>\n",
       "    <tr>\n",
       "      <th>LF_TerminalDualStance_(s)_Mean</th>\n",
       "      <td>0.002048</td>\n",
       "    </tr>\n",
       "  </tbody>\n",
       "</table>\n",
       "</div>"
      ],
      "text/plain": [
       "                                variance (after normalisation)\n",
       "LH_InitialDualStance_(s)_Mean                         0.003279\n",
       "LF_BodySpeedVariation_(%)_Mean                        0.002567\n",
       "LF_BodySpeedVariation_(%)_Mean                        0.002567\n",
       "RF_BodySpeedVariation_(%)_Mean                        0.002412\n",
       "RF_BodySpeedVariation_(%)_Mean                        0.002412\n",
       "LH_BodySpeedVariation_(%)_Mean                        0.002412\n",
       "RH_BodySpeedVariation_(%)_Mean                        0.002378\n",
       "RH_BodySpeedVariation_(%)_Mean                        0.002378\n",
       "RH_TerminalDualStance_(s)_Mean                        0.002375\n",
       "RH_TerminalDualStance_(s)_Mean                        0.002375\n",
       "LH_TerminalDualStance_(s)_Mean                        0.002236\n",
       "RH_InitialDualStance_(s)_Mean                         0.002236\n",
       "RH_InitialDualStance_(s)_Mean                         0.002236\n",
       "LF_TerminalDualStance_(s)_Mean                        0.002048\n",
       "LF_TerminalDualStance_(s)_Mean                        0.002048"
      ]
     },
     "execution_count": 36,
     "metadata": {},
     "output_type": "execute_result"
    }
   ],
   "source": [
    "print(\"Features with highest variance\")\n",
    "pd.DataFrame(variances.sort_values(ascending=False)[:15], columns = ['variance (after normalisation)'])"
   ]
  },
  {
   "cell_type": "markdown",
   "metadata": {
    "collapsed": true
   },
   "source": [
    "### f classification selection (anova for all variables)"
   ]
  },
  {
   "cell_type": "code",
   "execution_count": 37,
   "metadata": {
    "collapsed": false
   },
   "outputs": [],
   "source": [
    "selected_a = sel_anova(normalize_pd(d, 0), md[response_column], k=15, mode = 'classif')"
   ]
  },
  {
   "cell_type": "code",
   "execution_count": 38,
   "metadata": {
    "collapsed": false
   },
   "outputs": [
    {
     "name": "stdout",
     "output_type": "stream",
     "text": [
      "Features selected by f_regression\n"
     ]
    },
    {
     "data": {
      "text/html": [
       "<div>\n",
       "<table border=\"1\" class=\"dataframe\">\n",
       "  <thead>\n",
       "    <tr style=\"text-align: right;\">\n",
       "      <th></th>\n",
       "      <th>0</th>\n",
       "    </tr>\n",
       "  </thead>\n",
       "  <tbody>\n",
       "    <tr>\n",
       "      <th>0</th>\n",
       "      <td>RF_StandIndex_Mean</td>\n",
       "    </tr>\n",
       "    <tr>\n",
       "      <th>1</th>\n",
       "      <td>RF_DutyCycle_(%)_Mean</td>\n",
       "    </tr>\n",
       "    <tr>\n",
       "      <th>2</th>\n",
       "      <td>RF_SingleStance_(s)_Mean</td>\n",
       "    </tr>\n",
       "    <tr>\n",
       "      <th>3</th>\n",
       "      <td>LF_Stand_(s)_Mean</td>\n",
       "    </tr>\n",
       "    <tr>\n",
       "      <th>4</th>\n",
       "      <td>LF_StandIndex_Mean</td>\n",
       "    </tr>\n",
       "    <tr>\n",
       "      <th>5</th>\n",
       "      <td>FP_Stand_(s)_Mean</td>\n",
       "    </tr>\n",
       "    <tr>\n",
       "      <th>6</th>\n",
       "      <td>FP_StandIndex_Mean</td>\n",
       "    </tr>\n",
       "    <tr>\n",
       "      <th>7</th>\n",
       "      <td>FP_DutyCycle_(%)_Mean</td>\n",
       "    </tr>\n",
       "    <tr>\n",
       "      <th>8</th>\n",
       "      <td>FP_SingleStance_(s)_Mean</td>\n",
       "    </tr>\n",
       "    <tr>\n",
       "      <th>9</th>\n",
       "      <td>RF_StandIndex_Mean</td>\n",
       "    </tr>\n",
       "    <tr>\n",
       "      <th>10</th>\n",
       "      <td>RF_DutyCycle_(%)_Mean</td>\n",
       "    </tr>\n",
       "    <tr>\n",
       "      <th>11</th>\n",
       "      <td>RF_SingleStance_(s)_Mean</td>\n",
       "    </tr>\n",
       "    <tr>\n",
       "      <th>12</th>\n",
       "      <td>RH_StandIndex_Mean</td>\n",
       "    </tr>\n",
       "    <tr>\n",
       "      <th>13</th>\n",
       "      <td>LF_Stand_(s)_Mean</td>\n",
       "    </tr>\n",
       "    <tr>\n",
       "      <th>14</th>\n",
       "      <td>LF_StandIndex_Mean</td>\n",
       "    </tr>\n",
       "  </tbody>\n",
       "</table>\n",
       "</div>"
      ],
      "text/plain": [
       "                           0\n",
       "0         RF_StandIndex_Mean\n",
       "1      RF_DutyCycle_(%)_Mean\n",
       "2   RF_SingleStance_(s)_Mean\n",
       "3          LF_Stand_(s)_Mean\n",
       "4         LF_StandIndex_Mean\n",
       "5          FP_Stand_(s)_Mean\n",
       "6         FP_StandIndex_Mean\n",
       "7      FP_DutyCycle_(%)_Mean\n",
       "8   FP_SingleStance_(s)_Mean\n",
       "9         RF_StandIndex_Mean\n",
       "10     RF_DutyCycle_(%)_Mean\n",
       "11  RF_SingleStance_(s)_Mean\n",
       "12        RH_StandIndex_Mean\n",
       "13         LF_Stand_(s)_Mean\n",
       "14        LF_StandIndex_Mean"
      ]
     },
     "execution_count": 38,
     "metadata": {},
     "output_type": "execute_result"
    }
   ],
   "source": [
    "print(\"Features selected by f_regression\")\n",
    "pd.DataFrame(selected_a.columns)"
   ]
  },
  {
   "cell_type": "markdown",
   "metadata": {},
   "source": [
    "### mutual information classification selection"
   ]
  },
  {
   "cell_type": "code",
   "execution_count": 39,
   "metadata": {
    "collapsed": false
   },
   "outputs": [],
   "source": [
    "selected_m = sel_mi(normalize_pd(d, 0), md[response_column], k=15)"
   ]
  },
  {
   "cell_type": "code",
   "execution_count": 40,
   "metadata": {
    "collapsed": false
   },
   "outputs": [
    {
     "name": "stdout",
     "output_type": "stream",
     "text": [
      "Features selected by mutual_info_regression\n"
     ]
    },
    {
     "data": {
      "text/html": [
       "<div>\n",
       "<table border=\"1\" class=\"dataframe\">\n",
       "  <thead>\n",
       "    <tr style=\"text-align: right;\">\n",
       "      <th></th>\n",
       "      <th>0</th>\n",
       "    </tr>\n",
       "  </thead>\n",
       "  <tbody>\n",
       "    <tr>\n",
       "      <th>0</th>\n",
       "      <td>RF_SingleStance_(s)_Mean</td>\n",
       "    </tr>\n",
       "    <tr>\n",
       "      <th>1</th>\n",
       "      <td>RH_StepCycle_(s)_Mean</td>\n",
       "    </tr>\n",
       "    <tr>\n",
       "      <th>2</th>\n",
       "      <td>RH_InitialDualStance_(s)_Mean</td>\n",
       "    </tr>\n",
       "    <tr>\n",
       "      <th>3</th>\n",
       "      <td>LF_Stand_(s)_Mean</td>\n",
       "    </tr>\n",
       "    <tr>\n",
       "      <th>4</th>\n",
       "      <td>LF_StandIndex_Mean</td>\n",
       "    </tr>\n",
       "    <tr>\n",
       "      <th>5</th>\n",
       "      <td>LH_Stand_(s)_Mean</td>\n",
       "    </tr>\n",
       "    <tr>\n",
       "      <th>6</th>\n",
       "      <td>LH_StepCycle_(s)_Mean</td>\n",
       "    </tr>\n",
       "    <tr>\n",
       "      <th>7</th>\n",
       "      <td>FP_SingleStance_(s)_Mean</td>\n",
       "    </tr>\n",
       "    <tr>\n",
       "      <th>8</th>\n",
       "      <td>RF_SingleStance_(s)_Mean</td>\n",
       "    </tr>\n",
       "    <tr>\n",
       "      <th>9</th>\n",
       "      <td>RH_StepCycle_(s)_Mean</td>\n",
       "    </tr>\n",
       "    <tr>\n",
       "      <th>10</th>\n",
       "      <td>RH_InitialDualStance_(s)_Mean</td>\n",
       "    </tr>\n",
       "    <tr>\n",
       "      <th>11</th>\n",
       "      <td>LF_Stand_(s)_Mean</td>\n",
       "    </tr>\n",
       "    <tr>\n",
       "      <th>12</th>\n",
       "      <td>LF_StandIndex_Mean</td>\n",
       "    </tr>\n",
       "    <tr>\n",
       "      <th>13</th>\n",
       "      <td>LH_Stand_(s)_Mean</td>\n",
       "    </tr>\n",
       "    <tr>\n",
       "      <th>14</th>\n",
       "      <td>LH_StepCycle_(s)_Mean</td>\n",
       "    </tr>\n",
       "  </tbody>\n",
       "</table>\n",
       "</div>"
      ],
      "text/plain": [
       "                                0\n",
       "0        RF_SingleStance_(s)_Mean\n",
       "1           RH_StepCycle_(s)_Mean\n",
       "2   RH_InitialDualStance_(s)_Mean\n",
       "3               LF_Stand_(s)_Mean\n",
       "4              LF_StandIndex_Mean\n",
       "5               LH_Stand_(s)_Mean\n",
       "6           LH_StepCycle_(s)_Mean\n",
       "7        FP_SingleStance_(s)_Mean\n",
       "8        RF_SingleStance_(s)_Mean\n",
       "9           RH_StepCycle_(s)_Mean\n",
       "10  RH_InitialDualStance_(s)_Mean\n",
       "11              LF_Stand_(s)_Mean\n",
       "12             LF_StandIndex_Mean\n",
       "13              LH_Stand_(s)_Mean\n",
       "14          LH_StepCycle_(s)_Mean"
      ]
     },
     "execution_count": 40,
     "metadata": {},
     "output_type": "execute_result"
    }
   ],
   "source": [
    "print(\"Features selected by mutual_info_regression\")\n",
    "pd.DataFrame(selected_m.columns)"
   ]
  },
  {
   "cell_type": "markdown",
   "metadata": {},
   "source": [
    "### Comparison of feature reduction methods"
   ]
  },
  {
   "cell_type": "code",
   "execution_count": 41,
   "metadata": {
    "collapsed": false
   },
   "outputs": [
    {
     "name": "stdout",
     "output_type": "stream",
     "text": [
      "Number of selected features that overlap between methods (out of 15):\n",
      " - var-f_reg: 0 features.\n",
      " - var-mi_reg: 2 features.\n",
      " - f_reg-mi_reg: 7 features. \n",
      "\n"
     ]
    }
   ],
   "source": [
    "print(\"Number of selected features that overlap between methods (out of 15):\")\n",
    "print(' - var-f_reg:', str(sum([i in selected_a.columns.tolist()\n",
    "                              for i in variances.sort_values(ascending=False)[:15].index.tolist()])),\n",
    "                             \"features.\")\n",
    "print(' - var-mi_reg:', str(sum([i in selected_m.columns.tolist()\n",
    "                              for i in variances.sort_values(ascending=False)[:15].index.tolist()])),\n",
    "                             \"features.\")\n",
    "print(' - f_reg-mi_reg:', str(sum([i in selected_a.columns.tolist()\n",
    "                              for i in selected_m.columns.tolist()])),\n",
    "                             \"features. \\n\")"
   ]
  },
  {
   "cell_type": "code",
   "execution_count": 42,
   "metadata": {
    "collapsed": false,
    "scrolled": false
   },
   "outputs": [
    {
     "name": "stdout",
     "output_type": "stream",
     "text": [
      "Accuracy for classifier param grid for response variable Group\n"
     ]
    },
    {
     "data": {
      "image/png": "[encoded data removed]",
      "text/plain": [
       "<matplotlib.figure.Figure at 0x7fccd14578d0>"
      ]
     },
     "metadata": {},
     "output_type": "display_data"
    }
   ],
   "source": [
    "# regression problems:\n",
    "#compare_dim_red_methods(normalize_pd(d, 0), round(md[response_column], 0), mode='regression')\n",
    "\n",
    "# classification:\n",
    "print('Accuracy for classifier param grid for response variable', response_column)\n",
    "compare_dim_red_methods(normalize_pd(d, 0), md[response_column], mode='classif')"
   ]
  },
  {
   "cell_type": "code",
   "execution_count": null,
   "metadata": {
    "collapsed": false
   },
   "outputs": [],
   "source": []
  },
  {
   "cell_type": "markdown",
   "metadata": {},
   "source": [
    "# PCA"
   ]
  },
  {
   "cell_type": "code",
   "execution_count": 43,
   "metadata": {
    "collapsed": false
   },
   "outputs": [],
   "source": [
    "comps, exvar, _ = get_pc(normalize_pd(d,0, 'normalize'))\n",
    "comps.to_csv('data/PCs.tsv', sep='\\t')"
   ]
  },
  {
   "cell_type": "code",
   "execution_count": 44,
   "metadata": {
    "collapsed": false
   },
   "outputs": [
    {
     "data": {
      "image/png": "[encoded data removed]",
      "text/plain": [
       "<matplotlib.figure.Figure at 0x7fccd1b9d710>"
      ]
     },
     "metadata": {},
     "output_type": "display_data"
    }
   ],
   "source": [
    "plot_comps = get_plot_comps(comps, md)\n",
    "p2 = sns.lmplot(x='PC1', y='PC2', hue='Group', data=plot_comps, ci=None, fit_reg=False,\n",
    "               scatter_kws={\"s\":50})"
   ]
  },
  {
   "cell_type": "code",
   "execution_count": 45,
   "metadata": {
    "collapsed": false
   },
   "outputs": [
    {
     "name": "stdout",
     "output_type": "stream",
     "text": [
      "Variance explained\n"
     ]
    },
    {
     "data": {
      "text/html": [
       "<div>\n",
       "<table border=\"1\" class=\"dataframe\">\n",
       "  <thead>\n",
       "    <tr style=\"text-align: right;\">\n",
       "      <th></th>\n",
       "      <th>PC1</th>\n",
       "      <th>PC2</th>\n",
       "      <th>PC3</th>\n",
       "      <th>PC4</th>\n",
       "      <th>PC5</th>\n",
       "      <th>PC6</th>\n",
       "      <th>PC7</th>\n",
       "      <th>PC8</th>\n",
       "      <th>PC9</th>\n",
       "      <th>PC10</th>\n",
       "      <th>...</th>\n",
       "      <th>PC102</th>\n",
       "      <th>PC103</th>\n",
       "      <th>PC104</th>\n",
       "      <th>PC105</th>\n",
       "      <th>PC106</th>\n",
       "      <th>PC107</th>\n",
       "      <th>PC108</th>\n",
       "      <th>PC109</th>\n",
       "      <th>PC110</th>\n",
       "      <th>PC111</th>\n",
       "    </tr>\n",
       "  </thead>\n",
       "  <tbody>\n",
       "    <tr>\n",
       "      <th>0</th>\n",
       "      <td>0.791796</td>\n",
       "      <td>0.08465</td>\n",
       "      <td>0.034039</td>\n",
       "      <td>0.020228</td>\n",
       "      <td>0.013603</td>\n",
       "      <td>0.010719</td>\n",
       "      <td>0.007641</td>\n",
       "      <td>0.006431</td>\n",
       "      <td>0.005946</td>\n",
       "      <td>0.003421</td>\n",
       "      <td>...</td>\n",
       "      <td>6.783153e-33</td>\n",
       "      <td>6.783153e-33</td>\n",
       "      <td>6.783153e-33</td>\n",
       "      <td>6.783153e-33</td>\n",
       "      <td>6.783153e-33</td>\n",
       "      <td>6.783153e-33</td>\n",
       "      <td>6.783153e-33</td>\n",
       "      <td>6.783153e-33</td>\n",
       "      <td>6.783153e-33</td>\n",
       "      <td>2.758665e-34</td>\n",
       "    </tr>\n",
       "  </tbody>\n",
       "</table>\n",
       "<p>1 rows × 111 columns</p>\n",
       "</div>"
      ],
      "text/plain": [
       "        PC1      PC2       PC3       PC4       PC5       PC6       PC7  \\\n",
       "0  0.791796  0.08465  0.034039  0.020228  0.013603  0.010719  0.007641   \n",
       "\n",
       "        PC8       PC9      PC10      ...              PC102         PC103  \\\n",
       "0  0.006431  0.005946  0.003421      ...       6.783153e-33  6.783153e-33   \n",
       "\n",
       "          PC104         PC105         PC106         PC107         PC108  \\\n",
       "0  6.783153e-33  6.783153e-33  6.783153e-33  6.783153e-33  6.783153e-33   \n",
       "\n",
       "          PC109         PC110         PC111  \n",
       "0  6.783153e-33  6.783153e-33  2.758665e-34  \n",
       "\n",
       "[1 rows x 111 columns]"
      ]
     },
     "execution_count": 45,
     "metadata": {},
     "output_type": "execute_result"
    }
   ],
   "source": [
    "print('Variance explained')\n",
    "pd.DataFrame(exvar).T"
   ]
  },
  {
   "cell_type": "markdown",
   "metadata": {},
   "source": [
    "In case of more samples, there doesn't seem to be much of a difference at all - BUT, perhaps there's a trend?"
   ]
  },
  {
   "cell_type": "code",
   "execution_count": 46,
   "metadata": {
    "collapsed": false
   },
   "outputs": [],
   "source": [
    "#p2 = sns.lmplot(x='PC1', y='PC2', hue='Trial', data=plot_comps.sort_values('Trial').iloc[:10,:],\n",
    "#                ci=None, fit_reg=False, scatter_kws={\"s\":50})#, y_jitter=0.01, x_jitter=0.01)"
   ]
  },
  {
   "cell_type": "code",
   "execution_count": 47,
   "metadata": {
    "collapsed": false,
    "scrolled": false
   },
   "outputs": [],
   "source": [
    "# clusterplots for samples 1) PC3, PCall, all_var"
   ]
  },
  {
   "cell_type": "code",
   "execution_count": 48,
   "metadata": {
    "collapsed": false
   },
   "outputs": [],
   "source": [
    "palette=sns.color_palette('colorblind', len(md.Group.drop_duplicates()))\n",
    "if not 'Colour' in md.columns:\n",
    "    md.insert(1, 'Colour', md.Group)\n",
    "    for i,g in enumerate(md.Colour.drop_duplicates()):\n",
    "        md.Colour[md.Colour == g] = [palette[i] for c in range(sum(md.Colour == g))]"
   ]
  },
  {
   "cell_type": "code",
   "execution_count": 60,
   "metadata": {
    "collapsed": false
   },
   "outputs": [
    {
     "data": {
      "text/plain": [
       "MultiIndex(levels=[['AC', 'AT', 'YC'], [1.1, 1.2, 1.3]],\n",
       "           labels=[[0, 0, 0, 0, 0, 0, 0, 0, 0, 0, 0, 0, 0, 0, 1, 1, 1, 1, 1, 1, 1, 1, 1, 1, 1, 1, 1, 1, 1, 1, 1, 1, 1, 1, 1, 1, 1, 1, 1, 1, 1, 1, 1, 1, 1, 1, 1, 1, 2, 2, 2, 2, 2, 2, 2, 2, 2, 2, 2, 2, 2, 2, 2, 2, 2, 2, 2, 2, 2, 2, 2, 2, 2, 2, 2, 2, 2, 2, 1, 1, 1, 1, 1, 1, 1, 1, 1, 1, 1, 1, 1, 1, 1, 1, 1, 1, 1, 1, 1, 1, 1, 1, 1, 1, 1, 1, 1, 1, 1, 1, 1], [1, 1, 1, 1, 2, 2, 2, 2, 2, 0, 0, 0, 0, 0, 0, 0, 0, 0, 0, 0, 0, 0, 0, 0, 0, 0, 0, 0, 0, 0, 0, 0, 0, 0, 0, 0, 0, 0, 0, 0, 0, 0, 0, 0, 0, 0, 0, 0, 2, 2, 2, 2, 2, 2, 2, 2, 2, 2, 1, 1, 1, 1, 1, 1, 1, 1, 1, 1, 0, 0, 0, 0, 0, 0, 0, 0, 0, 0, 2, 2, 2, 2, 2, 2, 2, 2, 2, 2, 2, 2, 2, 2, 2, 2, 2, 2, 2, 2, 2, 2, 2, 2, 2, 2, 2, 2, 2, 2, 2, 2, 2]],\n",
       "           names=['Group', 'Animal'])"
      ]
     },
     "execution_count": 60,
     "metadata": {},
     "output_type": "execute_result"
    }
   ],
   "source": [
    "comps.index"
   ]
  },
  {
   "cell_type": "code",
   "execution_count": 54,
   "metadata": {
    "collapsed": false,
    "scrolled": false
   },
   "outputs": [
    {
     "name": "stdout",
     "output_type": "stream",
     "text": [
      "Distances between mice based on 5 variables or PCs. Dendrograms illustrate clustering of mice.\n"
     ]
    },
    {
     "data": {
      "image/png": "[encoded data removed]",
      "text/plain": [
       "<matplotlib.figure.Figure at 0x7fccbc8b1278>"
      ]
     },
     "metadata": {},
     "output_type": "display_data"
    }
   ],
   "source": [
    "print('Distances between mice based on', 5, 'variables or PCs. Dendrograms illustrate clustering of mice.')\n",
    "D = pd.DataFrame(pairwise_distances(comps.ix[:, :5],metric='mahalanobis'),\n",
    "                columns = comps.index, index = comps.index)\n",
    "#sns.clustermap(x);\n",
    "p3 = distance_matrix_plots(D, \"Group\", figsize=(16,16));"
   ]
  },
  {
   "cell_type": "markdown",
   "metadata": {
    "collapsed": true
   },
   "source": [
    "# Differences between groups"
   ]
  },
  {
   "cell_type": "markdown",
   "metadata": {},
   "source": [
    "### Is there any difference between all groups? Cluster separation - ?"
   ]
  },
  {
   "cell_type": "code",
   "execution_count": null,
   "metadata": {
    "collapsed": true
   },
   "outputs": [],
   "source": []
  },
  {
   "cell_type": "code",
   "execution_count": null,
   "metadata": {
    "collapsed": true
   },
   "outputs": [],
   "source": []
  },
  {
   "cell_type": "markdown",
   "metadata": {},
   "source": [
    "### Is there any difference between all groups? Compare with one variable: Gait Index - ANOVA"
   ]
  },
  {
   "cell_type": "code",
   "execution_count": 61,
   "metadata": {
    "collapsed": false
   },
   "outputs": [
    {
     "data": {
      "text/html": [
       "<div>\n",
       "<table border=\"1\" class=\"dataframe\">\n",
       "  <thead>\n",
       "    <tr style=\"text-align: right;\">\n",
       "      <th></th>\n",
       "      <th>GI</th>\n",
       "      <th>GI_scaled</th>\n",
       "    </tr>\n",
       "  </thead>\n",
       "  <tbody>\n",
       "    <tr>\n",
       "      <th>count</th>\n",
       "      <td>111.000000</td>\n",
       "      <td>1.110000e+02</td>\n",
       "    </tr>\n",
       "    <tr>\n",
       "      <th>mean</th>\n",
       "      <td>-0.094268</td>\n",
       "      <td>7.646536e-16</td>\n",
       "    </tr>\n",
       "    <tr>\n",
       "      <th>std</th>\n",
       "      <td>0.011117</td>\n",
       "      <td>1.004535e+00</td>\n",
       "    </tr>\n",
       "    <tr>\n",
       "      <th>min</th>\n",
       "      <td>-0.121330</td>\n",
       "      <td>-2.445423e+00</td>\n",
       "    </tr>\n",
       "    <tr>\n",
       "      <th>25%</th>\n",
       "      <td>-0.102479</td>\n",
       "      <td>-7.419544e-01</td>\n",
       "    </tr>\n",
       "    <tr>\n",
       "      <th>50%</th>\n",
       "      <td>-0.092160</td>\n",
       "      <td>1.905541e-01</td>\n",
       "    </tr>\n",
       "    <tr>\n",
       "      <th>75%</th>\n",
       "      <td>-0.084818</td>\n",
       "      <td>8.539933e-01</td>\n",
       "    </tr>\n",
       "    <tr>\n",
       "      <th>max</th>\n",
       "      <td>-0.077063</td>\n",
       "      <td>1.554740e+00</td>\n",
       "    </tr>\n",
       "  </tbody>\n",
       "</table>\n",
       "</div>"
      ],
      "text/plain": [
       "               GI     GI_scaled\n",
       "count  111.000000  1.110000e+02\n",
       "mean    -0.094268  7.646536e-16\n",
       "std      0.011117  1.004535e+00\n",
       "min     -0.121330 -2.445423e+00\n",
       "25%     -0.102479 -7.419544e-01\n",
       "50%     -0.092160  1.905541e-01\n",
       "75%     -0.084818  8.539933e-01\n",
       "max     -0.077063  1.554740e+00"
      ]
     },
     "execution_count": 61,
     "metadata": {},
     "output_type": "execute_result"
    }
   ],
   "source": [
    "GI = comps.ix[:, :1].rename(columns={'PC1': 'GI'})\n",
    "GI.to_csv('data/GI.tsv', sep=\"\\t\")\n",
    "GI['GI_scaled'] = scale(GI['GI'])\n",
    "GI.describe()"
   ]
  },
  {
   "cell_type": "code",
   "execution_count": 62,
   "metadata": {
    "collapsed": false
   },
   "outputs": [
    {
     "name": "stdout",
     "output_type": "stream",
     "text": [
      "             Df   Sum Sq   Mean Sq F value   Pr(>F)\n",
      "Group         2 0.005527 0.0027636      37 5.76e-13 ***\n",
      "Residuals   108 0.008066 0.0000747\n",
      "---\n",
      "Signif. codes:  0 ‘***’ 0.001 ‘**’ 0.01 ‘*’ 0.05 ‘.’ 0.1 ‘ ’ 1\n"
     ]
    }
   ],
   "source": [
    "[print(i.rstrip()) for i in anovaR('data/GI.tsv', 'GI~Group')];"
   ]
  },
  {
   "cell_type": "markdown",
   "metadata": {},
   "source": [
    "### Is there any difference between all groups? Comparison with multiple variables - MANOVA. "
   ]
  },
  {
   "cell_type": "markdown",
   "metadata": {},
   "source": [
    "Done on PCs - perhaps useful for global difference assessment, surely not for testing each variable.\n",
    "\n",
    "http://www.sthda.com/english/wiki/manova-test-in-r-multivariate-analysis-of-variance\n",
    "\n",
    "If the global multivariate test is significant, we conclude that the corresponding effect (treatment; here: group) is significant."
   ]
  },
  {
   "cell_type": "code",
   "execution_count": 63,
   "metadata": {
    "collapsed": false
   },
   "outputs": [
    {
     "name": "stdout",
     "output_type": "stream",
     "text": [
      "           Df  Pillai approx F num Df den Df    Pr(>F)\n",
      "Group       2 0.45471   10.495      6    214 3.344e-10 ***\n",
      "Residuals 108\n",
      "---\n",
      "Signif. codes:  0 ‘***’ 0.001 ‘**’ 0.01 ‘*’ 0.05 ‘.’ 0.1 ‘ ’ 1\n"
     ]
    }
   ],
   "source": [
    "[print(i.rstrip()) for i in manovaR()['summary']];"
   ]
  },
  {
   "cell_type": "markdown",
   "metadata": {},
   "source": [
    "**RESULTS**: There seems to be a significant global difference between groups."
   ]
  },
  {
   "cell_type": "markdown",
   "metadata": {},
   "source": [
    "The next question is to determine if which of the variables does the treatment affect. In other words, we want to identify the specific dependent variables that contributed to the significant global effect. To answer this question, we can use one-way ANOVA (or univariate ANOVA) to examine separately each dependent variable.\n",
    "\n",
    "Which variables are different between groups?"
   ]
  },
  {
   "cell_type": "code",
   "execution_count": 64,
   "metadata": {
    "collapsed": false
   },
   "outputs": [
    {
     "name": "stdout",
     "output_type": "stream",
     "text": [
      " Response PC1 :\n",
      "             Df    Sum Sq    Mean Sq F value    Pr(>F)\n",
      "Group         2 0.0055272 0.00276360  37.002 5.761e-13 ***\n",
      "Residuals   108 0.0080663 0.00007469\n",
      "---\n",
      "Signif. codes:  0 ‘***’ 0.001 ‘**’ 0.01 ‘*’ 0.05 ‘.’ 0.1 ‘ ’ 1\n",
      "\n",
      " Response PC2 :\n",
      "             Df  Sum Sq  Mean Sq F value    Pr(>F)\n",
      "Group         2 0.19327 0.096634  13.001 8.724e-06 ***\n",
      "Residuals   108 0.80272 0.007433\n",
      "---\n",
      "Signif. codes:  0 ‘***’ 0.001 ‘**’ 0.01 ‘*’ 0.05 ‘.’ 0.1 ‘ ’ 1\n",
      "\n",
      " Response PC3 :\n",
      "             Df  Sum Sq  Mean Sq F value   Pr(>F)\n",
      "Group         2 0.09821 0.049104  5.8973 0.003709 **\n",
      "Residuals   108 0.89925 0.008326\n",
      "---\n",
      "Signif. codes:  0 ‘***’ 0.001 ‘**’ 0.01 ‘*’ 0.05 ‘.’ 0.1 ‘ ’ 1\n",
      "\n"
     ]
    }
   ],
   "source": [
    "[print(i.rstrip()) for i in manovaR()['summary.aov']];"
   ]
  },
  {
   "cell_type": "markdown",
   "metadata": {},
   "source": [
    "### Is there a difference between any two groups? Comparison with multiple variables - MANOVA. "
   ]
  },
  {
   "cell_type": "code",
   "execution_count": 65,
   "metadata": {
    "collapsed": false
   },
   "outputs": [
    {
     "data": {
      "text/plain": [
       "{'AC', 'AT', 'YC'}"
      ]
     },
     "execution_count": 65,
     "metadata": {},
     "output_type": "execute_result"
    }
   ],
   "source": [
    "set(comps.index.get_level_values('Group'))"
   ]
  },
  {
   "cell_type": "code",
   "execution_count": 66,
   "metadata": {
    "collapsed": false
   },
   "outputs": [
    {
     "name": "stdout",
     "output_type": "stream",
     "text": [
      "          Df  Pillai approx F num Df den Df   Pr(>F)\n",
      "Group      1 0.14721   4.4306      3     77 0.006306 **\n",
      "Residuals 79\n",
      "---\n",
      "Signif. codes:  0 ‘***’ 0.001 ‘**’ 0.01 ‘*’ 0.05 ‘.’ 0.1 ‘ ’ 1\n",
      "\n",
      "------\n",
      " Which variables contribute?\n",
      "\n",
      " Response PC1 :\n",
      "            Df    Sum Sq    Mean Sq F value  Pr(>F)\n",
      "Group        1 0.0004335 0.00043351  6.6436 0.01181 *\n",
      "Residuals   79 0.0051550 0.00006525\n",
      "---\n",
      "Signif. codes:  0 ‘***’ 0.001 ‘**’ 0.01 ‘*’ 0.05 ‘.’ 0.1 ‘ ’ 1\n",
      "\n",
      " Response PC2 :\n",
      "            Df  Sum Sq  Mean Sq F value  Pr(>F)\n",
      "Group        1 0.04339 0.043388   6.627 0.01191 *\n",
      "Residuals   79 0.51722 0.006547\n",
      "---\n",
      "Signif. codes:  0 ‘***’ 0.001 ‘**’ 0.01 ‘*’ 0.05 ‘.’ 0.1 ‘ ’ 1\n",
      "\n",
      " Response PC3 :\n",
      "            Df  Sum Sq   Mean Sq F value  Pr(>F)\n",
      "Group        1 0.03100 0.0309974   4.004 0.04883 *\n",
      "Residuals   79 0.61159 0.0077416\n",
      "---\n",
      "Signif. codes:  0 ‘***’ 0.001 ‘**’ 0.01 ‘*’ 0.05 ‘.’ 0.1 ‘ ’ 1\n",
      "\n"
     ]
    }
   ],
   "source": [
    "[print(i.rstrip()) for i in manovaR(groups = ['AC', 'AT'])['summary']];\n",
    "print('\\n------\\n Which variables contribute?\\n')\n",
    "[print(i.rstrip()) for i in manovaR(groups = ['AC', 'AT'])['summary.aov']];"
   ]
  },
  {
   "cell_type": "code",
   "execution_count": 67,
   "metadata": {
    "collapsed": false
   },
   "outputs": [
    {
     "name": "stdout",
     "output_type": "stream",
     "text": [
      "          Df  Pillai approx F num Df den Df  Pr(>F)\n",
      "Group      1 0.19294   3.1875      3     40 0.03389 *\n",
      "Residuals 42\n",
      "---\n",
      "Signif. codes:  0 ‘***’ 0.001 ‘**’ 0.01 ‘*’ 0.05 ‘.’ 0.1 ‘ ’ 1\n",
      "\n",
      "------\n",
      " Which variables contribute?\n",
      "\n",
      " Response PC1 :\n",
      "            Df    Sum Sq    Mean Sq F value   Pr(>F)\n",
      "Group        1 0.0009917 0.00099169  9.3673 0.003841 **\n",
      "Residuals   42 0.0044464 0.00010587\n",
      "---\n",
      "Signif. codes:  0 ‘***’ 0.001 ‘**’ 0.01 ‘*’ 0.05 ‘.’ 0.1 ‘ ’ 1\n",
      "\n",
      " Response PC2 :\n",
      "            Df  Sum Sq   Mean Sq F value Pr(>F)\n",
      "Group        1 0.00984 0.0098432  1.1128 0.2975\n",
      "Residuals   42 0.37151 0.0088454\n",
      "\n",
      " Response PC3 :\n",
      "            Df  Sum Sq   Mean Sq F value Pr(>F)\n",
      "Group        1 0.00152 0.0015186  0.1803 0.6733\n",
      "Residuals   42 0.35372 0.0084219\n",
      "\n"
     ]
    }
   ],
   "source": [
    "[print(i.rstrip()) for i in manovaR(groups = ['AC', 'YC'])['summary']];\n",
    "print('\\n------\\n Which variables contribute?\\n')\n",
    "[print(i.rstrip()) for i in manovaR(groups = ['AC', 'YC'])['summary.aov']];"
   ]
  },
  {
   "cell_type": "code",
   "execution_count": 68,
   "metadata": {
    "collapsed": false
   },
   "outputs": [
    {
     "name": "stdout",
     "output_type": "stream",
     "text": [
      "          Df  Pillai approx F num Df den Df    Pr(>F)\n",
      "Group      1 0.46525   26.971      3     93 1.224e-12 ***\n",
      "Residuals 95\n",
      "---\n",
      "Signif. codes:  0 ‘***’ 0.001 ‘**’ 0.01 ‘*’ 0.05 ‘.’ 0.1 ‘ ’ 1\n",
      "\n",
      "------\n",
      " Which variables contribute?\n",
      "\n",
      " Response PC1 :\n",
      "            Df    Sum Sq   Mean Sq F value    Pr(>F)\n",
      "Group        1 0.0055131 0.0055131  80.192 2.827e-14 ***\n",
      "Residuals   95 0.0065311 0.0000687\n",
      "---\n",
      "Signif. codes:  0 ‘***’ 0.001 ‘**’ 0.01 ‘*’ 0.05 ‘.’ 0.1 ‘ ’ 1\n",
      "\n",
      " Response PC2 :\n",
      "            Df  Sum Sq  Mean Sq F value    Pr(>F)\n",
      "Group        1 0.18047 0.180467  23.921 4.083e-06 ***\n",
      "Residuals   95 0.71671 0.007544\n",
      "---\n",
      "Signif. codes:  0 ‘***’ 0.001 ‘**’ 0.01 ‘*’ 0.05 ‘.’ 0.1 ‘ ’ 1\n",
      "\n",
      " Response PC3 :\n",
      "            Df  Sum Sq  Mean Sq F value   Pr(>F)\n",
      "Group        1 0.08581 0.085808  9.7837 0.002338 **\n",
      "Residuals   95 0.83320 0.008770\n",
      "---\n",
      "Signif. codes:  0 ‘***’ 0.001 ‘**’ 0.01 ‘*’ 0.05 ‘.’ 0.1 ‘ ’ 1\n",
      "\n"
     ]
    }
   ],
   "source": [
    "[print(i.rstrip()) for i in manovaR(groups = ['YC', 'AT'])['summary']];\n",
    "print('\\n------\\n Which variables contribute?\\n')\n",
    "[print(i.rstrip()) for i in manovaR(groups = ['YC', 'AT'])['summary.aov']];"
   ]
  },
  {
   "cell_type": "markdown",
   "metadata": {
    "collapsed": false
   },
   "source": [
    "### * is neurovascular decoupling different between groups?"
   ]
  },
  {
   "cell_type": "code",
   "execution_count": null,
   "metadata": {
    "collapsed": true
   },
   "outputs": [],
   "source": []
  },
  {
   "cell_type": "code",
   "execution_count": null,
   "metadata": {
    "collapsed": true
   },
   "outputs": [],
   "source": []
  },
  {
   "cell_type": "markdown",
   "metadata": {},
   "source": [
    "# Left side - right side relationships\n",
    "Values in the table are correlations between each left-side gait parameter and the corresponding right-seid gait parameter. Lowest correlations are sorted first."
   ]
  },
  {
   "cell_type": "code",
   "execution_count": 55,
   "metadata": {
    "collapsed": false,
    "scrolled": false
   },
   "outputs": [
    {
     "data": {
      "text/html": [
       "<div>\n",
       "<table border=\"1\" class=\"dataframe\">\n",
       "  <thead>\n",
       "    <tr style=\"text-align: right;\">\n",
       "      <th></th>\n",
       "      <th>group</th>\n",
       "      <th>parameter</th>\n",
       "      <th>correlation</th>\n",
       "    </tr>\n",
       "  </thead>\n",
       "  <tbody>\n",
       "    <tr>\n",
       "      <th>73</th>\n",
       "      <td>ss31 aged injected</td>\n",
       "      <td>H_BodySpeed_(cm/s)_Mean</td>\n",
       "      <td>0.001925</td>\n",
       "    </tr>\n",
       "    <tr>\n",
       "      <th>12</th>\n",
       "      <td>Aged Ctrl</td>\n",
       "      <td>F_MinIntensity_Mean</td>\n",
       "      <td>0.002450</td>\n",
       "    </tr>\n",
       "    <tr>\n",
       "      <th>108</th>\n",
       "      <td>young ctrl</td>\n",
       "      <td>F_MinIntensity_Mean</td>\n",
       "      <td>0.002692</td>\n",
       "    </tr>\n",
       "    <tr>\n",
       "      <th>49</th>\n",
       "      <td>ss31 aged injected</td>\n",
       "      <td>F_BodySpeed_(cm/s)_Mean</td>\n",
       "      <td>0.002911</td>\n",
       "    </tr>\n",
       "    <tr>\n",
       "      <th>132</th>\n",
       "      <td>young ctrl</td>\n",
       "      <td>H_MinIntensity_Mean</td>\n",
       "      <td>0.004482</td>\n",
       "    </tr>\n",
       "    <tr>\n",
       "      <th>97</th>\n",
       "      <td>young ctrl</td>\n",
       "      <td>F_BodySpeed_(cm/s)_Mean</td>\n",
       "      <td>0.006507</td>\n",
       "    </tr>\n",
       "    <tr>\n",
       "      <th>121</th>\n",
       "      <td>young ctrl</td>\n",
       "      <td>H_BodySpeed_(cm/s)_Mean</td>\n",
       "      <td>0.007488</td>\n",
       "    </tr>\n",
       "    <tr>\n",
       "      <th>48</th>\n",
       "      <td>ss31 aged injected</td>\n",
       "      <td>F_BodySpeedVariation_(%)_Mean</td>\n",
       "      <td>0.009124</td>\n",
       "    </tr>\n",
       "    <tr>\n",
       "      <th>36</th>\n",
       "      <td>Aged Ctrl</td>\n",
       "      <td>H_MinIntensity_Mean</td>\n",
       "      <td>0.010267</td>\n",
       "    </tr>\n",
       "    <tr>\n",
       "      <th>1</th>\n",
       "      <td>Aged Ctrl</td>\n",
       "      <td>F_BodySpeed_(cm/s)_Mean</td>\n",
       "      <td>0.012837</td>\n",
       "    </tr>\n",
       "  </tbody>\n",
       "</table>\n",
       "</div>"
      ],
      "text/plain": [
       "                  group                      parameter  correlation\n",
       "73   ss31 aged injected        H_BodySpeed_(cm/s)_Mean     0.001925\n",
       "12            Aged Ctrl            F_MinIntensity_Mean     0.002450\n",
       "108          young ctrl            F_MinIntensity_Mean     0.002692\n",
       "49   ss31 aged injected        F_BodySpeed_(cm/s)_Mean     0.002911\n",
       "132          young ctrl            H_MinIntensity_Mean     0.004482\n",
       "97           young ctrl        F_BodySpeed_(cm/s)_Mean     0.006507\n",
       "121          young ctrl        H_BodySpeed_(cm/s)_Mean     0.007488\n",
       "48   ss31 aged injected  F_BodySpeedVariation_(%)_Mean     0.009124\n",
       "36            Aged Ctrl            H_MinIntensity_Mean     0.010267\n",
       "1             Aged Ctrl        F_BodySpeed_(cm/s)_Mean     0.012837"
      ]
     },
     "execution_count": 55,
     "metadata": {},
     "output_type": "execute_result"
    }
   ],
   "source": [
    "corrs = corr_L_R(full_df)\n",
    "#corrs.groupby(corrs.index.get_level_values(0)).apply(lambda x: x.sort_values('correlation', ascending=True))\n",
    "corrs.sort_values('correlation', ascending=True).head(10)"
   ]
  },
  {
   "cell_type": "code",
   "execution_count": 60,
   "metadata": {
    "collapsed": false
   },
   "outputs": [
    {
     "data": {
      "text/html": [
       "<div>\n",
       "<table border=\"1\" class=\"dataframe\">\n",
       "  <thead>\n",
       "    <tr style=\"text-align: right;\">\n",
       "      <th></th>\n",
       "      <th>group</th>\n",
       "      <th>parameter</th>\n",
       "      <th>correlation</th>\n",
       "    </tr>\n",
       "  </thead>\n",
       "  <tbody>\n",
       "    <tr>\n",
       "      <th>56</th>\n",
       "      <td>ss31 aged injected</td>\n",
       "      <td>F_MaxIntensityAt_(%)_Mean</td>\n",
       "      <td>0.682724</td>\n",
       "    </tr>\n",
       "    <tr>\n",
       "      <th>119</th>\n",
       "      <td>young ctrl</td>\n",
       "      <td>F_TerminalDualStance_(s)_Mean</td>\n",
       "      <td>0.694058</td>\n",
       "    </tr>\n",
       "    <tr>\n",
       "      <th>8</th>\n",
       "      <td>Aged Ctrl</td>\n",
       "      <td>F_MaxIntensityAt_(%)_Mean</td>\n",
       "      <td>0.754061</td>\n",
       "    </tr>\n",
       "    <tr>\n",
       "      <th>101</th>\n",
       "      <td>young ctrl</td>\n",
       "      <td>F_MaxContactAt_(%)_Mean</td>\n",
       "      <td>0.769689</td>\n",
       "    </tr>\n",
       "    <tr>\n",
       "      <th>143</th>\n",
       "      <td>young ctrl</td>\n",
       "      <td>H_TerminalDualStance_(s)_Mean</td>\n",
       "      <td>0.795289</td>\n",
       "    </tr>\n",
       "    <tr>\n",
       "      <th>87</th>\n",
       "      <td>ss31 aged injected</td>\n",
       "      <td>H_PrintWidth_(cm)_Mean</td>\n",
       "      <td>0.817555</td>\n",
       "    </tr>\n",
       "    <tr>\n",
       "      <th>98</th>\n",
       "      <td>young ctrl</td>\n",
       "      <td>F_DutyCycle_(%)_Mean</td>\n",
       "      <td>0.819050</td>\n",
       "    </tr>\n",
       "    <tr>\n",
       "      <th>99</th>\n",
       "      <td>young ctrl</td>\n",
       "      <td>F_InitialDualStance_(s)_Mean</td>\n",
       "      <td>0.849692</td>\n",
       "    </tr>\n",
       "    <tr>\n",
       "      <th>142</th>\n",
       "      <td>young ctrl</td>\n",
       "      <td>H_Swing_(s)_Mean</td>\n",
       "      <td>0.852383</td>\n",
       "    </tr>\n",
       "    <tr>\n",
       "      <th>123</th>\n",
       "      <td>young ctrl</td>\n",
       "      <td>H_InitialDualStance_(s)_Mean</td>\n",
       "      <td>1.039210</td>\n",
       "    </tr>\n",
       "  </tbody>\n",
       "</table>\n",
       "</div>"
      ],
      "text/plain": [
       "                  group                      parameter  correlation\n",
       "56   ss31 aged injected      F_MaxIntensityAt_(%)_Mean     0.682724\n",
       "119          young ctrl  F_TerminalDualStance_(s)_Mean     0.694058\n",
       "8             Aged Ctrl      F_MaxIntensityAt_(%)_Mean     0.754061\n",
       "101          young ctrl        F_MaxContactAt_(%)_Mean     0.769689\n",
       "143          young ctrl  H_TerminalDualStance_(s)_Mean     0.795289\n",
       "87   ss31 aged injected         H_PrintWidth_(cm)_Mean     0.817555\n",
       "98           young ctrl           F_DutyCycle_(%)_Mean     0.819050\n",
       "99           young ctrl   F_InitialDualStance_(s)_Mean     0.849692\n",
       "142          young ctrl               H_Swing_(s)_Mean     0.852383\n",
       "123          young ctrl   H_InitialDualStance_(s)_Mean     1.039210"
      ]
     },
     "execution_count": 60,
     "metadata": {},
     "output_type": "execute_result"
    }
   ],
   "source": [
    "corrs.sort_values('correlation', ascending=True).tail(10)"
   ]
  },
  {
   "cell_type": "code",
   "execution_count": 65,
   "metadata": {
    "collapsed": false
   },
   "outputs": [
    {
     "data": {
      "text/html": [
       "<div>\n",
       "<table border=\"1\" class=\"dataframe\">\n",
       "  <thead>\n",
       "    <tr style=\"text-align: right;\">\n",
       "      <th></th>\n",
       "      <th></th>\n",
       "      <th>parameter</th>\n",
       "      <th>correlation</th>\n",
       "    </tr>\n",
       "    <tr>\n",
       "      <th>group</th>\n",
       "      <th></th>\n",
       "      <th></th>\n",
       "      <th></th>\n",
       "    </tr>\n",
       "  </thead>\n",
       "  <tbody>\n",
       "    <tr>\n",
       "      <th rowspan=\"5\" valign=\"top\">Aged Ctrl</th>\n",
       "      <th>12</th>\n",
       "      <td>F_MinIntensity_Mean</td>\n",
       "      <td>0.002450</td>\n",
       "    </tr>\n",
       "    <tr>\n",
       "      <th>36</th>\n",
       "      <td>H_MinIntensity_Mean</td>\n",
       "      <td>0.010267</td>\n",
       "    </tr>\n",
       "    <tr>\n",
       "      <th>1</th>\n",
       "      <td>F_BodySpeed_(cm/s)_Mean</td>\n",
       "      <td>0.012837</td>\n",
       "    </tr>\n",
       "    <tr>\n",
       "      <th>25</th>\n",
       "      <td>H_BodySpeed_(cm/s)_Mean</td>\n",
       "      <td>0.018651</td>\n",
       "    </tr>\n",
       "    <tr>\n",
       "      <th>13</th>\n",
       "      <td>F_PrintArea_(cm²)_Mean</td>\n",
       "      <td>0.020817</td>\n",
       "    </tr>\n",
       "    <tr>\n",
       "      <th rowspan=\"5\" valign=\"top\">ss31 aged injected</th>\n",
       "      <th>73</th>\n",
       "      <td>H_BodySpeed_(cm/s)_Mean</td>\n",
       "      <td>0.001925</td>\n",
       "    </tr>\n",
       "    <tr>\n",
       "      <th>49</th>\n",
       "      <td>F_BodySpeed_(cm/s)_Mean</td>\n",
       "      <td>0.002911</td>\n",
       "    </tr>\n",
       "    <tr>\n",
       "      <th>48</th>\n",
       "      <td>F_BodySpeedVariation_(%)_Mean</td>\n",
       "      <td>0.009124</td>\n",
       "    </tr>\n",
       "    <tr>\n",
       "      <th>92</th>\n",
       "      <td>H_StrideLength_(cm)_Mean</td>\n",
       "      <td>0.013699</td>\n",
       "    </tr>\n",
       "    <tr>\n",
       "      <th>68</th>\n",
       "      <td>F_StrideLength_(cm)_Mean</td>\n",
       "      <td>0.015067</td>\n",
       "    </tr>\n",
       "    <tr>\n",
       "      <th rowspan=\"5\" valign=\"top\">young ctrl</th>\n",
       "      <th>108</th>\n",
       "      <td>F_MinIntensity_Mean</td>\n",
       "      <td>0.002692</td>\n",
       "    </tr>\n",
       "    <tr>\n",
       "      <th>132</th>\n",
       "      <td>H_MinIntensity_Mean</td>\n",
       "      <td>0.004482</td>\n",
       "    </tr>\n",
       "    <tr>\n",
       "      <th>97</th>\n",
       "      <td>F_BodySpeed_(cm/s)_Mean</td>\n",
       "      <td>0.006507</td>\n",
       "    </tr>\n",
       "    <tr>\n",
       "      <th>121</th>\n",
       "      <td>H_BodySpeed_(cm/s)_Mean</td>\n",
       "      <td>0.007488</td>\n",
       "    </tr>\n",
       "    <tr>\n",
       "      <th>120</th>\n",
       "      <td>H_BodySpeedVariation_(%)_Mean</td>\n",
       "      <td>0.025727</td>\n",
       "    </tr>\n",
       "  </tbody>\n",
       "</table>\n",
       "</div>"
      ],
      "text/plain": [
       "                                            parameter  correlation\n",
       "group                                                             \n",
       "Aged Ctrl          12             F_MinIntensity_Mean     0.002450\n",
       "                   36             H_MinIntensity_Mean     0.010267\n",
       "                   1          F_BodySpeed_(cm/s)_Mean     0.012837\n",
       "                   25         H_BodySpeed_(cm/s)_Mean     0.018651\n",
       "                   13          F_PrintArea_(cm²)_Mean     0.020817\n",
       "ss31 aged injected 73         H_BodySpeed_(cm/s)_Mean     0.001925\n",
       "                   49         F_BodySpeed_(cm/s)_Mean     0.002911\n",
       "                   48   F_BodySpeedVariation_(%)_Mean     0.009124\n",
       "                   92        H_StrideLength_(cm)_Mean     0.013699\n",
       "                   68        F_StrideLength_(cm)_Mean     0.015067\n",
       "young ctrl         108            F_MinIntensity_Mean     0.002692\n",
       "                   132            H_MinIntensity_Mean     0.004482\n",
       "                   97         F_BodySpeed_(cm/s)_Mean     0.006507\n",
       "                   121        H_BodySpeed_(cm/s)_Mean     0.007488\n",
       "                   120  H_BodySpeedVariation_(%)_Mean     0.025727"
      ]
     },
     "execution_count": 65,
     "metadata": {},
     "output_type": "execute_result"
    }
   ],
   "source": [
    "corrs.groupby('group').apply(lambda x: x.sort_values('correlation', ascending=True).head())\\\n",
    "        .drop('group',1)"
   ]
  },
  {
   "cell_type": "code",
   "execution_count": null,
   "metadata": {
    "collapsed": true
   },
   "outputs": [],
   "source": []
  },
  {
   "cell_type": "code",
   "execution_count": null,
   "metadata": {
    "collapsed": true
   },
   "outputs": [],
   "source": []
  }
 ],
 "metadata": {
  "celltoolbar": "Raw Cell Format",
  "kernelspec": {
   "display_name": "Python 3",
   "language": "python",
   "name": "python3"
  },
  "language_info": {
   "codemirror_mode": {
    "name": "ipython",
    "version": 3
   },
   "file_extension": ".py",
   "mimetype": "text/x-python",
   "name": "python",
   "nbconvert_exporter": "python",
   "pygments_lexer": "ipython3",
   "version": "3.6.0"
  }
 },
 "nbformat": 4,
 "nbformat_minor": 2
}
